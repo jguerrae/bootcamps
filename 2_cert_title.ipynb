{
 "cells": [
  {
   "cell_type": "code",
   "execution_count": 9,
   "metadata": {},
   "outputs": [],
   "source": [
    "import pandas as pd\n",
    "import re\n",
    "import numpy as np\n",
    "## to not overwrite other files\n",
    "fileOut = \"2_cert_title_boots.xlsx\""
   ]
  },
  {
   "cell_type": "code",
   "execution_count": 10,
   "metadata": {},
   "outputs": [],
   "source": [
    "df = pd.read_csv(\"DF_BOOTCAMPS_2591.csv\")"
   ]
  },
  {
   "cell_type": "code",
   "execution_count": 11,
   "metadata": {},
   "outputs": [],
   "source": [
    "#CONSERVAR A TODOS AQUELLOS QUE NO TENGAN MISSING VALUES EN EDUCATION Y CERTIFICATION. \n",
    "\n",
    "\n",
    "\n",
    "dfc = df[df[\"certifications\"].notna()] #DATAFRAME DE CERTIFICACIÓN\n",
    "dfc = dfc.reset_index(drop = True) #REINICIAR INDICE"
   ]
  },
  {
   "cell_type": "code",
   "execution_count": 12,
   "metadata": {},
   "outputs": [
    {
     "output_type": "execute_result",
     "data": {
      "text/plain": [
       "Index(['id', 'scraping_services_id', 'linkedin_id', 'linkedin_profile_url',\n",
       "       'last_name', 'first_name', 'v_extension', 'location', 'job_title',\n",
       "       'company', 'job_history', 'snapshots', 'skills', 'education', 'about',\n",
       "       'updated', 'middle_name', 'num_connections', 'interests', 'volunteered',\n",
       "       'certifications', 'languages', 'recommendations', 'publications',\n",
       "       'patents', 'industry', 'titles', 'company_name_complete',\n",
       "       'job_title_complete'],\n",
       "      dtype='object')"
      ]
     },
     "metadata": {},
     "execution_count": 12
    }
   ],
   "source": [
    "dfc.columns"
   ]
  },
  {
   "cell_type": "code",
   "execution_count": 13,
   "metadata": {},
   "outputs": [
    {
     "output_type": "execute_result",
     "data": {
      "text/plain": [
       "(888, 29)"
      ]
     },
     "metadata": {},
     "execution_count": 13
    }
   ],
   "source": [
    "dfc.shape"
   ]
  },
  {
   "cell_type": "code",
   "execution_count": null,
   "metadata": {},
   "outputs": [],
   "source": []
  },
  {
   "cell_type": "code",
   "execution_count": 14,
   "metadata": {},
   "outputs": [],
   "source": [
    "# REGEX DE BOOTCAMPS\n",
    "boots =['4[ -]?geeks',\n",
    " 'ac.mica',\n",
    " 'ada.?itw',\n",
    " 'bedu[ -]?tech', \n",
    " 'bogot.[ -]?dev| bogot.[ -]?bootcamp',\n",
    " 'bootcamp[ -]?institute',\n",
    " 'coderise|coderise.?international',\n",
    " 'desaf.o[ -]?latam',\n",
    " 'dev ?f\\.',\n",
    " 'dev f\\\\.'\n",
    " 'digital[ -]?house',\n",
    " 'generation[ -]?m.xico',\n",
    " 'hack.?academy',\n",
    " 'hola.?code',\n",
    " 'holberton.?school',\n",
    " 'icreate[ -]?limited|icreate|icreate[ -]?coding[ -]?academy| icreate[ -]?coding',\n",
    " 'ijalti', \n",
    " 'iron.?hack',\n",
    " 'j.venes[ -]?a[ -]?programar',\n",
    " 'keep.?coding',\n",
    " 'kod[ -]?1[ -]?go',\n",
    " 'laborat.ria ', \n",
    " 'le.?wagon', \n",
    " 'make[ -]?it[ -]?real[ -]?camp| make[ -]?it[ -]?real',\n",
    " 'mind.?hub',\n",
    " 'muktek|muk.?tek', \n",
    " 'nivel[ -]?pro ', \n",
    " 'noukod|noukood|noukd', \n",
    " 'plataforma[ -]?5',\n",
    " 'programa[ -]?valentina',\n",
    " 'reprograma',\n",
    " 'worldtech', \n",
    " 'bictia|bi.?tia', \n",
    " 'talento[ -]?digital']"
   ]
  },
  {
   "cell_type": "markdown",
   "metadata": {},
   "source": [
    "# EXTRAER FORMACIÓN DESDE EL DATASET DE LOS NO-MISSING VALUES DE EDUCACIÓN"
   ]
  },
  {
   "cell_type": "code",
   "execution_count": 15,
   "metadata": {},
   "outputs": [],
   "source": [
    "#CONVERTIR EN STRING\n",
    "dfc[\"certifications\"] =  dfc[\"certifications\"].str.lower()"
   ]
  },
  {
   "cell_type": "code",
   "execution_count": 16,
   "metadata": {
    "tags": []
   },
   "outputs": [
    {
     "output_type": "execute_result",
     "data": {
      "text/plain": [
       "\"{'certificate_authority': 'nepal engineering council', 'end': 'present', 'start': 'august 2014', 'title': 'certificate for the registered engineer'}\""
      ]
     },
     "metadata": {},
     "execution_count": 16
    }
   ],
   "source": [
    "#CONVERTIR EN DICCIONARIOS LA EDUCACIÓN\n",
    "L = []\n",
    "\n",
    "for i in dfc[\"certifications\"]:    \n",
    "    l = str(i).split(\"},\") #convertir en string la formación del individuo y crear lista para separar cada formación\n",
    "    k = [] #Lista donde se almacenara cada formación x del individuo i\n",
    "    for formacion in l: #para cada formación\n",
    "        #print(\"ln\", formacion)\n",
    "        formacion = formacion.replace(\"[\", \"\").replace(\"]\", \"\") + \"}\" #separelas y conviertalas en diccionarios\n",
    "        k.append(formacion) #añadalas a la lista de formación\n",
    "    L.append(k) #añada la lista de formación para individuo\n",
    "\n",
    "#VER UN EJEMPLO: Esta es la última formación del primer individuo desordenada en diccionario pero como un string   \n",
    "L[0][0]"
   ]
  },
  {
   "cell_type": "code",
   "execution_count": 17,
   "metadata": {},
   "outputs": [
    {
     "output_type": "execute_result",
     "data": {
      "text/plain": [
       "{'certificate_authority': 'nepal engineering council',\n",
       " 'title': 'certificate for the registered engineer',\n",
       " 'start': 'august 2014',\n",
       " 'end': 'present'}"
      ]
     },
     "metadata": {},
     "execution_count": 17
    }
   ],
   "source": [
    "K = [] #LISTA D ELISTAS EN DONDE SE ALMACENARAN LAS FORMACIONES A MANERA DE DICCIONARIO PARA CADA INDIVIDUO\n",
    "regxCerAuth = \"'certificate_authority': '.*?'\"\n",
    "regexTitle = \"'title': '.*?'\"\n",
    "\n",
    "for individuo in L: #para cada individuo\n",
    "\n",
    "    educacion_ind = [] #creo una lista de sus educaciones\n",
    "\n",
    "    for ins in individuo: # para cada cada formación dentro de las formaciones de cada individuos\n",
    "        ins = ins.replace('\"', \"'\")\n",
    "\n",
    "        c = {}\n",
    "\n",
    "        #CADA CAMPO SE EXTRAE POR MEDIO DE RegEx, COMUNES A TODOS LAS FORMACIONES STR DE LOS INDIVIDUOS EN EL DATASET\n",
    "        #CADA CAMPO SE EXTRAE EN CASO DE QUE EXISTA DE LO CONTRARIO NO\n",
    "\n",
    "        #EXTRAER EDUCACIÓN\n",
    "        if ( len(re.findall(\"'certificate_authority': '.*?'\", ins)) ) > 0:\n",
    "            c[\"certificate_authority\"] =  re.findall(\"'certificate_authority': '.*?'\", ins)[0].replace(\"'certificate_authority': \", \"\").replace(\"'\", \"\")\n",
    "\n",
    "        #EXTRAER DEGREE\n",
    "        if ( len(re.findall(regexTitle, ins)) ) > 0:\n",
    "            c[\"title\"] =  re.findall(\"'title': '.*?'\", ins)[0].replace(\"'title': \", \"\").replace(\"'\", \"\")\n",
    "\n",
    "        \n",
    "\n",
    "\n",
    "        #EXTRAER INICIO\n",
    "        if ( len(re.findall(\"'start': '.*?'\", ins)) ) > 0:\n",
    "            c[\"start\"] = re.findall(\"'start': '.*?'\", ins)[0].replace(\"'start': \", \"\").replace(\"'\", \"\")\n",
    "\n",
    "        #EXTRAER FINALIZACIÓN\n",
    "        if ( len(re.findall(\"'end': '.*?'\", ins)) ) > 0:\n",
    "            c[\"end\"] = re.findall(\"'end': '.*?'\", ins)[0].replace(\"'end': \", \"\").replace(\"'\", \"\")\n",
    "\n",
    "        educacion_ind.append(c) #añado cada formación a la lista de sus educaciones\n",
    "    \n",
    "    K.append(educacion_ind) #añado la educación de cada individuo a una lista general\n",
    "\n",
    "#VER UN EJEMPLO: Esta es la última formación del primer individuo ordenada en un diccionario\n",
    "K[0][0]"
   ]
  },
  {
   "cell_type": "code",
   "execution_count": 18,
   "metadata": {},
   "outputs": [],
   "source": [
    "#CREAR COLUMNA LIMPIA DE EDUCACIÓN\n",
    "dfc[\"certifications\"] = K"
   ]
  },
  {
   "cell_type": "code",
   "execution_count": 19,
   "metadata": {},
   "outputs": [
    {
     "output_type": "execute_result",
     "data": {
      "text/plain": [
       "{'certificate_authority': 'nepal engineering council',\n",
       " 'title': 'certificate for the registered engineer',\n",
       " 'start': 'august 2014',\n",
       " 'end': 'present'}"
      ]
     },
     "metadata": {},
     "execution_count": 19
    }
   ],
   "source": [
    "#VER UN EJEMPLO: Esta es la última formación del primer individuo ordenada en un diccionario\n",
    "dfc.certifications[0][0]"
   ]
  },
  {
   "cell_type": "code",
   "execution_count": 20,
   "metadata": {},
   "outputs": [],
   "source": [
    "lista_boots = ['4Geeks',\n",
    " 'Acámica',\n",
    " 'Ada ITW',\n",
    " 'Bedu Tech',\n",
    " 'Bogotá Dev',\n",
    " 'Bootcamp Institute',\n",
    " 'Coderise International',\n",
    " 'Desafío Latam',\n",
    " 'Dev F.',\n",
    " 'Digital House',\n",
    " 'Generation Mexico',\n",
    " 'Hack Academy',\n",
    " 'HolaCode',\n",
    " 'Holberton School',\n",
    " 'iCreate Coding Academy',\n",
    " 'IJALTI',\n",
    " 'Iron Hack',\n",
    " 'Jóvenes a Programar',\n",
    " 'Keep Coding',\n",
    " 'Kod1go',\n",
    " 'Laboratoria',\n",
    " 'Le Wagon',\n",
    " 'Make it Real Camp',\n",
    " 'MindHub ',\n",
    " 'Muktek Academy',\n",
    " 'Nivel Pro',\n",
    " 'Noukod',\n",
    " 'Plataforma 5',\n",
    " 'Programa Valentina',\n",
    " 'Pygmalion',\n",
    " 'Reprograma',\n",
    " 'World Tech Inc (a.k.a. World Tech Makers –WTM–)',\n",
    " 'BICTIA',\n",
    " 'Talento Digital']"
   ]
  },
  {
   "cell_type": "code",
   "execution_count": 21,
   "metadata": {},
   "outputs": [],
   "source": [
    "# REGEX DE BOOTCAMPS\n",
    "boots =['4[ -]?geeks',\n",
    " 'ac.mica',\n",
    " 'ada.?itw',\n",
    " 'bedu[ -]?tech', \n",
    " 'bogot.[ -]?dev| bogot.[ -]?bootcamp',\n",
    " 'bootcamp[ -]?institute',\n",
    " 'coderise|coderise.?international',\n",
    " 'desaf.o[ -]?latam',\n",
    " 'dev ?f\\.',\n",
    " 'digital[ -]?house',\n",
    " 'generation[ -]?m.xico',\n",
    " 'hack.?academy',\n",
    " 'hola.?code',\n",
    " 'holberton.?school',\n",
    " 'icreate[ -]?limited|icreate|icreate[ -]?coding[ -]?academy| icreate[ -]?coding',\n",
    " 'ijalti', \n",
    " 'iron.?hack',\n",
    " 'j.venes[ -]?a[ -]?programar',\n",
    " 'keep.?coding|keep.?coding.io',\n",
    " 'kod[ -]?1[ -]?go',\n",
    " 'laborat.ria ', \n",
    " 'le.?wagon', \n",
    " 'make[ -]?it[ -]?real[ -]?camp| make[ -]?it[ -]?real',\n",
    " 'mind.?hub',\n",
    " 'muktek|muk.?tek', \n",
    " 'nivel[ -]?pro ', \n",
    " 'noukod|noukood|noukd', \n",
    " 'plataforma[ -]?5',\n",
    " 'programa[ -]?valentina',\n",
    " 'pygmalion'\n",
    " 'reprograma',\n",
    " 'worldtech$',  #se cambió  para que solo termine con $\n",
    " 'bictia|bi.?tia', \n",
    " 'talento[ -]?digital$'] #\n",
    "\n",
    " #VERDE: MÁS GRANDES DE LA, #AMARILLOS: MEDIANOS\n",
    " #EN PRINCIPIOS LOS VERDES SON LOS QUE DEBERIAN APARECER MÁS EN LOS PERFILES, EN PRINCIPIO.\n",
    "\n",
    "\n",
    " #BASE: LINKED-IN: + DIFICIL PARA HACER SCRAPING. EMPRESAS VENDEN DATOS (OBTUVIERON HACIENDO SCRAPING), PERFILES EGRESADOS DE BOOTCAMPS DE LISTA DE BOOTCAMPS EN LA. 3 RONDAS DE INTENTOS Y MANDAN MUESTRA PEQUEÑA. SUGIEREN MUCHOS DE LOS CAMBIOS.abs\n",
    "\n",
    " #NEGOCIACIÓN, PERFILES Y CUÁNTO CUESTA. MAX 8MIL. CADA FALSO POSITIVO ES UN PROBLEMA. \n",
    " # LLEGABAN A MIL, PARECIA QUE FP NO ERAN PROBLEMA: MEJOR ESTRATEGIA PALABRAS GENERALES Y TRAEMOS 5MIL PERFILES Y DENTRO DE ESA DEBEN DE ESTAR TODOS ESTUDIANTES DE PERFILES PROFESIONALES DE BOOTCAMPS.\n",
    " # EGRESADOS EN LATIRNOAMERICA DEBERÍAN SER MUCHO MÁS DE 8MIL, EJ: DIGITAL HOUSE HABLAN DE 100MIL EGRESADOS\n",
    "\n",
    " #NO REPRESENTATIVIDAD: MUCHOS EGRESADOS POCA MUESTRA, NO TODOS TIENEN PERFIL DE LINKED-IN\n",
    "\n",
    " #PRIORIDAD"
   ]
  },
  {
   "cell_type": "code",
   "execution_count": 22,
   "metadata": {},
   "outputs": [
    {
     "output_type": "stream",
     "name": "stdout",
     "text": [
      "nan---['hack academy']---hack.?academy--biohack academy \n",
      " \n",
      "\n",
      "Grafisch ontwerper---['hack academy']---hack.?academy--biohack academy \n",
      " \n",
      "\n",
      "Company Director---['icreate']---icreate[ -]?limited|icreate|icreate[ -]?coding[ -]?academy| icreate[ -]?coding--appointed company director at icreatedreamz.biz limited \n",
      " \n",
      "\n",
      "Company Director---['icreate']---icreate[ -]?limited|icreate|icreate[ -]?coding[ -]?academy| icreate[ -]?coding--icreatedreamz.biz \n",
      " \n",
      "\n",
      "Graphic Designer---['icreate']---icreate[ -]?limited|icreate|icreate[ -]?coding[ -]?academy| icreate[ -]?coding--certificate in digital media (icreate) \n",
      " \n",
      "\n",
      "Consultant---['icreate']---icreate[ -]?limited|icreate|icreate[ -]?coding[ -]?academy| icreate[ -]?coding--explore icreate entrepreneurship program \n",
      " \n",
      "\n",
      "Community Volunteer---['icreate']---icreate[ -]?limited|icreate|icreate[ -]?coding[ -]?academy| icreate[ -]?coding--icreate trainer certification \n",
      " \n",
      "\n",
      "Senior Marketing Designer---['icreate']---icreate[ -]?limited|icreate|icreate[ -]?coding[ -]?academy| icreate[ -]?coding--natcoll design technology - certificate in icreate (2005) \n",
      " \n",
      "\n",
      "French Teacher---['icreate']---icreate[ -]?limited|icreate|icreate[ -]?coding[ -]?academy| icreate[ -]?coding--icreate, iinnovate, ieducate with ipads in the primary classroom \n",
      " \n",
      "\n",
      "Wealth Advisor---['icreate']---icreate[ -]?limited|icreate|icreate[ -]?coding[ -]?academy| icreate[ -]?coding--icreate \n",
      " \n",
      "\n",
      "Lead Software Engineer---['keepcoding']---keep.?coding|keep.?coding.io--curso de git en la plataforma keepcoding.io \n",
      " \n",
      "\n",
      "VP Software Delivery and Head of Development---['keepcoding']---keep.?coding|keep.?coding.io--keepcoding startup engineering master bootcamp i \n",
      " \n",
      "\n",
      "nan---['laboratoria ']---laborat.ria --integrale kwaliteitszorg in laboratoria in de gezondheidszorg \n",
      " \n",
      "\n",
      "Senior Application Developer---[' make it real']---make[ -]?it[ -]?real[ -]?camp| make[ -]?it[ -]?real--microsoft “architecture and design for microsoft dynamics ax2009 ramp and make it real” \n",
      " \n",
      "\n",
      "Specialist-PR---[' make it real']---make[ -]?it[ -]?real[ -]?camp| make[ -]?it[ -]?real--race to make it real \n",
      " \n",
      "\n"
     ]
    }
   ],
   "source": [
    "#LOOP PARA BUSCAR SI EL INDIVIDUO TIENE FORMACIÓN EN ALGÚN BOOTCAMP\n",
    "c = []\n",
    "for boot in range(len(boots)): #PARA CADA BOOTCAMP\n",
    "    for i in range(len(dfc.certifications)): #PARA CADA INDIVIDUO\n",
    "        for h in range(len(dfc.certifications[i])): #DENTRO LA EDUCACIÓN DE CADA INDIVIDUO\n",
    "            if \"title\" in dfc.certifications[i][h]: #SI TIENE EL CAMPO EDUCACIÓN\n",
    "                A = re.findall(boots[boot], dfc.certifications[i][h][\"title\"]) #REVISA SI ESTÁ EN UN BOOTCAMP\n",
    "                if len(A) > 0 : #SI ESA REVISIÓN ES NO VACÍA\n",
    "                    c.append((dfc.id[i], boots[boot], lista_boots[boot], dfc.certifications[i][h]['title']))\n",
    "                    # c.append((dfe.id[i], h)) #AÑADE EL ID DE ESE INDIVIDUO Y EL LUGAR DONDE ESTÁ ESA EDUCACIÓN\n",
    "                    print(f\"{dfc['job_title'][i]}---{A}---{boots[boot]}--{dfc.certifications[i][h]['title']} \\n \\n\")\n",
    "            \n",
    "            # if \"certificate_authority\" in dfc.certifications[i][h]: #SI TIENE EL CAMPO EDUCACIÓN\n",
    "            #     A = re.findall(boots[boot], dfc.certifications[i][h][\"certificate_authority\"]) #REVISA SI ESTÁ EN UN BOOTCAMP\n",
    "            #     if len(A) > 0 : #SI ESA REVISIÓN ES NO VACÍA\n",
    "            #         c.append((dfc.id[i], boots[boot], lista_boots[boot], dfc.certifications[i][h]['certificate_authority']))\n",
    "            #         # c.append((dfe.id[i], h)) #AÑADE EL ID DE ESE INDIVIDUO Y EL LUGAR DONDE ESTÁ ESA EDUCACIÓN\n",
    "            #         print(f\"{dfc['job_title'][i]}---{A}---{boots[boot]}--{dfc.certifications[i][h]['certificate_authority']} \\n \\n\")\n",
    "                    \n",
    "\n",
    "\n",
    "            #LOOP SIN INDICE\n",
    "            # for edu in dfe.educacion[i]:\n",
    "            # if \"education\" in edu:\n",
    "            #     # print(boot, edu[\"education\"])\n",
    "            #     A = re.findall(boot, edu[\"education\"])\n",
    "            #     if len(A) > 0:\n",
    "            #         c.append(A)\n",
    "            #         m.append(boot)\n",
    "            #         print(f\" {dfe['job_title'][i]} -- {A} -- {boot} -- {edu['education']} \\n \\n\")\n",
    "            #         # print(f\"{A} -- {boot} -- {edu['education']}\")"
   ]
  },
  {
   "cell_type": "code",
   "execution_count": 23,
   "metadata": {},
   "outputs": [],
   "source": [
    "#CREAR DATAFRAME\n",
    "\n",
    "c = list(set(c))\n",
    "educ_boots = pd.DataFrame.from_records(c, columns=['id', 'regex_bootcamp', 'bootcamp', \"match\"])"
   ]
  },
  {
   "cell_type": "code",
   "execution_count": 24,
   "metadata": {},
   "outputs": [],
   "source": [
    "#HACER MERGE CON EL RESTO DE COLUMNAS\n",
    "educ_boots = pd.merge(educ_boots, dfc, \"left\", \"id\")\n",
    "educ_boots.to_excel(fileOut, index = False)"
   ]
  },
  {
   "cell_type": "code",
   "execution_count": 25,
   "metadata": {},
   "outputs": [
    {
     "output_type": "error",
     "ename": "NameError",
     "evalue": "name 'df_educ' is not defined",
     "traceback": [
      "\u001b[1;31m---------------------------------------------------------------------------\u001b[0m",
      "\u001b[1;31mNameError\u001b[0m                                 Traceback (most recent call last)",
      "\u001b[1;32m<ipython-input-25-64ada9e696a5>\u001b[0m in \u001b[0;36m<module>\u001b[1;34m\u001b[0m\n\u001b[1;32m----> 1\u001b[1;33m \u001b[0mdf_educ\u001b[0m\u001b[1;33m\u001b[0m\u001b[1;33m\u001b[0m\u001b[0m\n\u001b[0m",
      "\u001b[1;31mNameError\u001b[0m: name 'df_educ' is not defined"
     ]
    }
   ],
   "source": []
  },
  {
   "cell_type": "code",
   "execution_count": null,
   "metadata": {},
   "outputs": [],
   "source": []
  }
 ],
 "metadata": {
  "kernelspec": {
   "name": "python385jvsc74a57bd006cb5fed7a19db1a3b234843391dc1a69eede94e92f070202b04797e91c1cb37",
   "display_name": "Python 3.8.5 64-bit (conda)"
  },
  "language_info": {
   "codemirror_mode": {
    "name": "ipython",
    "version": 3
   },
   "file_extension": ".py",
   "mimetype": "text/x-python",
   "name": "python",
   "nbconvert_exporter": "python",
   "pygments_lexer": "ipython3",
   "version": "3.8.5"
  }
 },
 "nbformat": 4,
 "nbformat_minor": 4
}