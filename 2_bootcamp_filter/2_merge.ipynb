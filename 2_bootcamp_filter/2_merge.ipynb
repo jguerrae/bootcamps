{
 "metadata": {
  "language_info": {
   "codemirror_mode": {
    "name": "ipython",
    "version": 3
   },
   "file_extension": ".py",
   "mimetype": "text/x-python",
   "name": "python",
   "nbconvert_exporter": "python",
   "pygments_lexer": "ipython3",
   "version": "3.8.5"
  },
  "orig_nbformat": 2,
  "kernelspec": {
   "name": "python385jvsc74a57bd006cb5fed7a19db1a3b234843391dc1a69eede94e92f070202b04797e91c1cb37",
   "display_name": "Python 3.8.5 64-bit (conda)"
  }
 },
 "nbformat": 4,
 "nbformat_minor": 2,
 "cells": [
  {
   "cell_type": "code",
   "execution_count": 45,
   "metadata": {},
   "outputs": [],
   "source": [
    "import pandas as pd\n",
    "import numpy as np"
   ]
  },
  {
   "cell_type": "code",
   "execution_count": 46,
   "metadata": {},
   "outputs": [
    {
     "output_type": "stream",
     "name": "stdout",
     "text": [
      "(277, 5)\n"
     ]
    },
    {
     "output_type": "execute_result",
     "data": {
      "text/plain": [
       "Index(['id', 'regex_bootcamp', 'bootcamp', 'match', 'ratio'], dtype='object')"
      ]
     },
     "metadata": {},
     "execution_count": 46
    }
   ],
   "source": [
    "#EDUC FUZZY\n",
    "educ_fp  = pd.read_excel(\"2_educ_fp.xlsx\")\n",
    "print(educ_fp.shape)\n",
    "educ_fp.rename(columns= {\"educ_title\" : \"match\" }, inplace=True) #renombrar match\n",
    "educ_fp.columns\n"
   ]
  },
  {
   "cell_type": "code",
   "execution_count": 47,
   "metadata": {},
   "outputs": [
    {
     "output_type": "stream",
     "name": "stdout",
     "text": [
      "(195, 5)\n"
     ]
    },
    {
     "output_type": "execute_result",
     "data": {
      "text/plain": [
       "Index(['id', 'regex_bootcamp', 'bootcamp', 'match', 'ratio'], dtype='object')"
      ]
     },
     "metadata": {},
     "execution_count": 47
    }
   ],
   "source": [
    "#EDUC SET TOKEN\n",
    "educ_fs  = pd.read_excel(\"2_educ_fs.xlsx\")\n",
    "educ_fs.rename(columns= {\"educ_title\" : \"match\" }, inplace=True) #renombrar match\n",
    "print(educ_fs.shape)\n",
    "educ_fs.columns"
   ]
  },
  {
   "cell_type": "code",
   "execution_count": 48,
   "metadata": {},
   "outputs": [
    {
     "output_type": "stream",
     "name": "stdout",
     "text": [
      "(201, 4)\n"
     ]
    },
    {
     "output_type": "execute_result",
     "data": {
      "text/plain": [
       "Index(['id', 'regex_bootcamp', 'bootcamp', 'match'], dtype='object')"
      ]
     },
     "metadata": {},
     "execution_count": 48
    }
   ],
   "source": [
    "#EDUC REGEX \n",
    "educ_regex  = pd.read_excel(\"2_educ_regex.xlsx\")\n",
    "educ_regex.rename(columns= {\"educ_title\" : \"match\" }, inplace=True) #renombrar match\n",
    "print(educ_regex.shape)\n",
    "#NO TIENE RATIO\n",
    "educ_regex.columns"
   ]
  },
  {
   "cell_type": "code",
   "execution_count": 49,
   "metadata": {},
   "outputs": [
    {
     "output_type": "stream",
     "name": "stdout",
     "text": [
      "(190, 7)\n"
     ]
    },
    {
     "output_type": "execute_result",
     "data": {
      "text/plain": [
       "Index(['id', 'regex_bootcamp', 'bootcamp', 'certificate_authority', 'title',\n",
       "       'cert_field_match', 'ratio'],\n",
       "      dtype='object')"
      ]
     },
     "metadata": {},
     "execution_count": 49
    }
   ],
   "source": [
    "#CERT PARTIAL\n",
    "cert_fp  = pd.read_excel(\"2_cert_fp.xlsx\")\n",
    "print(cert_fp.shape)\n",
    "cert_fp.columns\n",
    "#NO tiene educación de la anterior (educ)."
   ]
  },
  {
   "cell_type": "code",
   "execution_count": 50,
   "metadata": {},
   "outputs": [
    {
     "output_type": "stream",
     "name": "stdout",
     "text": [
      "(141, 7)\n"
     ]
    },
    {
     "output_type": "execute_result",
     "data": {
      "text/plain": [
       "Index(['id', 'regex_bootcamp', 'bootcamp', 'certificate_authority', 'title',\n",
       "       'cert_field_match', 'ratio'],\n",
       "      dtype='object')"
      ]
     },
     "metadata": {},
     "execution_count": 50
    }
   ],
   "source": [
    "#CERT SET TOKEN\n",
    "cert_fs  = pd.read_excel(\"2_cert_fs.xlsx\")\n",
    "print(cert_fs.shape)\n",
    "cert_fs.columns\n",
    "#NO tiene educación de la anterior."
   ]
  },
  {
   "cell_type": "code",
   "execution_count": 51,
   "metadata": {},
   "outputs": [
    {
     "output_type": "stream",
     "name": "stdout",
     "text": [
      "(92, 6)\n"
     ]
    },
    {
     "output_type": "execute_result",
     "data": {
      "text/plain": [
       "Index(['id', 'regex_bootcamp', 'bootcamp', 'certificate_authority', 'title',\n",
       "       'cert_field_match'],\n",
       "      dtype='object')"
      ]
     },
     "metadata": {},
     "execution_count": 51
    }
   ],
   "source": [
    "#CERT REGEX\n",
    "cert_regex  = pd.read_excel(\"2_cert_regex.xlsx\")\n",
    "print(cert_regex.shape)\n",
    "cert_regex.columns \n",
    "#NO TIENE RATIO NI EDUCATION"
   ]
  },
  {
   "cell_type": "code",
   "execution_count": 52,
   "metadata": {},
   "outputs": [
    {
     "output_type": "stream",
     "name": "stdout",
     "text": [
      "(34, 4)\n"
     ]
    },
    {
     "output_type": "execute_result",
     "data": {
      "text/plain": [
       "Index(['id', 'regex_bootcamp', 'bootcamp', 'ratio'], dtype='object')"
      ]
     },
     "metadata": {},
     "execution_count": 52
    }
   ],
   "source": [
    "#ABOUT PARTIAL\n",
    "about_fp  = pd.read_excel(\"2_about_fp.xlsx\")\n",
    "print(about_fp.shape)\n",
    "about_fp.columns\n",
    "#NO TIENE MATCH (de cert) y tampoco EDUC (de educ)"
   ]
  },
  {
   "cell_type": "code",
   "execution_count": 53,
   "metadata": {},
   "outputs": [
    {
     "output_type": "stream",
     "name": "stdout",
     "text": [
      "(26, 4)\n"
     ]
    },
    {
     "output_type": "execute_result",
     "data": {
      "text/plain": [
       "Index(['id', 'regex_bootcamp', 'bootcamp', 'ratio'], dtype='object')"
      ]
     },
     "metadata": {},
     "execution_count": 53
    }
   ],
   "source": [
    "#ABOUT SET TOKEN\n",
    "about_fs  = pd.read_excel(\"2_about_fs.xlsx\")\n",
    "print(about_fs.shape)\n",
    "about_fs.columns"
   ]
  },
  {
   "cell_type": "code",
   "execution_count": 54,
   "metadata": {},
   "outputs": [
    {
     "output_type": "stream",
     "name": "stdout",
     "text": [
      "(20, 3)\n"
     ]
    },
    {
     "output_type": "execute_result",
     "data": {
      "text/plain": [
       "Index(['id', 'regex_bootcamp', 'bootcamp'], dtype='object')"
      ]
     },
     "metadata": {},
     "execution_count": 54
    }
   ],
   "source": [
    "#ABOUT REGEX\n",
    "about_regex  = pd.read_excel(\"2_about_regex.xlsx\")\n",
    "print(about_regex.shape)\n",
    "about_regex.columns "
   ]
  },
  {
   "cell_type": "code",
   "execution_count": 55,
   "metadata": {},
   "outputs": [],
   "source": [
    "datas = [educ_regex, cert_regex, educ_fp, educ_fs, cert_fp, cert_fs, about_fp, about_fs, about_regex]\n",
    "names = ['educ_regex', 'cert_regex', 'educ_fp', 'educ_fs', 'cert_fp', 'cert_fs', 'about_fp', 'about_fs', 'about_regex']"
   ]
  },
  {
   "cell_type": "code",
   "execution_count": 56,
   "metadata": {},
   "outputs": [],
   "source": [
    "for i,e in zip(datas,names):\n",
    "    i[\"search\"] = e"
   ]
  },
  {
   "cell_type": "code",
   "execution_count": 66,
   "metadata": {},
   "outputs": [],
   "source": [
    "#BASE COMPLETA\n",
    "finaldb = pd.concat([educ_regex, cert_regex, educ_fp, educ_fs, cert_fp, cert_fs, about_fp, about_fs, about_regex])\n",
    "finaldb = pd.merge(finaldb, pd.read_csv(\"DF_BOOTCAMPS_2591.csv\"), \"left\", \"id\") #MERGE CON BASE GRANDE"
   ]
  },
  {
   "cell_type": "code",
   "execution_count": 73,
   "metadata": {},
   "outputs": [],
   "source": [
    "order = ['id', 'regex_bootcamp', 'bootcamp', 'match', 'search', 'certificate_authority', \n",
    "        'title', 'cert_field_match', 'ratio', 'job_title', 'education', 'certifications', 'about',\n",
    "       'scraping_services_id', 'linkedin_id', 'linkedin_profile_url',\n",
    "       'last_name', 'first_name', 'v_extension', 'location',\n",
    "       'company', 'job_history', 'snapshots', 'skills',\n",
    "       'updated', 'middle_name', 'num_connections', 'interests', 'volunteered',\n",
    "        'languages', 'recommendations', 'publications',\n",
    "       'patents', 'industry', 'titles', 'company_name_complete',\n",
    "       'job_title_complete']"
   ]
  },
  {
   "cell_type": "code",
   "execution_count": 74,
   "metadata": {},
   "outputs": [],
   "source": [
    "#CONSERVAR UNICOS\n",
    "finaldb = finaldb[order]\n",
    "finaldb = finaldb.drop_duplicates(subset='id', keep=\"first\")\n",
    "findaldb = finaldb.reset_index(drop = True)"
   ]
  },
  {
   "cell_type": "code",
   "execution_count": 75,
   "metadata": {},
   "outputs": [],
   "source": [
    "finaldb.to_excel(\"2_final_db.xlsx\", index = False)"
   ]
  },
  {
   "cell_type": "code",
   "execution_count": null,
   "metadata": {},
   "outputs": [],
   "source": [
    "123\n",
    "123 "
   ]
  }
 ]
}