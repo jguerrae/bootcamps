{
 "cells": [
  {
   "cell_type": "code",
   "execution_count": 7,
   "metadata": {},
   "outputs": [],
   "source": [
    "import pandas as pd\n",
    "import re\n",
    "import numpy as np\n",
    "\n",
    "## FUZZY\n",
    "from fuzzywuzzy import fuzz\n",
    "from fuzzywuzzy import process\n",
    "## nomalice parameters\n",
    "from unidecode import unidecode"
   ]
  },
  {
   "cell_type": "code",
   "execution_count": 8,
   "metadata": {},
   "outputs": [],
   "source": [
    "df = pd.read_csv(\"DF_BOOTCAMPS_2591.csv\")"
   ]
  },
  {
   "cell_type": "code",
   "execution_count": 9,
   "metadata": {},
   "outputs": [],
   "source": [
    "#CONSERVAR A TODOS AQUELLOS QUE NO TENGAN MISSING VALUES EN EDUCATION Y CERTIFICATION. \n",
    "\n",
    "dfe = df[df[\"education\"].notna()] #DATAFRAME DE EDUCATION\n",
    "dfe = dfe.reset_index(drop = True) #REINICIAR INDICE\n",
    "\n",
    "dfc = df[df[\"certifications\"].notna()] #DATAFRAME DE CERTIFICACIÓN"
   ]
  },
  {
   "cell_type": "code",
   "execution_count": 10,
   "metadata": {},
   "outputs": [],
   "source": [
    "# REGEX DE BOOTCAMPS\n",
    "boots =['4[ -]?geeks',\n",
    " 'ac.mica',\n",
    " 'ada.?itw',\n",
    " 'bedu[ -]?tech', \n",
    " 'bogot.[ -]?dev| bogot.[ -]?bootcamp',\n",
    " 'bootcamp[ -]?institute',\n",
    " 'coderise|coderise.?international',\n",
    " 'desaf.o[ -]?latam',\n",
    " 'dev ?f\\.',\n",
    " 'digital[ -]?house',\n",
    " 'generation[ -]?m.xico',\n",
    " 'hack.?academy',\n",
    " 'hola.?code',\n",
    " 'holberton.?school',\n",
    " 'icreate[ -]?limited|icreate|icreate[ -]?coding[ -]?academy| icreate[ -]?coding',\n",
    " 'ijalti', \n",
    " 'iron.?hack',\n",
    " 'j.venes[ -]?a[ -]?programar',\n",
    " 'keep.?coding|keep.?coding.io',\n",
    " 'kod[ -]?1[ -]?go',\n",
    " 'laborat.ria ', \n",
    " 'le.?wagon', \n",
    " 'make[ -]?it[ -]?real[ -]?camp| make[ -]?it[ -]?real',\n",
    " 'mind.?hub',\n",
    " 'muktek|muk.?tek', \n",
    " 'nivel[ -]?pro ', \n",
    " 'noukod|noukood|noukd', \n",
    " 'plataforma[ -]?5',\n",
    " 'programa[ -]?valentina',\n",
    " 'pygmalion',\n",
    " 'reprograma',\n",
    " 'worldtech$',  #se cambió  para que solo termine con $\n",
    " 'bictia|bi.?tia', \n",
    " 'talento[ -]?digital$'] #"
   ]
  },
  {
   "cell_type": "code",
   "execution_count": 11,
   "metadata": {},
   "outputs": [],
   "source": [
    "lista_boots = ['4Geeks',\n",
    " 'Acámica',\n",
    " 'Ada ITW',\n",
    " 'Bedu Tech',\n",
    " 'Bogotá Dev',\n",
    " 'Bootcamp Institute',\n",
    " 'Coderise International',\n",
    " 'Desafío Latam',\n",
    " 'Dev F.',\n",
    " 'Digital House',\n",
    " 'Generation Mexico',\n",
    " 'Hack Academy',\n",
    " 'HolaCode',\n",
    " 'Holberton School',\n",
    " 'iCreate Coding Academy',\n",
    " 'IJALTI',\n",
    " 'Iron Hack',\n",
    " 'Jóvenes a Programar',\n",
    " 'Keep Coding',\n",
    " 'Kod1go',\n",
    " 'Laboratoria',\n",
    " 'Le Wagon',\n",
    " 'Make it Real Camp',\n",
    " 'MindHub ',\n",
    " 'Muktek Academy',\n",
    " 'Nivel Pro',\n",
    " 'Noukod',\n",
    " 'Plataforma 5',\n",
    " 'Programa Valentina',\n",
    " 'Pygmalion',\n",
    " 'Reprograma',\n",
    " 'World Tech Inc (a.k.a. World Tech Makers –WTM–)',\n",
    " 'BICTIA',\n",
    " 'Talento Digital']"
   ]
  },
  {
   "cell_type": "markdown",
   "metadata": {},
   "source": [
    "# EXTRAER FORMACIÓN DESDE EL DATASET DE LOS NO-MISSING VALUES DE EDUCACIÓN"
   ]
  },
  {
   "cell_type": "code",
   "execution_count": 12,
   "metadata": {},
   "outputs": [],
   "source": [
    "#CONVERTIR EN STRING\n",
    "dfe[\"education\"] =  dfe[\"education\"].str.lower()"
   ]
  },
  {
   "cell_type": "code",
   "execution_count": 13,
   "metadata": {},
   "outputs": [
    {
     "output_type": "execute_result",
     "data": {
      "text/plain": [
       "\"{'education_org': 'university of oxford', 'degrees': 'university of oxford – oxford royale academy, english and culture, common european framework of reference: profiecient user', 'end': '2013', 'start': '2013'}\""
      ]
     },
     "metadata": {},
     "execution_count": 13
    }
   ],
   "source": [
    "#CONVERTIR EN DICCIONARIOS LA EDUCACIÓN\n",
    "L = []\n",
    "\n",
    "for i in dfe[\"education\"]:\n",
    "    l = str(i).split(\"},\") #convertir en string la formación del individuo y crear lista para separar cada formación\n",
    "    k = [] #Lista donde se almacenara cada formación x del individuo i\n",
    "    for formacion in l: #para cada formación\n",
    "        formacion = formacion.replace(\"[\", \"\").replace(\"]\", \"\") + \"}\" #separelas y conviertalas en diccionarios\n",
    "        k.append(formacion) #añadalas a la lista de formación\n",
    "    L.append(k) #añada la lista de formación para individuo\n",
    "\n",
    "#VER UN EJEMPLO: Esta es la última formación del primer individuo desordenada en diccionario pero como un string   \n",
    "L[0][0]"
   ]
  },
  {
   "cell_type": "code",
   "execution_count": 14,
   "metadata": {},
   "outputs": [
    {
     "output_type": "execute_result",
     "data": {
      "text/plain": [
       "{'education': 'university of oxford',\n",
       " 'degrees': 'university of oxford – oxford royale academy, english and culture, common european framework of reference: profiecient user',\n",
       " 'start': '2013',\n",
       " 'end': '2013'}"
      ]
     },
     "metadata": {},
     "execution_count": 14
    }
   ],
   "source": [
    "K = [] #LISTA D ELISTAS EN DONDE SE ALMACENARAN LAS FORMACIONES A MANERA DE DICCIONARIO PARA CADA INDIVIDUO\n",
    "\n",
    "for individuo in L: #para cada individuo\n",
    "\n",
    "    educacion_ind = [] #creo una lista de sus educaciones\n",
    "\n",
    "    for ins in individuo: # para cada cada formación dentro de las formaciones de cada individuos\n",
    "        ins = ins.replace('\"', \"'\")\n",
    "\n",
    "        c = {}\n",
    "\n",
    "        #CADA CAMPO SE EXTRAE POR MEDIO DE RegEx, COMUNES A TODOS LAS FORMACIONES STR DE LOS INDIVIDUOS EN EL DATASET\n",
    "        #CADA CAMPO SE EXTRAE EN CASO DE QUE EXISTA DE LO CONTRARIO NO\n",
    "\n",
    "        #EXTRAER EDUCACIÓN\n",
    "        if ( len(re.findall(\"'education_org': '.*?'\", ins)) ) > 0:\n",
    "            c[\"education\"] =  re.findall(\"'education_org': '.*?'\", ins)[0].replace(\"'education_org': \", \"\").replace(\"'\", \"\")\n",
    "\n",
    "        #EXTRAER DEGREE\n",
    "        if ( len(re.findall(\"'degrees': '.*?'\", ins)) ) > 0:\n",
    "            c[\"degrees\"] =  re.findall(\"'degrees': '.*?'\", ins)[0].replace(\"'degrees': \", \"\").replace(\"'\", \"\")\n",
    "\n",
    "        #EXTRAER SUMMARY\n",
    "        if ( len(re.findall(\"'summary': '.*?'\", ins)) ) > 0:\n",
    "            c[\"summary\"] =  re.findall(\"'summary': '.*?'\", ins)[0].replace(\"'summary': \", \"\").replace(\"'\", \"\")\n",
    "\n",
    "\n",
    "        #EXTRAER INICIO\n",
    "        if ( len(re.findall(\"'start': '.*?'\", ins)) ) > 0:\n",
    "            c[\"start\"] = re.findall(\"'start': '.*?'\", ins)[0].replace(\"'start': \", \"\").replace(\"'\", \"\")\n",
    "\n",
    "        #EXTRAER FINALIZACIÓN\n",
    "        if ( len(re.findall(\"'end': '.*?'\", ins)) ) > 0:\n",
    "            c[\"end\"] = re.findall(\"'end': '.*?'\", ins)[0].replace(\"'end': \", \"\").replace(\"'\", \"\")\n",
    "\n",
    "        educacion_ind.append(c) #añado cada formación a la lista de sus educaciones\n",
    "    \n",
    "    K.append(educacion_ind) #añado la educación de cada individuo a una lista general\n",
    "\n",
    "#VER UN EJEMPLO: Esta es la última formación del primer individuo ordenada en un diccionario\n",
    "K[0][0]"
   ]
  },
  {
   "cell_type": "code",
   "execution_count": 15,
   "metadata": {},
   "outputs": [],
   "source": [
    "#CREAR COLUMNA LIMPIA DE EDUCACIÓN\n",
    "dfe[\"educacion\"] = K"
   ]
  },
  {
   "cell_type": "code",
   "execution_count": 16,
   "metadata": {},
   "outputs": [
    {
     "output_type": "execute_result",
     "data": {
      "text/plain": [
       "{'education': 'vrije universiteit amsterdam',\n",
       " 'degrees': '(pre)-master, organization science',\n",
       " 'summary': '(schakeljaar tussen hbo-opleiding en masterstudie)\\\\n afstudeeronderzoek bij het ministerie van sociale zaken en werkgelegenheid(szw)\\\\n onderzoek op welke manier(en) de invoering van ‘het nieuwe werken’ bij het ministerie van szw, invloed heeft (gehad) op de betrokkenheid van de werknemers bij het uitvoeren hun werkzaamheden.\\\\n activities and societies: lid van faculteitsvereniging eos',\n",
       " 'start': '2011',\n",
       " 'end': '2012'}"
      ]
     },
     "metadata": {},
     "execution_count": 16
    }
   ],
   "source": [
    "#VER UN EJEMPLO: Esta es la última formación del primer individuo ordenada en un diccionario\n",
    "dfe.educacion[0][2]"
   ]
  },
  {
   "cell_type": "code",
   "execution_count": 13,
   "metadata": {},
   "outputs": [],
   "source": [
    "#LOOP PARA BUSCAR SI EL INDIVIDUO TIENE FORMACIÓN EN ALGÚN BOOTCAMP\n",
    "c = []\n",
    "for boot in range(len(boots)): #PARA CADA BOOTCAMP\n",
    "    for i in range(len(dfe.educacion)): #PARA CADA INDIVIDUO\n",
    "        for h in range(len(dfe.educacion[i])): #DENTRO LA EDUCACIÓN DE CADA INDIVIDUO\n",
    "            if \"education\" in dfe.educacion[i][h]: #SI TIENE EL CAMPO EDUCACIÓN\n",
    "                A = re.findall(boots[boot], dfe.educacion[i][h][\"education\"]) #REVISA SI ESTÁ EN UN BOOTCAMP\n",
    "                if len(A) > 0 : #SI ESA REVISIÓN ES NO VACÍA\n",
    "                    c.append((dfe.id[i], boots[boot], lista_boots[boot], dfe.educacion[i][h]['education']))\n",
    "                    # c.append((dfe.id[i], h)) #AÑADE EL ID DE ESE INDIVIDUO Y EL LUGAR DONDE ESTÁ ESA EDUCACIÓN\n",
    "                    # print(f\"{dfe['job_title'][i]}---{A}---{boots[boot]}--{dfe.educacion[i][h]['education']} \\n \\n\")\n",
    "\n",
    "#CREAR DATAFRAME\n",
    "c = list(set(c))\n",
    "educ_boots = pd.DataFrame.from_records(c, columns=['id', 'regex_bootcamp', 'bootcamp', \"educ_title\"])\n",
    "\n",
    "#HACER MERGE CON EL RESTO DE COLUMNAS\n",
    "# educ_boots = pd.merge(educ_boots, dfe, \"left\", \"id\")\n",
    "educ_boots.to_excel(\"2_educ_regex.xlsx\", index = False)"
   ]
  },
  {
   "cell_type": "code",
   "execution_count": 14,
   "metadata": {},
   "outputs": [],
   "source": [
    "#EDUC PARTUL\n",
    "k = []\n",
    "## se utiliza los nombres normales\n",
    "for boot in range(len(lista_boots)): #PARA CADA BOOTCAMP\n",
    "    for i in range(len(dfe.educacion)): #PARA CADA INDIVIDUO\n",
    "        for h in range(len(dfe.educacion[i])): #DENTRO LA EDUCACIÓN DE CADA INDIVIDUO\n",
    "            if \"education\" in dfe.educacion[i][h]: #SI TIENE EL CAMPO EDUCACIÓN\n",
    "                ## se hace un aproach a fuzzy\n",
    " \n",
    "                bootCAMP = lista_boots[boot]\n",
    "                bootCAMP = bootCAMP.lower()\n",
    "                bootCAMP = unidecode(bootCAMP)\n",
    "                norEdu =  unidecode(dfe.educacion[i][h][\"education\"])\n",
    "                \n",
    "                wordLen = len(dfe.educacion[i][h][\"education\"])\n",
    "                ratio = fuzz.partial_ratio(bootCAMP,norEdu)\n",
    "\n",
    "                if ratio>85 and wordLen >=5:\n",
    "                    k.append((dfe.id[i], boots[boot], lista_boots[boot], dfe.educacion[i][h]['education'],ratio))\n",
    "\n",
    "\n",
    "#CREAR DATAFRAME\n",
    "k = list(set(k))\n",
    "educ_fp = pd.DataFrame.from_records(k, columns=['id', 'regex_bootcamp', 'bootcamp', \"educ_title\", \"ratio\"])\n",
    "\n",
    "#HACER MERGE CON EL RESTO DE COLUMNAS\n",
    "# educ_boots = pd.merge(educ_boots, dfe, \"left\", \"id\")\n",
    "educ_fp.to_excel(\"2_educ_fp.xlsx\", index = False)"
   ]
  },
  {
   "cell_type": "code",
   "execution_count": 19,
   "metadata": {},
   "outputs": [],
   "source": [
    "#EDUC PARTIAL\n",
    "\n",
    "p = []\n",
    "## se utiliza los nombres normales\n",
    "for boot in range(len(lista_boots)): #PARA CADA BOOTCAMP\n",
    "    for i in range(len(dfe.educacion)): #PARA CADA INDIVIDUO\n",
    "        for h in range(len(dfe.educacion[i])): #DENTRO LA EDUCACIÓN DE CADA INDIVIDUO\n",
    "            if \"education\" in dfe.educacion[i][h]: #SI TIENE EL CAMPO EDUCACIÓN\n",
    "                ## se hace un aproach a fuzzy\n",
    "                bootCAMP = lista_boots[boot]\n",
    "                bootCAMP = bootCAMP.lower()\n",
    "                bootCAMP = unidecode(bootCAMP)\n",
    "                norEdu =  unidecode(dfe.educacion[i][h][\"education\"])\n",
    "                ## se hace un aproach a fuzzy\n",
    "                wordLen = len(dfe.educacion[i][h][\"education\"])\n",
    "                # ratio = fuzz.partial_ratio(bootCAMP,norEdu)\n",
    "                #ratio = fuzz.token_sort_ratio(bootCAMP,norEdu)\n",
    "                ratio = fuzz.token_set_ratio(bootCAMP,norEdu)\n",
    "                #print(ratio)\n",
    "                if ratio>85 and wordLen >=5:\n",
    "                    p.append((dfe.id[i], boots[boot], lista_boots[boot], dfe.educacion[i][h]['education'],ratio))\n",
    "\n",
    "#CREAR DATAFRAME\n",
    "p = list(set(p))\n",
    "educ_fs = pd.DataFrame.from_records(p, columns=['id', 'regex_bootcamp', 'bootcamp', \"educ_title\", \"ratio\"])\n",
    "\n",
    "#HACER MERGE CON EL RESTO DE COLUMNAS\n",
    "# educ_boots = pd.merge(educ_boots, dfe, \"left\", \"id\")\n",
    "educ_fs.to_excel(\"2_educ_fs.xlsx\", index = False)"
   ]
  },
  {
   "cell_type": "code",
   "execution_count": null,
   "metadata": {},
   "outputs": [],
   "source": []
  }
 ],
 "metadata": {
  "kernelspec": {
   "name": "python385jvsc74a57bd006cb5fed7a19db1a3b234843391dc1a69eede94e92f070202b04797e91c1cb37",
   "display_name": "Python 3.8.5 64-bit (conda)"
  },
  "language_info": {
   "codemirror_mode": {
    "name": "ipython",
    "version": 3
   },
   "file_extension": ".py",
   "mimetype": "text/x-python",
   "name": "python",
   "nbconvert_exporter": "python",
   "pygments_lexer": "ipython3",
   "version": "3.8.5"
  }
 },
 "nbformat": 4,
 "nbformat_minor": 4
}