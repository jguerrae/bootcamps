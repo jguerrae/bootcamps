{
 "cells": [
  {
   "cell_type": "code",
   "execution_count": 50,
   "metadata": {},
   "outputs": [],
   "source": [
    "import pandas as pd\n",
    "import re\n",
    "import numpy as np\n",
    "\n",
    "## FUZZY\n",
    "from fuzzywuzzy import fuzz\n",
    "from fuzzywuzzy import process\n",
    "\n",
    "## nomalice parameters\n",
    "from unidecode import unidecode\n"
   ]
  },
  {
   "cell_type": "code",
   "execution_count": 51,
   "metadata": {},
   "outputs": [],
   "source": [
    "df = pd.read_csv(\"DF_BOOTCAMPS_2591.csv\")"
   ]
  },
  {
   "cell_type": "code",
   "execution_count": 52,
   "metadata": {},
   "outputs": [],
   "source": [
    "dfc = df[df[\"certifications\"].notna()] #DATAFRAME DE CERTIFICACIÓN\n",
    "dfc = dfc.reset_index(drop = True) #REINICIAR INDICE"
   ]
  },
  {
   "cell_type": "code",
   "execution_count": 53,
   "metadata": {},
   "outputs": [
    {
     "output_type": "execute_result",
     "data": {
      "text/plain": [
       "(888, 29)"
      ]
     },
     "metadata": {},
     "execution_count": 53
    }
   ],
   "source": [
    "dfc.shape"
   ]
  },
  {
   "cell_type": "markdown",
   "metadata": {},
   "source": [
    "# EXTRAER FORMACIÓN DESDE EL DATASET DE LOS NO-MISSING VALUES DE EDUCACIÓN"
   ]
  },
  {
   "cell_type": "code",
   "execution_count": 54,
   "metadata": {},
   "outputs": [],
   "source": [
    "lista_boots = ['4Geeks',\n",
    " 'Acámica',\n",
    " 'Ada ITW',\n",
    " 'Bedu Tech',\n",
    " 'Bogotá Dev',\n",
    " 'Bootcamp Institute',\n",
    " 'Coderise International',\n",
    " 'Desafío Latam',\n",
    " 'Dev F.',\n",
    " 'Digital House',\n",
    " 'Generation Mexico',\n",
    " 'Hack Academy',\n",
    " 'HolaCode',\n",
    " 'Holberton School',\n",
    " 'iCreate Coding Academy',\n",
    " 'IJALTI',\n",
    " 'Iron Hack',\n",
    " 'Jóvenes a Programar',\n",
    " 'Keep Coding',\n",
    " 'Kod1go',\n",
    " 'Laboratoria',\n",
    " 'Le Wagon',\n",
    " 'Make it Real Camp',\n",
    " 'MindHub ',\n",
    " 'Muktek Academy',\n",
    " 'Nivel Pro',\n",
    " 'Noukod',\n",
    " 'Plataforma 5',\n",
    " 'Programa Valentina',\n",
    " 'Pygmalion',\n",
    " 'Reprograma',\n",
    " 'World Tech Inc (a.k.a. World Tech Makers –WTM–)',\n",
    " 'BICTIA',\n",
    " 'Talento Digital']"
   ]
  },
  {
   "cell_type": "code",
   "execution_count": 55,
   "metadata": {},
   "outputs": [],
   "source": [
    "# REGEX DE BOOTCAMPS\n",
    "boots =['4[ -]?geeks',\n",
    " 'ac.mica',\n",
    " 'ada.?itw',\n",
    " 'bedu[ -]?tech', \n",
    " 'bogot.[ -]?dev| bogot.[ -]?bootcamp',\n",
    " 'bootcamp[ -]?institute',\n",
    " 'coderise|coderise.?international',\n",
    " 'desaf.o[ -]?latam',\n",
    " 'dev ?f\\.',\n",
    " 'digital[ -]?house',\n",
    " 'generation[ -]?m.xico',\n",
    " 'hack.?academy',\n",
    " 'hola.?code',\n",
    " 'holberton.?school',\n",
    " 'icreate[ -]?limited|icreate|icreate[ -]?coding[ -]?academy| icreate[ -]?coding',\n",
    " 'ijalti', \n",
    " 'iron.?hack',\n",
    " 'j.venes[ -]?a[ -]?programar',\n",
    " 'keep.?coding|keep.?coding.io',\n",
    " 'kod[ -]?1[ -]?go',\n",
    " 'laborat.ria ', \n",
    " 'le.?wagon', \n",
    " 'make[ -]?it[ -]?real[ -]?camp| make[ -]?it[ -]?real',\n",
    " 'mind.?hub',\n",
    " 'muktek|muk.?tek', \n",
    " 'nivel[ -]?pro ', \n",
    " 'noukod|noukood|noukd', \n",
    " 'plataforma[ -]?5',\n",
    " 'programa[ -]?valentina',\n",
    " 'pygmalion',\n",
    " 'reprograma',\n",
    " 'worldtech$',  #se cambió  para que solo termine con $\n",
    " 'bictia|bi.?tia', \n",
    " 'talento[ -]?digital$'] #"
   ]
  },
  {
   "cell_type": "code",
   "execution_count": 56,
   "metadata": {},
   "outputs": [],
   "source": [
    "#CONVERTIR EN STRING\n",
    "dfc[\"certifications\"] =  dfc[\"certifications\"].str.lower()"
   ]
  },
  {
   "cell_type": "code",
   "execution_count": 57,
   "metadata": {
    "tags": []
   },
   "outputs": [
    {
     "output_type": "execute_result",
     "data": {
      "text/plain": [
       "\"{'certificate_authority': 'nepal engineering council', 'end': 'present', 'start': 'august 2014', 'title': 'certificate for the registered engineer'}\""
      ]
     },
     "metadata": {},
     "execution_count": 57
    }
   ],
   "source": [
    "L = []\n",
    "\n",
    "for i in dfc[\"certifications\"]:    \n",
    "    l = str(i).split(\"},\") \n",
    "    k = [] \n",
    "    for formacion in l: \n",
    "        formacion = formacion.replace(\"[\", \"\").replace(\"]\", \"\") + \"}\" \n",
    "        k.append(formacion) \n",
    "    L.append(k)\n",
    "     \n",
    "L[0][0]"
   ]
  },
  {
   "cell_type": "code",
   "execution_count": 58,
   "metadata": {},
   "outputs": [
    {
     "output_type": "execute_result",
     "data": {
      "text/plain": [
       "{'certificate_authority': 'nepal engineering council',\n",
       " 'title': 'certificate for the registered engineer',\n",
       " 'start': 'august 2014',\n",
       " 'end': 'present'}"
      ]
     },
     "metadata": {},
     "execution_count": 58
    }
   ],
   "source": [
    "K = [] \n",
    "\n",
    "regxCerAuth = \"'certificate_authority': '.*?'\"\n",
    "regexTitle = \"'title': '.*?'\"\n",
    "\n",
    "for individuo in L: \n",
    "\n",
    "    educacion_ind = [] \n",
    "\n",
    "    for ins in individuo: \n",
    "        ins = ins.replace('\"', \"'\")\n",
    "\n",
    "        c = {}\n",
    "\n",
    "        if ( len(re.findall(\"'certificate_authority': '.*?'\", ins)) ) > 0:\n",
    "            c[\"certificate_authority\"] =  re.findall(\"'certificate_authority': '.*?'\", ins)[0].replace(\"'certificate_authority': \", \"\").replace(\"'\", \"\")\n",
    "\n",
    "        if ( len(re.findall(regexTitle, ins)) ) > 0:\n",
    "            c[\"title\"] =  re.findall(\"'title': '.*?'\", ins)[0].replace(\"'title': \", \"\").replace(\"'\", \"\")\n",
    "\n",
    "        if ( len(re.findall(\"'start': '.*?'\", ins)) ) > 0:\n",
    "            c[\"start\"] = re.findall(\"'start': '.*?'\", ins)[0].replace(\"'start': \", \"\").replace(\"'\", \"\")\n",
    "\n",
    "        if ( len(re.findall(\"'end': '.*?'\", ins)) ) > 0:\n",
    "            c[\"end\"] = re.findall(\"'end': '.*?'\", ins)[0].replace(\"'end': \", \"\").replace(\"'\", \"\")\n",
    "\n",
    "        educacion_ind.append(c) \n",
    "    \n",
    "    K.append(educacion_ind) \n",
    "\n",
    "K[0][0]"
   ]
  },
  {
   "cell_type": "code",
   "execution_count": 59,
   "metadata": {},
   "outputs": [],
   "source": [
    "#CREAR COLUMNA LIMPIA DE EDUCACIÓN\n",
    "dfc[\"certifications\"] = K"
   ]
  },
  {
   "cell_type": "code",
   "execution_count": 60,
   "metadata": {},
   "outputs": [
    {
     "output_type": "execute_result",
     "data": {
      "text/plain": [
       "{'certificate_authority': 'nepal engineering council',\n",
       " 'title': 'certificate for the registered engineer',\n",
       " 'start': 'august 2014',\n",
       " 'end': 'present'}"
      ]
     },
     "metadata": {},
     "execution_count": 60
    }
   ],
   "source": [
    "#VER UN EJEMPLO: Esta es la última formación del primer individuo ordenada en un diccionario\n",
    "dfc.certifications[0][0]"
   ]
  },
  {
   "cell_type": "code",
   "execution_count": 61,
   "metadata": {},
   "outputs": [],
   "source": [
    "#LOOP PARA BUSCAR SI EL INDIVIDUO TIENE FORMACIÓN EN ALGÚN BOOTCAMP EN EL CAMPO DE CERTIFICATION - AUTHORITY\n",
    "\n",
    "c = []\n",
    "\n",
    "for boot in range(len(boots)): \n",
    "    for i in range(len(dfc.certifications)): \n",
    "        for h in range(len(dfc.certifications[i])): \n",
    "            \n",
    "            if \"certificate_authority\" in dfc.certifications[i][h]: \n",
    "                A = re.findall(boots[boot], dfc.certifications[i][h][\"certificate_authority\"]) \n",
    "                if len(A) > 0 : \n",
    "\n",
    "                    c.append((dfc.id[i], boots[boot], lista_boots[boot], dfc.certifications[i][h]['certificate_authority'], dfc.certifications[i][h]['title'], \"authority\"))\n",
    "\n",
    "c = list(set(c))      \n",
    "CA = pd.DataFrame.from_records(c, columns=['id', 'regex_bootcamp', 'bootcamp', \"certificate_authority\", \"title\", \"cert_field_match\"])            "
   ]
  },
  {
   "cell_type": "code",
   "execution_count": 62,
   "metadata": {},
   "outputs": [],
   "source": [
    "#LOOP PARA BUSCAR SI EL INDIVIDUO TIENE FORMACIÓN EN ALGÚN BOOTCAMP EN EL CAMPO DE CERTIFICATION - TITLE\n",
    "d = []\n",
    "for boot in range(len(boots)): #PARA CADA BOOTCAMP\n",
    "    for i in range(len(dfc.certifications)): #PARA CADA INDIVIDUO\n",
    "        for h in range(len(dfc.certifications[i])): #DENTRO LA EDUCACIÓN DE CADA INDIVIDUO\n",
    "            # print(dfc.certifications[i][h]['certificate_authority'])\n",
    "\n",
    "            if \"title\" in dfc.certifications[i][h]: #SI TIENE EL CAMPO EDUCACIÓN\n",
    "                A = re.findall(boots[boot], dfc.certifications[i][h][\"title\"]) #REVISA SI ESTÁ EN UN BOOTCAMP\n",
    "\n",
    "                if len(A) > 0 : #SI ESA REVISIÓN ES NO VACÍA\n",
    "                    if \"certificate_authority\" in dfc.certifications[i][h]:\n",
    "                        d.append((dfc.id[i], boots[boot], lista_boots[boot], dfc.certifications[i][h]['certificate_authority'], dfc.certifications[i][h]['title'], \"title\"))\n",
    "                    else:\n",
    "                        d.append((dfc.id[i], boots[boot], lista_boots[boot], np.nan, dfc.certifications[i][h]['title'], \"title\"))\n",
    "d = list(set(d))      \n",
    "CT = pd.DataFrame.from_records(d, columns=['id', 'regex_bootcamp', 'bootcamp', \"certificate_authority\", \"title\", \"cert_field_match\"])"
   ]
  },
  {
   "cell_type": "code",
   "execution_count": 63,
   "metadata": {},
   "outputs": [],
   "source": [
    "cert_regex = pd.concat([CA, CT])\n",
    "cert_regex = cert_regex.drop_duplicates(subset='id', keep=\"first\")\n",
    "cert_regex.to_excel(\"2_cert_regex.xlsx\", index = False)"
   ]
  },
  {
   "cell_type": "code",
   "execution_count": 64,
   "metadata": {},
   "outputs": [],
   "source": [
    "#CERT FUZZY PARTIAL\n",
    "\n",
    "k = []\n",
    "for boot in range(len(boots)):\n",
    "    for i in range(len(dfc.certifications)): \n",
    "        for h in range(len(dfc.certifications[i])): \n",
    "            if \"certificate_authority\" in dfc.certifications[i][h]: \n",
    "                bootCAMP = lista_boots[boot]\n",
    "                bootCAMP = bootCAMP.lower()\n",
    "                bootCAMP = unidecode(bootCAMP)\n",
    "                norEdu =  unidecode(dfc.certifications[i][h][\"certificate_authority\"])\n",
    "                ## se hace un aproach a fuzzy\n",
    "                wordLen = len(dfc.certifications[i][h][\"certificate_authority\"])\n",
    "                ratio = fuzz.partial_ratio(bootCAMP,norEdu)\n",
    "                # ratio = fuzz.token_set_ratio(bootCAMP,norEdu)\n",
    "                #print(ratio)\n",
    "                ##dev f, minin string\n",
    "                if ratio>85 and wordLen >=5:\n",
    "                    k.append((dfc.id[i], boots[boot], lista_boots[boot], dfc.certifications[i][h]['certificate_authority'], dfc.certifications[i][h]['title'], \"certificate_authority\", ratio))\n",
    "k = list(set(k))      \n",
    "CFP = pd.DataFrame.from_records(k, columns=['id', 'regex_bootcamp', 'bootcamp', \"certificate_authority\", \"title\", \"cert_field_match\", \"ratio\"])\n",
    "CFP.to_excel(\"2_cert_fp.xlsx\", index = False)"
   ]
  },
  {
   "cell_type": "code",
   "execution_count": 65,
   "metadata": {},
   "outputs": [],
   "source": [
    "#CERT FUZZY SET\n",
    "\n",
    "u = []\n",
    "for boot in range(len(boots)):\n",
    "    for i in range(len(dfc.certifications)): \n",
    "        for h in range(len(dfc.certifications[i])): \n",
    "            if \"certificate_authority\" in dfc.certifications[i][h]: \n",
    "                bootCAMP = lista_boots[boot]\n",
    "                bootCAMP = bootCAMP.lower()\n",
    "                bootCAMP = unidecode(bootCAMP)\n",
    "                norEdu =  unidecode(dfc.certifications[i][h][\"certificate_authority\"])\n",
    "                ## se hace un aproach a fuzzy\n",
    "                wordLen = len(dfc.certifications[i][h][\"certificate_authority\"])\n",
    "                # ratio = fuzz.partial_ratio(bootCAMP,norEdu)\n",
    "                ratio = fuzz.token_set_ratio(bootCAMP,norEdu)\n",
    "                #print(ratio)\n",
    "                ##dev f, minin string\n",
    "                if ratio>85 and wordLen >=5:\n",
    "                    u.append((dfc.id[i], boots[boot], lista_boots[boot], dfc.certifications[i][h]['certificate_authority'], dfc.certifications[i][h]['title'], \"certificate_authority\", ratio))\n",
    "u = list(set(u))      \n",
    "CFS = pd.DataFrame.from_records(u, columns=['id', 'regex_bootcamp', 'bootcamp', \"certificate_authority\", \"title\", \"cert_field_match\", \"ratio\"])\n",
    "CFS.to_excel(\"2_cert_fs.xlsx\", index = False)"
   ]
  },
  {
   "cell_type": "code",
   "execution_count": null,
   "metadata": {},
   "outputs": [],
   "source": []
  },
  {
   "cell_type": "code",
   "execution_count": null,
   "metadata": {},
   "outputs": [],
   "source": []
  },
  {
   "cell_type": "code",
   "execution_count": 16,
   "metadata": {},
   "outputs": [],
   "source": [
    "#HACER MERGE CON EL RESTO DE COLUMNAS\n",
    "educ_boots = pd.merge(educ_boots, dfc, \"left\", \"id\")\n",
    "educ_boots.to_excel(fileOut, index = False)"
   ]
  },
  {
   "cell_type": "code",
   "execution_count": 17,
   "metadata": {},
   "outputs": [
    {
     "output_type": "error",
     "ename": "NameError",
     "evalue": "name 'df_educ' is not defined",
     "traceback": [
      "\u001b[1;31m---------------------------------------------------------------------------\u001b[0m",
      "\u001b[1;31mNameError\u001b[0m                                 Traceback (most recent call last)",
      "\u001b[1;32m<ipython-input-17-64ada9e696a5>\u001b[0m in \u001b[0;36m<module>\u001b[1;34m\u001b[0m\n\u001b[1;32m----> 1\u001b[1;33m \u001b[0mdf_educ\u001b[0m\u001b[1;33m\u001b[0m\u001b[1;33m\u001b[0m\u001b[0m\n\u001b[0m",
      "\u001b[1;31mNameError\u001b[0m: name 'df_educ' is not defined"
     ]
    }
   ],
   "source": []
  },
  {
   "cell_type": "code",
   "execution_count": null,
   "metadata": {},
   "outputs": [],
   "source": []
  }
 ],
 "metadata": {
  "kernelspec": {
   "name": "python385jvsc74a57bd006cb5fed7a19db1a3b234843391dc1a69eede94e92f070202b04797e91c1cb37",
   "display_name": "Python 3.8.5 64-bit (conda)"
  },
  "language_info": {
   "codemirror_mode": {
    "name": "ipython",
    "version": 3
   },
   "file_extension": ".py",
   "mimetype": "text/x-python",
   "name": "python",
   "nbconvert_exporter": "python",
   "pygments_lexer": "ipython3",
   "version": "3.8.5"
  }
 },
 "nbformat": 4,
 "nbformat_minor": 4
}