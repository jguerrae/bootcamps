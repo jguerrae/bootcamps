{
 "metadata": {
  "language_info": {
   "codemirror_mode": {
    "name": "ipython",
    "version": 3
   },
   "file_extension": ".py",
   "mimetype": "text/x-python",
   "name": "python",
   "nbconvert_exporter": "python",
   "pygments_lexer": "ipython3",
   "version": "3.8.5"
  },
  "orig_nbformat": 2,
  "kernelspec": {
   "name": "python385jvsc74a57bd006cb5fed7a19db1a3b234843391dc1a69eede94e92f070202b04797e91c1cb37",
   "display_name": "Python 3.8.5 64-bit (conda)"
  }
 },
 "nbformat": 4,
 "nbformat_minor": 2,
 "cells": [
  {
   "source": [
    "# Extracción de perfiles a partir de about"
   ],
   "cell_type": "markdown",
   "metadata": {}
  },
  {
   "cell_type": "code",
   "execution_count": 14,
   "metadata": {},
   "outputs": [],
   "source": [
    "#LIBRARIES\n",
    "import pandas as pd\n",
    "import re\n",
    "import numpy as np\n",
    "\n",
    "## FUZZY\n",
    "from fuzzywuzzy import fuzz\n",
    "from fuzzywuzzy import process\n",
    "\n",
    "## nomalice parameters\n",
    "from unidecode import unidecode"
   ]
  },
  {
   "cell_type": "code",
   "execution_count": 15,
   "metadata": {},
   "outputs": [],
   "source": [
    "df = pd.read_csv(\"DF_BOOTCAMPS_2591.csv\")"
   ]
  },
  {
   "cell_type": "code",
   "execution_count": 16,
   "metadata": {},
   "outputs": [],
   "source": [
    "dfa = df[df[\"z\"].notna()] \n",
    "dfa = dfa.reset_index(drop = True) "
   ]
  },
  {
   "cell_type": "code",
   "execution_count": 17,
   "metadata": {},
   "outputs": [
    {
     "output_type": "execute_result",
     "data": {
      "text/plain": [
       "(1423, 29)"
      ]
     },
     "metadata": {},
     "execution_count": 17
    }
   ],
   "source": [
    "dfa.shape"
   ]
  },
  {
   "source": [
    "# EXTRAER FORMACIÓN DESDE EL DATASET DE LOS NO-MISSING VALUES DE ABOUT"
   ],
   "cell_type": "markdown",
   "metadata": {}
  },
  {
   "cell_type": "code",
   "execution_count": 18,
   "metadata": {},
   "outputs": [],
   "source": [
    "#CONVERTIR EN STRING\n",
    "dfa[\"about\"] =  dfa[\"about\"].str.lower()"
   ]
  },
  {
   "cell_type": "code",
   "execution_count": 19,
   "metadata": {},
   "outputs": [],
   "source": [
    "#NOMBRE DE BOOTCAMPS\n",
    "lista_boots = ['4Geeks',\n",
    " 'Acámica',\n",
    " 'Ada ITW',\n",
    " 'Bedu Tech',\n",
    " 'Bogotá Dev',\n",
    " 'Bootcamp Institute',\n",
    " 'Coderise International',\n",
    " 'Desafío Latam',\n",
    " 'Dev F.',\n",
    " 'Digital House',\n",
    " 'Generation Mexico',\n",
    " 'Hack Academy',\n",
    " 'HolaCode',\n",
    " 'Holberton School',\n",
    " 'iCreate Coding Academy',\n",
    " 'IJALTI',\n",
    " 'Iron Hack',\n",
    " 'Jóvenes a Programar',\n",
    " 'Keep Coding',\n",
    " 'Kod1go',\n",
    " 'Laboratoria',\n",
    " 'Le Wagon',\n",
    " 'Make it Real Camp',\n",
    " 'MindHub ',\n",
    " 'Muktek Academy',\n",
    " 'Nivel Pro',\n",
    " 'Noukod',\n",
    " 'Plataforma 5',\n",
    " 'Programa Valentina',\n",
    " 'Pygmalion',\n",
    " 'Reprograma',\n",
    " 'World Tech Inc (a.k.a. World Tech Makers –WTM–)',\n",
    " 'BICTIA',\n",
    " 'Talento Digital']"
   ]
  },
  {
   "cell_type": "code",
   "execution_count": 20,
   "metadata": {},
   "outputs": [],
   "source": [
    "# REGEX DE BOOTCAMPS\n",
    "boots =['4[ -]?geeks',\n",
    " 'ac.mica',\n",
    " 'ada.?itw',\n",
    " 'bedu[ -]?tech', \n",
    " 'bogot.[ -]?dev| bogot.[ -]?bootcamp',\n",
    " 'bootcamp[ -]?institute',\n",
    " 'coderise|coderise.?international',\n",
    " 'desaf.o[ -]?latam',\n",
    " 'dev ?f\\.',\n",
    " 'digital[ -]?house',\n",
    " 'generation[ -]?m.xico',\n",
    " 'hack.?academy',\n",
    " 'hola.?code',\n",
    " 'holberton.?school',\n",
    " 'icreate[ -]?limited|icreate|icreate[ -]?coding[ -]?academy| icreate[ -]?coding',\n",
    " 'ijalti', \n",
    " 'iron.?hack',\n",
    " 'j.venes[ -]?a[ -]?programar',\n",
    " 'keep.?coding|keep.?coding.io',\n",
    " 'kod[ -]?1[ -]?go',\n",
    " 'laborat.ria ', \n",
    " 'le.?wagon', \n",
    " 'make[ -]?it[ -]?real[ -]?camp| make[ -]?it[ -]?real',\n",
    " 'mind.?hub',\n",
    " 'muktek|muk.?tek', \n",
    " 'nivel[ -]?pro ', \n",
    " 'noukod|noukood|noukd', \n",
    " 'plataforma[ -]?5',\n",
    " 'programa[ -]?valentina',\n",
    " 'pygmalion',\n",
    " 'reprograma',\n",
    " 'worldtech$',  #se cambió  para que solo termine con $\n",
    " 'bictia|bi.?tia']"
   ]
  },
  {
   "cell_type": "code",
   "execution_count": 21,
   "metadata": {},
   "outputs": [],
   "source": [
    "#BUSQUEDA CON REGEX\n",
    "c = []\n",
    "for boot in range(len(boots)): \n",
    "    for i in range(len(dfa.about)): \n",
    "        A = re.findall(boots[boot], dfa.about[i])\n",
    "        if len(A) > 0:\n",
    "            c.append((dfa.id[i], boots[boot], lista_boots[boot]))\n",
    "\n",
    "            # print(f\"{dfa['job_title'][i]}---{A[0]}---{boots[boot]}--- \\n {dfa.about[i]} \\n ------------------------------------------\\n\")\n",
    "\n",
    "\n",
    "#CREAR DATAFRAME\n",
    "c = list(set(c))\n",
    "about_regex = pd.DataFrame.from_records(c, columns=['id', 'regex_bootcamp', 'bootcamp'])\n",
    "\n",
    "#HACER MERGE CON EL RESTO DE COLUMNAS Y EXPORTAR \n",
    "# about_regex = pd.merge(about_regex, dfa, \"left\", \"id\")\n",
    "\n",
    "about_regex.to_excel(\"2_about_regex.xlsx\", index = False)"
   ]
  },
  {
   "cell_type": "code",
   "execution_count": 22,
   "metadata": {},
   "outputs": [],
   "source": [
    "#BUSQUEDA CON FUZZY PARTIAL\n",
    "d = []\n",
    "for boot in range(len(lista_boots)): #PARA CADA BOOTCAMP\n",
    "    for i in range(len(dfa.about)): #PARA CADA INDIVIDUO\n",
    "        bootCAMP = lista_boots[boot]\n",
    "        bootCAMP = bootCAMP.lower()\n",
    "        bootCAMP = unidecode(bootCAMP)\n",
    "        norEdu =  unidecode(dfa.about[i])\n",
    "        ## se hace un aproach a fuzzy\n",
    "        wordLen = len(dfa.about[i])\n",
    "        ratio = fuzz.partial_ratio(bootCAMP,norEdu)\n",
    "        #ratio = fuzz.token_sort_ratio(bootCAMP,norEdu)\n",
    "        #ratio = fuzz.token_set_ratio(bootCAMP,norEdu)\n",
    "        #print(ratio)\n",
    "        if ratio>85 and wordLen >=5:\n",
    "            d.append((dfa.id[i], boots[boot], lista_boots[boot], ratio))\n",
    "\n",
    "#CREAR DATAFRAME\n",
    "d = list(set(d))\n",
    "about_fp = pd.DataFrame.from_records(d, columns=['id', 'regex_bootcamp', 'bootcamp', 'ratio'])\n",
    "\n",
    "#HACER MERGE CON EL RESTO DE COLUMNAS Y EXPORTAR \n",
    "# about_fp = pd.merge(about_fp, dfa, \"left\", \"id\")\n",
    "\n",
    "about_fp.to_excel(\"2_about_fp.xlsx\", index = False)"
   ]
  },
  {
   "cell_type": "code",
   "execution_count": 28,
   "metadata": {},
   "outputs": [],
   "source": [
    "#BUSQUEDA CON FUZZY SET\n",
    "k = []\n",
    "for boot in range(len(lista_boots)): #PARA CADA BOOTCAMP\n",
    "    for i in range(len(dfa.about)): #PARA CADA INDIVIDUO\n",
    "        bootCAMP = lista_boots[boot]\n",
    "        bootCAMP = bootCAMP.lower()\n",
    "        bootCAMP = unidecode(bootCAMP)\n",
    "        norEdu =  unidecode(dfa.about[i])\n",
    "        ## se hace un aproach a fuzzy\n",
    "        wordLen = len(dfa.about[i])\n",
    "        # ratio = fuzz.partial_ratio(bootCAMP,norEdu)\n",
    "        # ratio = fuzz.token_sort_ratio(bootCAMP,norEdu)\n",
    "        ratio = fuzz.token_set_ratio(bootCAMP,norEdu)\n",
    "        #print(ratio)\n",
    "        if ratio>85 and wordLen >=5:\n",
    "            try:\n",
    "                k.append((dfa.id[i], boots[boot], lista_boots[boot], ratio))\n",
    "            except:\n",
    "                None\n",
    "\n",
    "#CREAR DATAFRAME\n",
    "k = list(set(k))\n",
    "about_fs = pd.DataFrame.from_records(k, columns=['id', 'regex_bootcamp', 'bootcamp', 'ratio'])\n",
    "\n",
    "#HACER MERGE CON EL RESTO DE COLUMNAS Y EXPORTAR \n",
    "# about_fp = pd.merge(about_fp, dfa, \"left\", \"id\")\n",
    "\n",
    "about_fs.to_excel(\"2_about_fs.xlsx\", index = False)"
   ]
  },
  {
   "cell_type": "code",
   "execution_count": 24,
   "metadata": {},
   "outputs": [
    {
     "output_type": "execute_result",
     "data": {
      "text/plain": [
       "[(32690217, 'digital[ -]?house', 'Digital House', 100),\n",
       " (46810892, 'laborat.ria ', 'Laboratoria', 100),\n",
       " (47818340, 'laborat.ria ', 'Laboratoria', 100),\n",
       " (48426552, 'laborat.ria ', 'Laboratoria', 100),\n",
       " (49553788, 'laborat.ria ', 'Laboratoria', 100),\n",
       " (50136139, 'laborat.ria ', 'Laboratoria', 100),\n",
       " (50558792, 'laborat.ria ', 'Laboratoria', 100),\n",
       " (51112086, 'laborat.ria ', 'Laboratoria', 100),\n",
       " (53238040, 'laborat.ria ', 'Laboratoria', 100),\n",
       " (67980737, 'laborat.ria ', 'Laboratoria', 100),\n",
       " (74733633, 'laborat.ria ', 'Laboratoria', 100),\n",
       " (79419003, 'laborat.ria ', 'Laboratoria', 100),\n",
       " (14161321, 'nivel[ -]?pro ', 'Nivel Pro', 100),\n",
       " (50185459, 'nivel[ -]?pro ', 'Nivel Pro', 100),\n",
       " (50606757, 'nivel[ -]?pro ', 'Nivel Pro', 100),\n",
       " (13566127, 'plataforma[ -]?5', 'Plataforma 5', 91),\n",
       " (15614664, 'plataforma[ -]?5', 'Plataforma 5', 91),\n",
       " (17538393, 'plataforma[ -]?5', 'Plataforma 5', 91),\n",
       " (28845407, 'plataforma[ -]?5', 'Plataforma 5', 91),\n",
       " (44032888, 'plataforma[ -]?5', 'Plataforma 5', 91),\n",
       " (50376990, 'plataforma[ -]?5', 'Plataforma 5', 91),\n",
       " (70109823, 'plataforma[ -]?5', 'Plataforma 5', 100),\n",
       " (5439874, 'pygmalion', 'Pygmalion', 100),\n",
       " (29195313, 'pygmalion', 'Pygmalion', 100),\n",
       " (76486433, 'pygmalion', 'Pygmalion', 100),\n",
       " (79693601, 'pygmalion', 'Pygmalion', 100)]"
      ]
     },
     "metadata": {},
     "execution_count": 24
    }
   ],
   "source": [
    "k"
   ]
  },
  {
   "cell_type": "code",
   "execution_count": null,
   "metadata": {},
   "outputs": [],
   "source": []
  }
 ]
}