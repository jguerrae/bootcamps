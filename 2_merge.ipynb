{
 "metadata": {
  "language_info": {
   "codemirror_mode": {
    "name": "ipython",
    "version": 3
   },
   "file_extension": ".py",
   "mimetype": "text/x-python",
   "name": "python",
   "nbconvert_exporter": "python",
   "pygments_lexer": "ipython3",
   "version": "3.8.5"
  },
  "orig_nbformat": 2,
  "kernelspec": {
   "name": "python385jvsc74a57bd006cb5fed7a19db1a3b234843391dc1a69eede94e92f070202b04797e91c1cb37",
   "display_name": "Python 3.8.5 64-bit (conda)"
  }
 },
 "nbformat": 4,
 "nbformat_minor": 2,
 "cells": [
  {
   "cell_type": "code",
   "execution_count": 59,
   "metadata": {},
   "outputs": [],
   "source": [
    "import pandas as pd\n",
    "import numpy as np"
   ]
  },
  {
   "source": [
    "## Merge educación"
   ],
   "cell_type": "markdown",
   "metadata": {}
  },
  {
   "cell_type": "code",
   "execution_count": 60,
   "metadata": {},
   "outputs": [
    {
     "output_type": "stream",
     "name": "stdout",
     "text": [
      "(299, 34)\n"
     ]
    },
    {
     "output_type": "execute_result",
     "data": {
      "text/plain": [
       "Index(['id', 'regex_bootcamp', 'bootcamp', 'educ_title', 'ratio',\n",
       "       'scraping_services_id', 'linkedin_id', 'linkedin_profile_url',\n",
       "       'last_name', 'first_name', 'v_extension', 'location', 'job_title',\n",
       "       'company', 'job_history', 'snapshots', 'skills', 'education', 'about',\n",
       "       'updated', 'middle_name', 'num_connections', 'interests', 'volunteered',\n",
       "       'certifications', 'languages', 'recommendations', 'publications',\n",
       "       'patents', 'industry', 'titles', 'company_name_complete',\n",
       "       'job_title_complete', 'educacion'],\n",
       "      dtype='object')"
      ]
     },
     "metadata": {},
     "execution_count": 60
    }
   ],
   "source": [
    "#IMPORTAR EDUCACIÓN FUZZY\n",
    "educ_fuzzy  = pd.read_excel(\"fuzzy_educ_boots.xlsx\")\n",
    "print(educ_fuzzy.shape)\n",
    "educ_fuzzy.columns"
   ]
  },
  {
   "cell_type": "code",
   "execution_count": 61,
   "metadata": {},
   "outputs": [
    {
     "output_type": "stream",
     "name": "stdout",
     "text": [
      "(100, 34)\n"
     ]
    },
    {
     "output_type": "execute_result",
     "data": {
      "text/plain": [
       "Index(['id', 'regex_bootcamp', 'bootcamp', 'educ_title', 'ratio',\n",
       "       'scraping_services_id', 'linkedin_id', 'linkedin_profile_url',\n",
       "       'last_name', 'first_name', 'v_extension', 'location', 'job_title',\n",
       "       'company', 'job_history', 'snapshots', 'skills', 'education', 'about',\n",
       "       'updated', 'middle_name', 'num_connections', 'interests', 'volunteered',\n",
       "       'certifications', 'languages', 'recommendations', 'publications',\n",
       "       'patents', 'industry', 'titles', 'company_name_complete',\n",
       "       'job_title_complete', 'educacion'],\n",
       "      dtype='object')"
      ]
     },
     "metadata": {},
     "execution_count": 61
    }
   ],
   "source": [
    "#IMPORTAR EDUCACIÓN \n",
    "educ  = pd.read_excel(\"2_educ_boots.xlsx\")\n",
    "educ[\"ratio\"] = np.nan #CREAR COLUMNA DE RATIO CON NA\n",
    "educ = educ[list(educ_fuzzy.columns)] #TENER EL MISMO ORDEN\n",
    "print(educ.shape)\n",
    "educ.columns"
   ]
  },
  {
   "cell_type": "code",
   "execution_count": 71,
   "metadata": {},
   "outputs": [
    {
     "output_type": "execute_result",
     "data": {
      "text/plain": [
       "0"
      ]
     },
     "metadata": {},
     "execution_count": 71
    }
   ],
   "source": [
    "#¿CUALES ESTÁN EN EDU QUE NO ESTÉN EN ED FUZZY?\n",
    "l = []\n",
    "for i in list(educ.id):\n",
    "    if i not in list(educ_fuzzy.id):\n",
    "        l.append(i)\n",
    "len(l)"
   ]
  },
  {
   "source": [
    "Lo anterior implica que el dataset educ_fuzzy contiene al dataset educ"
   ],
   "cell_type": "markdown",
   "metadata": {}
  },
  {
   "cell_type": "code",
   "execution_count": 72,
   "metadata": {},
   "outputs": [],
   "source": [
    "education = educ_fuzzy.copy()"
   ]
  },
  {
   "source": [
    "## Merge certificación"
   ],
   "cell_type": "markdown",
   "metadata": {}
  },
  {
   "cell_type": "code",
   "execution_count": 73,
   "metadata": {},
   "outputs": [
    {
     "output_type": "stream",
     "name": "stdout",
     "text": [
      "(88, 33)\n"
     ]
    },
    {
     "output_type": "execute_result",
     "data": {
      "text/plain": [
       "Index(['id', 'regex_bootcamp', 'bootcamp', 'match', 'ratio',\n",
       "       'scraping_services_id', 'linkedin_id', 'linkedin_profile_url',\n",
       "       'last_name', 'first_name', 'v_extension', 'location', 'job_title',\n",
       "       'company', 'job_history', 'snapshots', 'skills', 'education', 'about',\n",
       "       'updated', 'middle_name', 'num_connections', 'interests', 'volunteered',\n",
       "       'certifications', 'languages', 'recommendations', 'publications',\n",
       "       'patents', 'industry', 'titles', 'company_name_complete',\n",
       "       'job_title_complete'],\n",
       "      dtype='object')"
      ]
     },
     "metadata": {},
     "execution_count": 73
    }
   ],
   "source": [
    "cert_fuzzy  = pd.read_excel(\"fuzzy_cert_boots.xlsx\")\n",
    "print(cert_fuzzy.shape)\n",
    "cert_fuzzy.columns"
   ]
  },
  {
   "cell_type": "code",
   "execution_count": 74,
   "metadata": {},
   "outputs": [
    {
     "output_type": "stream",
     "name": "stdout",
     "text": [
      "(15, 33)\n"
     ]
    },
    {
     "output_type": "execute_result",
     "data": {
      "text/plain": [
       "Index(['id', 'regex_bootcamp', 'bootcamp', 'match', 'ratio',\n",
       "       'scraping_services_id', 'linkedin_id', 'linkedin_profile_url',\n",
       "       'last_name', 'first_name', 'v_extension', 'location', 'job_title',\n",
       "       'company', 'job_history', 'snapshots', 'skills', 'education', 'about',\n",
       "       'updated', 'middle_name', 'num_connections', 'interests', 'volunteered',\n",
       "       'certifications', 'languages', 'recommendations', 'publications',\n",
       "       'patents', 'industry', 'titles', 'company_name_complete',\n",
       "       'job_title_complete'],\n",
       "      dtype='object')"
      ]
     },
     "metadata": {},
     "execution_count": 74
    }
   ],
   "source": [
    "cert  = pd.read_excel(\"2_cert_boots.xlsx\")\n",
    "cert[\"ratio\"] = np.nan #CREAR COLUMNA DE RATIO CON NA\n",
    "cert = cert[list(cert_fuzzy.columns)] #TENER EL MISMO ORDEN\n",
    "print(cert.shape)\n",
    "cert.columns "
   ]
  },
  {
   "cell_type": "code",
   "execution_count": 76,
   "metadata": {},
   "outputs": [
    {
     "output_type": "execute_result",
     "data": {
      "text/plain": [
       "12"
      ]
     },
     "metadata": {},
     "execution_count": 76
    }
   ],
   "source": [
    "#¿CUALES ESTÁN EN EDU QUE NO ESTÉN EN ED FUZZY? --> 12\n",
    "c = []\n",
    "for i in list(cert.id):\n",
    "    if i not in list(cert_fuzzy.id):\n",
    "        c.append(i)\n",
    "len(c)"
   ]
  },
  {
   "cell_type": "code",
   "execution_count": 75,
   "metadata": {},
   "outputs": [
    {
     "output_type": "execute_result",
     "data": {
      "text/plain": [
       "12"
      ]
     },
     "metadata": {},
     "execution_count": 75
    }
   ],
   "source": [
    "#CONSERVAR SOLO LOS QUE SEAN DIFERENTES\n",
    "c = []\n",
    "for i in list(cert.id):\n",
    "    for e in list(cert_fuzzy.id):\n",
    "        if e == i:\n",
    "            cert = cert[cert[\"id\"]!=e] #CONSERVA TODOS LOS QUE NO COINCIDAN\n",
    "len(cert)"
   ]
  },
  {
   "cell_type": "code",
   "execution_count": 77,
   "metadata": {},
   "outputs": [
    {
     "output_type": "execute_result",
     "data": {
      "text/plain": [
       "100"
      ]
     },
     "metadata": {},
     "execution_count": 77
    }
   ],
   "source": [
    "certification = cert_fuzzy.append(cert)\n",
    "len(certification)"
   ]
  },
  {
   "source": [
    "## Merge About"
   ],
   "cell_type": "markdown",
   "metadata": {}
  },
  {
   "cell_type": "code",
   "execution_count": 78,
   "metadata": {},
   "outputs": [],
   "source": [
    "# about_fuzzy  = pd.read_excel(\"fuzzy_about_boots.xlsx\")\n",
    "# print(about_fuzzy.shape)\n",
    "# about_fuzzy.columns"
   ]
  },
  {
   "cell_type": "code",
   "execution_count": 79,
   "metadata": {},
   "outputs": [],
   "source": [
    "# about  = pd.read_excel(\"2_about_boots.xlsx\")\n",
    "# about[\"ratio\"] = np.nan #CREAR COLUMNA DE RATIO CON NA\n",
    "# about = about[list(about_fuzzy.columns)] #TENER EL MISMO ORDEN\n",
    "# print(about.shape)\n",
    "# about.columns "
   ]
  },
  {
   "cell_type": "code",
   "execution_count": 80,
   "metadata": {},
   "outputs": [],
   "source": [
    "#¿CUALES ESTÁN EN EDU QUE NO ESTÉN EN ED FUZZY? --> 12\n",
    "# c = []\n",
    "# for i in about.id:\n",
    "#     if i not in about_fuzzy.id:\n",
    "#         c.append(i)"
   ]
  },
  {
   "cell_type": "code",
   "execution_count": 81,
   "metadata": {},
   "outputs": [],
   "source": [
    "#CONSERVAR SOLO LOS QUE SEAN DIFERENTES\n",
    "# c = []\n",
    "# for i in list(about.id):\n",
    "#     for e in list(about_fuzzy.id):\n",
    "#         if e == i:\n",
    "#             about = about[about[\"id\"]!=e] #CONSERVA TODOS LOS QUE NO COINCIDAN\n",
    "# len(about)"
   ]
  },
  {
   "cell_type": "code",
   "execution_count": 82,
   "metadata": {},
   "outputs": [],
   "source": [
    "# about = about_fuzzy.append(about)\n",
    "# len(about)"
   ]
  },
  {
   "source": [
    "## MERGE FINAL"
   ],
   "cell_type": "markdown",
   "metadata": {}
  },
  {
   "cell_type": "code",
   "execution_count": 86,
   "metadata": {},
   "outputs": [
    {
     "output_type": "execute_result",
     "data": {
      "text/plain": [
       "95"
      ]
     },
     "metadata": {},
     "execution_count": 86
    }
   ],
   "source": [
    "#EDUCACION Y ABOUT. ¿CUANTOS HAY EN ABOUT QUE NO HAY EN EDUCATION? -->95\n",
    "c = []\n",
    "for i in list(certification.id):\n",
    "    if i not in list(education.id):\n",
    "        c.append(i)\n",
    "len(c)"
   ]
  },
  {
   "cell_type": "code",
   "execution_count": 88,
   "metadata": {},
   "outputs": [
    {
     "output_type": "execute_result",
     "data": {
      "text/plain": [
       "95"
      ]
     },
     "metadata": {},
     "execution_count": 88
    }
   ],
   "source": [
    "#CONSERVAR SOLO LOS QUE SEAN DIFERENTES\n",
    "c = []\n",
    "for i in list(certification.id):\n",
    "    for e in list(education.id):\n",
    "        if e == i:\n",
    "            certification = certification[certification[\"id\"]!=e] #CONSERVA TODOS LOS QUE NO COINCIDAN\n",
    "len(certification)"
   ]
  },
  {
   "cell_type": "code",
   "execution_count": 89,
   "metadata": {},
   "outputs": [
    {
     "output_type": "execute_result",
     "data": {
      "text/plain": [
       "(394, 35)"
      ]
     },
     "metadata": {},
     "execution_count": 89
    }
   ],
   "source": [
    "#APPEND\n",
    "educ_cert = education.append(certification)\n",
    "educ_cert.shape"
   ]
  },
  {
   "cell_type": "code",
   "execution_count": 92,
   "metadata": {},
   "outputs": [],
   "source": [
    "#EXPORT\n",
    "educ_cert.to_excel(\"2_finaldb_boot.xlsx\", index = False)"
   ]
  },
  {
   "cell_type": "code",
   "execution_count": 98,
   "metadata": {},
   "outputs": [
    {
     "output_type": "execute_result",
     "data": {
      "text/plain": [
       "bootcamp\n",
       "Acámica                                            11.421320\n",
       "Bootcamp Institute                                  0.253807\n",
       "Coderise International                              1.269036\n",
       "Desafío Latam                                       1.776650\n",
       "Dev F.                                              0.253807\n",
       "Digital House                                       4.568528\n",
       "Generation Mexico                                   0.253807\n",
       "Hack Academy                                        1.269036\n",
       "Iron Hack                                           1.015228\n",
       "Keep Coding                                        15.989848\n",
       "Laboratoria                                        17.258883\n",
       "Le Wagon                                            1.015228\n",
       "Make it Real Camp                                   0.761421\n",
       "Nivel Pro                                           1.522843\n",
       "Plataforma 5                                        1.269036\n",
       "Pygmalion                                          26.903553\n",
       "Reprograma                                          0.507614\n",
       "Talento Digital                                     1.269036\n",
       "World Tech Inc                                      8.375635\n",
       "World Tech Inc (a.k.a. World Tech Makers –WTM–)     0.761421\n",
       "iCreate Coding Academy                              2.284264\n",
       "Name: id, dtype: float64"
      ]
     },
     "metadata": {},
     "execution_count": 98
    }
   ],
   "source": [
    "#DISTRIBUCIÓN PRELIMINAR DE SHARE\n",
    "(educ_cert.groupby(\"bootcamp\").count()[\"id\"] / educ_cert.groupby(\"bootcamp\").count()[\"id\"].sum())*100"
   ]
  },
  {
   "cell_type": "code",
   "execution_count": null,
   "metadata": {},
   "outputs": [],
   "source": []
  }
 ]
}