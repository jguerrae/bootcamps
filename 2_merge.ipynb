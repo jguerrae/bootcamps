{
 "metadata": {
  "language_info": {
   "codemirror_mode": {
    "name": "ipython",
    "version": 3
   },
   "file_extension": ".py",
   "mimetype": "text/x-python",
   "name": "python",
   "nbconvert_exporter": "python",
   "pygments_lexer": "ipython3",
   "version": "3.8.5"
  },
  "orig_nbformat": 2,
  "kernelspec": {
   "name": "python385jvsc74a57bd006cb5fed7a19db1a3b234843391dc1a69eede94e92f070202b04797e91c1cb37",
   "display_name": "Python 3.8.5 64-bit (conda)"
  }
 },
 "nbformat": 4,
 "nbformat_minor": 2,
 "cells": [
  {
   "cell_type": "code",
   "execution_count": 35,
   "metadata": {},
   "outputs": [],
   "source": [
    "import pandas as pd\n",
    "import numpy as np"
   ]
  },
  {
   "cell_type": "code",
   "execution_count": 49,
   "metadata": {},
   "outputs": [
    {
     "output_type": "stream",
     "name": "stdout",
     "text": [
      "(299, 34)\n"
     ]
    },
    {
     "output_type": "execute_result",
     "data": {
      "text/plain": [
       "Index(['id', 'regex_bootcamp', 'bootcamp', 'match', 'ratio',\n",
       "       'scraping_services_id', 'linkedin_id', 'linkedin_profile_url',\n",
       "       'last_name', 'first_name', 'v_extension', 'location', 'job_title',\n",
       "       'company', 'job_history', 'snapshots', 'skills', 'education', 'about',\n",
       "       'updated', 'middle_name', 'num_connections', 'interests', 'volunteered',\n",
       "       'certifications', 'languages', 'recommendations', 'publications',\n",
       "       'patents', 'industry', 'titles', 'company_name_complete',\n",
       "       'job_title_complete', 'educacion'],\n",
       "      dtype='object')"
      ]
     },
     "metadata": {},
     "execution_count": 49
    }
   ],
   "source": [
    "#EDUC FUZZY\n",
    "educ_partial_fuzzy  = pd.read_excel(\"fuzzy_partial_ratio_educ_boots.xlsx\")\n",
    "print(educ_partial_fuzzy.shape)\n",
    "educ_partial_fuzzy.rename(columns= {\"educ_title\" : \"match\" }, inplace=True) #renombrar match\n",
    "educ_partial_fuzzy.columns\n"
   ]
  },
  {
   "cell_type": "code",
   "execution_count": 50,
   "metadata": {},
   "outputs": [
    {
     "output_type": "stream",
     "name": "stdout",
     "text": [
      "(194, 34)\n"
     ]
    },
    {
     "output_type": "execute_result",
     "data": {
      "text/plain": [
       "Index(['id', 'regex_bootcamp', 'bootcamp', 'match', 'ratio',\n",
       "       'scraping_services_id', 'linkedin_id', 'linkedin_profile_url',\n",
       "       'last_name', 'first_name', 'v_extension', 'location', 'job_title',\n",
       "       'company', 'job_history', 'snapshots', 'skills', 'education', 'about',\n",
       "       'updated', 'middle_name', 'num_connections', 'interests', 'volunteered',\n",
       "       'certifications', 'languages', 'recommendations', 'publications',\n",
       "       'patents', 'industry', 'titles', 'company_name_complete',\n",
       "       'job_title_complete', 'educacion'],\n",
       "      dtype='object')"
      ]
     },
     "metadata": {},
     "execution_count": 50
    }
   ],
   "source": [
    "#EDUC TOKEN\n",
    "educ_token_fuzzy  = pd.read_excel(\"fuzzy_token_set_ratio_educ_boots.xlsx\")\n",
    "educ_token_fuzzy.rename(columns= {\"educ_title\" : \"match\" }, inplace=True) #renombrar match\n",
    "print(educ_token_fuzzy.shape)\n",
    "educ_token_fuzzy.columns"
   ]
  },
  {
   "cell_type": "code",
   "execution_count": 56,
   "metadata": {},
   "outputs": [
    {
     "output_type": "stream",
     "name": "stdout",
     "text": [
      "(100, 33)\n"
     ]
    },
    {
     "output_type": "execute_result",
     "data": {
      "text/plain": [
       "Index(['id', 'regex_bootcamp', 'bootcamp', 'match', 'scraping_services_id',\n",
       "       'linkedin_id', 'linkedin_profile_url', 'last_name', 'first_name',\n",
       "       'v_extension', 'location', 'job_title', 'company', 'job_history',\n",
       "       'snapshots', 'skills', 'education', 'about', 'updated', 'middle_name',\n",
       "       'num_connections', 'interests', 'volunteered', 'certifications',\n",
       "       'languages', 'recommendations', 'publications', 'patents', 'industry',\n",
       "       'titles', 'company_name_complete', 'job_title_complete', 'educacion'],\n",
       "      dtype='object')"
      ]
     },
     "metadata": {},
     "execution_count": 56
    }
   ],
   "source": [
    "#IMPORTAR EDUCACIÓN \n",
    "educ  = pd.read_excel(\"2_educ_boots.xlsx\")\n",
    "educ.rename(columns= {\"educ_title\" : \"match\" }, inplace=True) #renombrar match\n",
    "print(educ.shape)\n",
    "#NO TIENE RATIO\n",
    "educ.columns"
   ]
  },
  {
   "cell_type": "code",
   "execution_count": 43,
   "metadata": {},
   "outputs": [
    {
     "output_type": "stream",
     "name": "stdout",
     "text": [
      "(88, 33)\n"
     ]
    },
    {
     "output_type": "execute_result",
     "data": {
      "text/plain": [
       "Index(['id', 'regex_bootcamp', 'bootcamp', 'match', 'ratio',\n",
       "       'scraping_services_id', 'linkedin_id', 'linkedin_profile_url',\n",
       "       'last_name', 'first_name', 'v_extension', 'location', 'job_title',\n",
       "       'company', 'job_history', 'snapshots', 'skills', 'education', 'about',\n",
       "       'updated', 'middle_name', 'num_connections', 'interests', 'volunteered',\n",
       "       'certifications', 'languages', 'recommendations', 'publications',\n",
       "       'patents', 'industry', 'titles', 'company_name_complete',\n",
       "       'job_title_complete'],\n",
       "      dtype='object')"
      ]
     },
     "metadata": {},
     "execution_count": 43
    }
   ],
   "source": [
    "#CERT TOKEN, NO TIENE EDUC TITLE\n",
    "cert_partial_fuzzy  = pd.read_excel(\"fuzzy_partial_ratio_cert_boots.xlsx\")\n",
    "print(cert_partial_fuzzy.shape)\n",
    "cert_partial_fuzzy.columns\n",
    "#NO tiene educación de la anterior (educ)."
   ]
  },
  {
   "cell_type": "code",
   "execution_count": 52,
   "metadata": {},
   "outputs": [
    {
     "output_type": "stream",
     "name": "stdout",
     "text": [
      "(51, 33)\n"
     ]
    },
    {
     "output_type": "execute_result",
     "data": {
      "text/plain": [
       "Index(['id', 'regex_bootcamp', 'bootcamp', 'match', 'ratio',\n",
       "       'scraping_services_id', 'linkedin_id', 'linkedin_profile_url',\n",
       "       'last_name', 'first_name', 'v_extension', 'location', 'job_title',\n",
       "       'company', 'job_history', 'snapshots', 'skills', 'education', 'about',\n",
       "       'updated', 'middle_name', 'num_connections', 'interests', 'volunteered',\n",
       "       'certifications', 'languages', 'recommendations', 'publications',\n",
       "       'patents', 'industry', 'titles', 'company_name_complete',\n",
       "       'job_title_complete'],\n",
       "      dtype='object')"
      ]
     },
     "metadata": {},
     "execution_count": 52
    }
   ],
   "source": [
    "#CERT TOKEN, NO TIENE EDUC TITLE\n",
    "cert_token_fuzzy  = pd.read_excel(\"fuzzy_token_set_ratio_cert_boots.xlsx\")\n",
    "print(cert_token_fuzzy.shape)\n",
    "cert_token_fuzzy.columns\n",
    "#NO tiene educación de la anterior."
   ]
  },
  {
   "cell_type": "code",
   "execution_count": 58,
   "metadata": {},
   "outputs": [
    {
     "output_type": "stream",
     "name": "stdout",
     "text": [
      "(15, 32)\n"
     ]
    },
    {
     "output_type": "execute_result",
     "data": {
      "text/plain": [
       "Index(['id', 'regex_bootcamp', 'bootcamp', 'match', 'scraping_services_id',\n",
       "       'linkedin_id', 'linkedin_profile_url', 'last_name', 'first_name',\n",
       "       'v_extension', 'location', 'job_title', 'company', 'job_history',\n",
       "       'snapshots', 'skills', 'education', 'about', 'updated', 'middle_name',\n",
       "       'num_connections', 'interests', 'volunteered', 'certifications',\n",
       "       'languages', 'recommendations', 'publications', 'patents', 'industry',\n",
       "       'titles', 'company_name_complete', 'job_title_complete'],\n",
       "      dtype='object')"
      ]
     },
     "metadata": {},
     "execution_count": 58
    }
   ],
   "source": [
    "cert  = pd.read_excel(\"2_cert_boots.xlsx\")\n",
    "print(cert.shape)\n",
    "cert.columns \n",
    "#NO TIENE RATIO NI EDUCATION"
   ]
  },
  {
   "cell_type": "code",
   "execution_count": 53,
   "metadata": {},
   "outputs": [
    {
     "output_type": "stream",
     "name": "stdout",
     "text": [
      "(73, 32)\n"
     ]
    },
    {
     "output_type": "execute_result",
     "data": {
      "text/plain": [
       "Index(['id', 'regex_bootcamp', 'bootcamp', 'ratio', 'scraping_services_id',\n",
       "       'linkedin_id', 'linkedin_profile_url', 'last_name', 'first_name',\n",
       "       'v_extension', 'location', 'job_title', 'company', 'job_history',\n",
       "       'snapshots', 'skills', 'education', 'about', 'updated', 'middle_name',\n",
       "       'num_connections', 'interests', 'volunteered', 'certifications',\n",
       "       'languages', 'recommendations', 'publications', 'patents', 'industry',\n",
       "       'titles', 'company_name_complete', 'job_title_complete'],\n",
       "      dtype='object')"
      ]
     },
     "metadata": {},
     "execution_count": 53
    }
   ],
   "source": [
    "#ABOUT PARTIAL\n",
    "about_partial_fuzzy  = pd.read_excel(\"fuzzy_partial_ratio_about_boots.xlsx\")\n",
    "print(about_partial_fuzzy.shape)\n",
    "about_partial_fuzzy.columns\n",
    "#NO TIENE MATCH (de cert) y tampoco EDUC (de educ)"
   ]
  },
  {
   "cell_type": "code",
   "execution_count": 54,
   "metadata": {},
   "outputs": [
    {
     "output_type": "stream",
     "name": "stdout",
     "text": [
      "(28, 32)\n"
     ]
    },
    {
     "output_type": "execute_result",
     "data": {
      "text/plain": [
       "Index(['id', 'regex_bootcamp', 'bootcamp', 'ratio', 'scraping_services_id',\n",
       "       'linkedin_id', 'linkedin_profile_url', 'last_name', 'first_name',\n",
       "       'v_extension', 'location', 'job_title', 'company', 'job_history',\n",
       "       'snapshots', 'skills', 'education', 'about', 'updated', 'middle_name',\n",
       "       'num_connections', 'interests', 'volunteered', 'certifications',\n",
       "       'languages', 'recommendations', 'publications', 'patents', 'industry',\n",
       "       'titles', 'company_name_complete', 'job_title_complete'],\n",
       "      dtype='object')"
      ]
     },
     "metadata": {},
     "execution_count": 54
    }
   ],
   "source": [
    "#ABOUT TOKEN\n",
    "about_token_fuzzy  = pd.read_excel(\"fuzzy_token_set_ratio_about_boots.xlsx\")\n",
    "print(about_token_fuzzy.shape)\n",
    "about_token_fuzzy.columns\n",
    "#MISMA CASO ANTERIOR"
   ]
  },
  {
   "cell_type": "code",
   "execution_count": 61,
   "metadata": {},
   "outputs": [
    {
     "output_type": "stream",
     "name": "stdout",
     "text": [
      "(14, 31)\n"
     ]
    },
    {
     "output_type": "execute_result",
     "data": {
      "text/plain": [
       "Index(['id', 'regex_bootcamp', 'bootcamp', 'scraping_services_id',\n",
       "       'linkedin_id', 'linkedin_profile_url', 'last_name', 'first_name',\n",
       "       'v_extension', 'location', 'job_title', 'company', 'job_history',\n",
       "       'snapshots', 'skills', 'education', 'about', 'updated', 'middle_name',\n",
       "       'num_connections', 'interests', 'volunteered', 'certifications',\n",
       "       'languages', 'recommendations', 'publications', 'patents', 'industry',\n",
       "       'titles', 'company_name_complete', 'job_title_complete'],\n",
       "      dtype='object')"
      ]
     },
     "metadata": {},
     "execution_count": 61
    }
   ],
   "source": [
    "about  = pd.read_excel(\"2_about_boots.xlsx\")\n",
    "# about[\"ratio\"] = np.nan #CREAR COLUMNA DE RATIO CON NA\n",
    "# about = about[list(about_fuzzy.columns)] #TENER EL MISMO ORDEN\n",
    "print(about.shape)\n",
    "about.columns \n",
    "#NO TIENE MATCH RATIO NI EDUC"
   ]
  },
  {
   "cell_type": "code",
   "execution_count": 69,
   "metadata": {},
   "outputs": [
    {
     "output_type": "execute_result",
     "data": {
      "text/plain": [
       "(886, 34)"
      ]
     },
     "metadata": {},
     "execution_count": 69
    }
   ],
   "source": [
    "#BASE COMPLETA\n",
    "finaldb = pd.concat([educ_partial_fuzzy, educ_token_fuzzy, educ, cert_partial_fuzzy, cert_token_fuzzy, cert, cert_partial_fuzzy, cert_token_fuzzy])\n",
    "finaldb.shape"
   ]
  },
  {
   "cell_type": "code",
   "execution_count": 75,
   "metadata": {},
   "outputs": [
    {
     "output_type": "execute_result",
     "data": {
      "text/plain": [
       "386"
      ]
     },
     "metadata": {},
     "execution_count": 75
    }
   ],
   "source": [
    "#HAY 386 IDS UNICOS\n",
    "finaldb.id.nunique()"
   ]
  },
  {
   "cell_type": "code",
   "execution_count": 76,
   "metadata": {},
   "outputs": [
    {
     "output_type": "execute_result",
     "data": {
      "text/plain": [
       "          id                                     regex_bootcamp  \\\n",
       "0   45744143                                          Iron Hack   \n",
       "1   18357933                                        Laboratoria   \n",
       "2   67824354                                        Keep Coding   \n",
       "3   70564008                                      Digital House   \n",
       "4   51538550                                        Keep Coding   \n",
       "..       ...                                                ...   \n",
       "9   79384425  make[ -]?it[ -]?real[ -]?camp| make[ -]?it[ -]...   \n",
       "10  61077703                                      hack.?academy   \n",
       "12  47600724                                      hack.?academy   \n",
       "13   4823586  make[ -]?it[ -]?real[ -]?camp| make[ -]?it[ -]...   \n",
       "14  77439236  icreate[ -]?limited|icreate|icreate[ -]?coding...   \n",
       "\n",
       "                  bootcamp                                              match  \\\n",
       "0                Iron Hack                                           ironhack   \n",
       "1              Laboratoria                     laboratorium school, den bosch   \n",
       "2              Keep Coding                                         keepcoding   \n",
       "3            Digital House                        digital house coding school   \n",
       "4              Keep Coding                                         keepcoding   \n",
       "..                     ...                                                ...   \n",
       "9        Make it Real Camp                               race to make it real   \n",
       "10            Hack Academy                                    biohack academy   \n",
       "12            Hack Academy                                    biohack academy   \n",
       "13       Make it Real Camp  microsoft “architecture and design for microso...   \n",
       "14  iCreate Coding Academy  icreate, iinnovate, ieducate with ipads in the...   \n",
       "\n",
       "    ratio  scraping_services_id                   linkedin_id  \\\n",
       "0    88.0              45744143                sebastianebner   \n",
       "1    91.0              18357933         helma-foolen-40778917   \n",
       "2    90.0              67824354  ramón-albertí-danés-22837140   \n",
       "3   100.0              70564008             maximilianoderito   \n",
       "4    90.0              51538550                    jlgarciaap   \n",
       "..    ...                   ...                           ...   \n",
       "9     NaN              79384425    jasmeet-gurudatta-30395821   \n",
       "10    NaN              61077703  eline-van-der-ploeg-903010a5   \n",
       "12    NaN              47600724                jordivallsfoix   \n",
       "13    NaN               4823586      bill-bartolotto-764b6715   \n",
       "14    NaN              77439236        iliana-grande-4460a565   \n",
       "\n",
       "                                 linkedin_profile_url   last_name  \\\n",
       "0          https://www.linkedin.com/in/sebastianebner       Ebner   \n",
       "1   https://www.linkedin.com/in/helma-foolen-40778917      Foolen   \n",
       "2   https://www.linkedin.com/in/ramón-albertí-dané...       Danés   \n",
       "3       https://www.linkedin.com/in/maximilianoderito        Rito   \n",
       "4              https://www.linkedin.com/in/jlgarciaap    Aparicio   \n",
       "..                                                ...         ...   \n",
       "9   https://www.linkedin.com/in/jasmeet-gurudatta-...   Gurudatta   \n",
       "10  https://www.linkedin.com/in/eline-van-der-ploe...       Ploeg   \n",
       "12         https://www.linkedin.com/in/jordivallsfoix       Valls   \n",
       "13  https://www.linkedin.com/in/bill-bartolotto-76...  Bartolotto   \n",
       "14  https://www.linkedin.com/in/iliana-grande-4460...      Grande   \n",
       "\n",
       "     first_name  ...                                     certifications  \\\n",
       "0     Sebastian  ...                                                NaN   \n",
       "1         Helma  ...                                                NaN   \n",
       "2         Ramón  ...  [{'certificate_authority': 'Mejorando.la INC',...   \n",
       "3   Maximiliano  ...  [{'certificate_authority': 'The International ...   \n",
       "4          Juan  ...  [{'certificate_authority': 'PECB', 'end': 'Mar...   \n",
       "..          ...  ...                                                ...   \n",
       "9       Jasmeet  ...  [{'certificate_authority': 'ketchum sampark pv...   \n",
       "10        Eline  ...  [{'certificate_authority': 'royal academy of a...   \n",
       "12        Jordi  ...  [{'certificate_authority': 'udemy', 'title': '...   \n",
       "13         Bill  ...  [{'certificate_authority': 'microsoft', 'title...   \n",
       "14       Iliana  ...  [{'certificate_authority': 'ontario college of...   \n",
       "\n",
       "                                      languages  \\\n",
       "0    ['English', 'German', 'Spanish', 'French']   \n",
       "1                                           NaN   \n",
       "2                         ['Inglés', 'Catalán']   \n",
       "3                         ['Español', 'Inglés']   \n",
       "4                                   ['English']   \n",
       "..                                          ...   \n",
       "9                          ['English', 'Hindi']   \n",
       "10                                          NaN   \n",
       "12            ['Catalan', 'Spanish', 'English']   \n",
       "13                                          NaN   \n",
       "14  ['English', 'Spanish', 'French', 'Italian']   \n",
       "\n",
       "                                      recommendations  \\\n",
       "0                                                 NaN   \n",
       "1                                                 NaN   \n",
       "2   ['Ramón has an aptitude for logics and underst...   \n",
       "3                                                 NaN   \n",
       "4                                                 NaN   \n",
       "..                                                ...   \n",
       "9                                                 NaN   \n",
       "10                                                NaN   \n",
       "12                                                NaN   \n",
       "13                                                NaN   \n",
       "14                                                NaN   \n",
       "\n",
       "                                         publications patents  \\\n",
       "0                                                 NaN     NaN   \n",
       "1                                                 NaN     NaN   \n",
       "2                                                 NaN     NaN   \n",
       "3   [{'authors': [{'full_name': 'Maximiliano De Ri...     NaN   \n",
       "4                                                 NaN     NaN   \n",
       "..                                                ...     ...   \n",
       "9                                                 NaN     NaN   \n",
       "10                                                NaN     NaN   \n",
       "12                                                NaN     NaN   \n",
       "13                                                NaN     NaN   \n",
       "14                                                NaN     NaN   \n",
       "\n",
       "              industry titles company_name_complete job_title_complete  \\\n",
       "0   Financial Services    NaN                   NaN                NaN   \n",
       "1        Biotechnology    NaN                   NaN                NaN   \n",
       "2                  NaN    NaN                   NaN                NaN   \n",
       "3                  NaN    NaN                   NaN                NaN   \n",
       "4                  NaN    NaN                   NaN                NaN   \n",
       "..                 ...    ...                   ...                ...   \n",
       "9                  NaN    NaN                   NaN                NaN   \n",
       "10                 NaN    NaN                   NaN                NaN   \n",
       "12     Pharmaceuticals    NaN                   NaN                NaN   \n",
       "13   Computer Software    NaN                   NaN                NaN   \n",
       "14                 NaN    NaN                   NaN                NaN   \n",
       "\n",
       "                                            educacion  \n",
       "0   [{'education': 'esade business & law school', ...  \n",
       "1   [{'education': 'hlo biochemie, etten-leur', 'd...  \n",
       "2   [{'education': 'keepcoding', 'degrees': 'keepc...  \n",
       "3   [{'education': 'pontificia universidad católic...  \n",
       "4   [{'education': 'keepcoding', 'degrees': 'keepc...  \n",
       "..                                                ...  \n",
       "9                                                 NaN  \n",
       "10                                                NaN  \n",
       "12                                                NaN  \n",
       "13                                                NaN  \n",
       "14                                                NaN  \n",
       "\n",
       "[386 rows x 34 columns]"
      ],
      "text/html": "<div>\n<style scoped>\n    .dataframe tbody tr th:only-of-type {\n        vertical-align: middle;\n    }\n\n    .dataframe tbody tr th {\n        vertical-align: top;\n    }\n\n    .dataframe thead th {\n        text-align: right;\n    }\n</style>\n<table border=\"1\" class=\"dataframe\">\n  <thead>\n    <tr style=\"text-align: right;\">\n      <th></th>\n      <th>id</th>\n      <th>regex_bootcamp</th>\n      <th>bootcamp</th>\n      <th>match</th>\n      <th>ratio</th>\n      <th>scraping_services_id</th>\n      <th>linkedin_id</th>\n      <th>linkedin_profile_url</th>\n      <th>last_name</th>\n      <th>first_name</th>\n      <th>...</th>\n      <th>certifications</th>\n      <th>languages</th>\n      <th>recommendations</th>\n      <th>publications</th>\n      <th>patents</th>\n      <th>industry</th>\n      <th>titles</th>\n      <th>company_name_complete</th>\n      <th>job_title_complete</th>\n      <th>educacion</th>\n    </tr>\n  </thead>\n  <tbody>\n    <tr>\n      <th>0</th>\n      <td>45744143</td>\n      <td>Iron Hack</td>\n      <td>Iron Hack</td>\n      <td>ironhack</td>\n      <td>88.0</td>\n      <td>45744143</td>\n      <td>sebastianebner</td>\n      <td>https://www.linkedin.com/in/sebastianebner</td>\n      <td>Ebner</td>\n      <td>Sebastian</td>\n      <td>...</td>\n      <td>NaN</td>\n      <td>['English', 'German', 'Spanish', 'French']</td>\n      <td>NaN</td>\n      <td>NaN</td>\n      <td>NaN</td>\n      <td>Financial Services</td>\n      <td>NaN</td>\n      <td>NaN</td>\n      <td>NaN</td>\n      <td>[{'education': 'esade business &amp; law school', ...</td>\n    </tr>\n    <tr>\n      <th>1</th>\n      <td>18357933</td>\n      <td>Laboratoria</td>\n      <td>Laboratoria</td>\n      <td>laboratorium school, den bosch</td>\n      <td>91.0</td>\n      <td>18357933</td>\n      <td>helma-foolen-40778917</td>\n      <td>https://www.linkedin.com/in/helma-foolen-40778917</td>\n      <td>Foolen</td>\n      <td>Helma</td>\n      <td>...</td>\n      <td>NaN</td>\n      <td>NaN</td>\n      <td>NaN</td>\n      <td>NaN</td>\n      <td>NaN</td>\n      <td>Biotechnology</td>\n      <td>NaN</td>\n      <td>NaN</td>\n      <td>NaN</td>\n      <td>[{'education': 'hlo biochemie, etten-leur', 'd...</td>\n    </tr>\n    <tr>\n      <th>2</th>\n      <td>67824354</td>\n      <td>Keep Coding</td>\n      <td>Keep Coding</td>\n      <td>keepcoding</td>\n      <td>90.0</td>\n      <td>67824354</td>\n      <td>ramón-albertí-danés-22837140</td>\n      <td>https://www.linkedin.com/in/ramón-albertí-dané...</td>\n      <td>Danés</td>\n      <td>Ramón</td>\n      <td>...</td>\n      <td>[{'certificate_authority': 'Mejorando.la INC',...</td>\n      <td>['Inglés', 'Catalán']</td>\n      <td>['Ramón has an aptitude for logics and underst...</td>\n      <td>NaN</td>\n      <td>NaN</td>\n      <td>NaN</td>\n      <td>NaN</td>\n      <td>NaN</td>\n      <td>NaN</td>\n      <td>[{'education': 'keepcoding', 'degrees': 'keepc...</td>\n    </tr>\n    <tr>\n      <th>3</th>\n      <td>70564008</td>\n      <td>Digital House</td>\n      <td>Digital House</td>\n      <td>digital house coding school</td>\n      <td>100.0</td>\n      <td>70564008</td>\n      <td>maximilianoderito</td>\n      <td>https://www.linkedin.com/in/maximilianoderito</td>\n      <td>Rito</td>\n      <td>Maximiliano</td>\n      <td>...</td>\n      <td>[{'certificate_authority': 'The International ...</td>\n      <td>['Español', 'Inglés']</td>\n      <td>NaN</td>\n      <td>[{'authors': [{'full_name': 'Maximiliano De Ri...</td>\n      <td>NaN</td>\n      <td>NaN</td>\n      <td>NaN</td>\n      <td>NaN</td>\n      <td>NaN</td>\n      <td>[{'education': 'pontificia universidad católic...</td>\n    </tr>\n    <tr>\n      <th>4</th>\n      <td>51538550</td>\n      <td>Keep Coding</td>\n      <td>Keep Coding</td>\n      <td>keepcoding</td>\n      <td>90.0</td>\n      <td>51538550</td>\n      <td>jlgarciaap</td>\n      <td>https://www.linkedin.com/in/jlgarciaap</td>\n      <td>Aparicio</td>\n      <td>Juan</td>\n      <td>...</td>\n      <td>[{'certificate_authority': 'PECB', 'end': 'Mar...</td>\n      <td>['English']</td>\n      <td>NaN</td>\n      <td>NaN</td>\n      <td>NaN</td>\n      <td>NaN</td>\n      <td>NaN</td>\n      <td>NaN</td>\n      <td>NaN</td>\n      <td>[{'education': 'keepcoding', 'degrees': 'keepc...</td>\n    </tr>\n    <tr>\n      <th>...</th>\n      <td>...</td>\n      <td>...</td>\n      <td>...</td>\n      <td>...</td>\n      <td>...</td>\n      <td>...</td>\n      <td>...</td>\n      <td>...</td>\n      <td>...</td>\n      <td>...</td>\n      <td>...</td>\n      <td>...</td>\n      <td>...</td>\n      <td>...</td>\n      <td>...</td>\n      <td>...</td>\n      <td>...</td>\n      <td>...</td>\n      <td>...</td>\n      <td>...</td>\n      <td>...</td>\n    </tr>\n    <tr>\n      <th>9</th>\n      <td>79384425</td>\n      <td>make[ -]?it[ -]?real[ -]?camp| make[ -]?it[ -]...</td>\n      <td>Make it Real Camp</td>\n      <td>race to make it real</td>\n      <td>NaN</td>\n      <td>79384425</td>\n      <td>jasmeet-gurudatta-30395821</td>\n      <td>https://www.linkedin.com/in/jasmeet-gurudatta-...</td>\n      <td>Gurudatta</td>\n      <td>Jasmeet</td>\n      <td>...</td>\n      <td>[{'certificate_authority': 'ketchum sampark pv...</td>\n      <td>['English', 'Hindi']</td>\n      <td>NaN</td>\n      <td>NaN</td>\n      <td>NaN</td>\n      <td>NaN</td>\n      <td>NaN</td>\n      <td>NaN</td>\n      <td>NaN</td>\n      <td>NaN</td>\n    </tr>\n    <tr>\n      <th>10</th>\n      <td>61077703</td>\n      <td>hack.?academy</td>\n      <td>Hack Academy</td>\n      <td>biohack academy</td>\n      <td>NaN</td>\n      <td>61077703</td>\n      <td>eline-van-der-ploeg-903010a5</td>\n      <td>https://www.linkedin.com/in/eline-van-der-ploe...</td>\n      <td>Ploeg</td>\n      <td>Eline</td>\n      <td>...</td>\n      <td>[{'certificate_authority': 'royal academy of a...</td>\n      <td>NaN</td>\n      <td>NaN</td>\n      <td>NaN</td>\n      <td>NaN</td>\n      <td>NaN</td>\n      <td>NaN</td>\n      <td>NaN</td>\n      <td>NaN</td>\n      <td>NaN</td>\n    </tr>\n    <tr>\n      <th>12</th>\n      <td>47600724</td>\n      <td>hack.?academy</td>\n      <td>Hack Academy</td>\n      <td>biohack academy</td>\n      <td>NaN</td>\n      <td>47600724</td>\n      <td>jordivallsfoix</td>\n      <td>https://www.linkedin.com/in/jordivallsfoix</td>\n      <td>Valls</td>\n      <td>Jordi</td>\n      <td>...</td>\n      <td>[{'certificate_authority': 'udemy', 'title': '...</td>\n      <td>['Catalan', 'Spanish', 'English']</td>\n      <td>NaN</td>\n      <td>NaN</td>\n      <td>NaN</td>\n      <td>Pharmaceuticals</td>\n      <td>NaN</td>\n      <td>NaN</td>\n      <td>NaN</td>\n      <td>NaN</td>\n    </tr>\n    <tr>\n      <th>13</th>\n      <td>4823586</td>\n      <td>make[ -]?it[ -]?real[ -]?camp| make[ -]?it[ -]...</td>\n      <td>Make it Real Camp</td>\n      <td>microsoft “architecture and design for microso...</td>\n      <td>NaN</td>\n      <td>4823586</td>\n      <td>bill-bartolotto-764b6715</td>\n      <td>https://www.linkedin.com/in/bill-bartolotto-76...</td>\n      <td>Bartolotto</td>\n      <td>Bill</td>\n      <td>...</td>\n      <td>[{'certificate_authority': 'microsoft', 'title...</td>\n      <td>NaN</td>\n      <td>NaN</td>\n      <td>NaN</td>\n      <td>NaN</td>\n      <td>Computer Software</td>\n      <td>NaN</td>\n      <td>NaN</td>\n      <td>NaN</td>\n      <td>NaN</td>\n    </tr>\n    <tr>\n      <th>14</th>\n      <td>77439236</td>\n      <td>icreate[ -]?limited|icreate|icreate[ -]?coding...</td>\n      <td>iCreate Coding Academy</td>\n      <td>icreate, iinnovate, ieducate with ipads in the...</td>\n      <td>NaN</td>\n      <td>77439236</td>\n      <td>iliana-grande-4460a565</td>\n      <td>https://www.linkedin.com/in/iliana-grande-4460...</td>\n      <td>Grande</td>\n      <td>Iliana</td>\n      <td>...</td>\n      <td>[{'certificate_authority': 'ontario college of...</td>\n      <td>['English', 'Spanish', 'French', 'Italian']</td>\n      <td>NaN</td>\n      <td>NaN</td>\n      <td>NaN</td>\n      <td>NaN</td>\n      <td>NaN</td>\n      <td>NaN</td>\n      <td>NaN</td>\n      <td>NaN</td>\n    </tr>\n  </tbody>\n</table>\n<p>386 rows × 34 columns</p>\n</div>"
     },
     "metadata": {},
     "execution_count": 76
    }
   ],
   "source": [
    "#CONSERVAR UNICOS\n",
    "finaldb.drop_duplicates(subset='id', keep=\"first\")"
   ]
  },
  {
   "cell_type": "code",
   "execution_count": null,
   "metadata": {},
   "outputs": [],
   "source": []
  }
 ]
}