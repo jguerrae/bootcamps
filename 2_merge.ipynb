{
 "metadata": {
  "language_info": {
   "codemirror_mode": {
    "name": "ipython",
    "version": 3
   },
   "file_extension": ".py",
   "mimetype": "text/x-python",
   "name": "python",
   "nbconvert_exporter": "python",
   "pygments_lexer": "ipython3",
   "version": "3.8.5"
  },
  "orig_nbformat": 2,
  "kernelspec": {
   "name": "python385jvsc74a57bd006cb5fed7a19db1a3b234843391dc1a69eede94e92f070202b04797e91c1cb37",
   "display_name": "Python 3.8.5 64-bit (conda)"
  }
 },
 "nbformat": 4,
 "nbformat_minor": 2,
 "cells": [
  {
   "cell_type": "code",
   "execution_count": 22,
   "metadata": {},
   "outputs": [],
   "source": [
    "import pandas as pd\n",
    "import numpy as np"
   ]
  },
  {
   "cell_type": "code",
   "execution_count": 23,
   "metadata": {},
   "outputs": [
    {
     "output_type": "stream",
     "name": "stdout",
     "text": [
      "(299, 34)\n"
     ]
    },
    {
     "output_type": "execute_result",
     "data": {
      "text/plain": [
       "Index(['id', 'regex_bootcamp', 'bootcamp', 'match', 'ratio',\n",
       "       'scraping_services_id', 'linkedin_id', 'linkedin_profile_url',\n",
       "       'last_name', 'first_name', 'v_extension', 'location', 'job_title',\n",
       "       'company', 'job_history', 'snapshots', 'skills', 'education', 'about',\n",
       "       'updated', 'middle_name', 'num_connections', 'interests', 'volunteered',\n",
       "       'certifications', 'languages', 'recommendations', 'publications',\n",
       "       'patents', 'industry', 'titles', 'company_name_complete',\n",
       "       'job_title_complete', 'educacion'],\n",
       "      dtype='object')"
      ]
     },
     "metadata": {},
     "execution_count": 23
    }
   ],
   "source": [
    "#EDUC FUZZY\n",
    "educ_partial_fuzzy  = pd.read_excel(\"fuzzy_partial_ratio_educ_boots.xlsx\")\n",
    "print(educ_partial_fuzzy.shape)\n",
    "educ_partial_fuzzy.rename(columns= {\"educ_title\" : \"match\" }, inplace=True) #renombrar match\n",
    "educ_partial_fuzzy.columns\n"
   ]
  },
  {
   "cell_type": "code",
   "execution_count": 24,
   "metadata": {},
   "outputs": [
    {
     "output_type": "stream",
     "name": "stdout",
     "text": [
      "(194, 34)\n"
     ]
    },
    {
     "output_type": "execute_result",
     "data": {
      "text/plain": [
       "Index(['id', 'regex_bootcamp', 'bootcamp', 'match', 'ratio',\n",
       "       'scraping_services_id', 'linkedin_id', 'linkedin_profile_url',\n",
       "       'last_name', 'first_name', 'v_extension', 'location', 'job_title',\n",
       "       'company', 'job_history', 'snapshots', 'skills', 'education', 'about',\n",
       "       'updated', 'middle_name', 'num_connections', 'interests', 'volunteered',\n",
       "       'certifications', 'languages', 'recommendations', 'publications',\n",
       "       'patents', 'industry', 'titles', 'company_name_complete',\n",
       "       'job_title_complete', 'educacion'],\n",
       "      dtype='object')"
      ]
     },
     "metadata": {},
     "execution_count": 24
    }
   ],
   "source": [
    "#EDUC TOKEN\n",
    "educ_token_fuzzy  = pd.read_excel(\"fuzzy_token_set_ratio_educ_boots.xlsx\")\n",
    "educ_token_fuzzy.rename(columns= {\"educ_title\" : \"match\" }, inplace=True) #renombrar match\n",
    "print(educ_token_fuzzy.shape)\n",
    "educ_token_fuzzy.columns"
   ]
  },
  {
   "cell_type": "code",
   "execution_count": 25,
   "metadata": {},
   "outputs": [
    {
     "output_type": "stream",
     "name": "stdout",
     "text": [
      "(100, 33)\n"
     ]
    },
    {
     "output_type": "execute_result",
     "data": {
      "text/plain": [
       "Index(['id', 'regex_bootcamp', 'bootcamp', 'match', 'scraping_services_id',\n",
       "       'linkedin_id', 'linkedin_profile_url', 'last_name', 'first_name',\n",
       "       'v_extension', 'location', 'job_title', 'company', 'job_history',\n",
       "       'snapshots', 'skills', 'education', 'about', 'updated', 'middle_name',\n",
       "       'num_connections', 'interests', 'volunteered', 'certifications',\n",
       "       'languages', 'recommendations', 'publications', 'patents', 'industry',\n",
       "       'titles', 'company_name_complete', 'job_title_complete', 'educacion'],\n",
       "      dtype='object')"
      ]
     },
     "metadata": {},
     "execution_count": 25
    }
   ],
   "source": [
    "#IMPORTAR EDUCACIÓN \n",
    "educ  = pd.read_excel(\"2_educ_boots.xlsx\")\n",
    "educ.rename(columns= {\"educ_title\" : \"match\" }, inplace=True) #renombrar match\n",
    "print(educ.shape)\n",
    "#NO TIENE RATIO\n",
    "educ.columns"
   ]
  },
  {
   "cell_type": "code",
   "execution_count": 26,
   "metadata": {},
   "outputs": [
    {
     "output_type": "stream",
     "name": "stdout",
     "text": [
      "(88, 33)\n"
     ]
    },
    {
     "output_type": "execute_result",
     "data": {
      "text/plain": [
       "Index(['id', 'regex_bootcamp', 'bootcamp', 'match', 'ratio',\n",
       "       'scraping_services_id', 'linkedin_id', 'linkedin_profile_url',\n",
       "       'last_name', 'first_name', 'v_extension', 'location', 'job_title',\n",
       "       'company', 'job_history', 'snapshots', 'skills', 'education', 'about',\n",
       "       'updated', 'middle_name', 'num_connections', 'interests', 'volunteered',\n",
       "       'certifications', 'languages', 'recommendations', 'publications',\n",
       "       'patents', 'industry', 'titles', 'company_name_complete',\n",
       "       'job_title_complete'],\n",
       "      dtype='object')"
      ]
     },
     "metadata": {},
     "execution_count": 26
    }
   ],
   "source": [
    "#CERT TOKEN, NO TIENE EDUC TITLE\n",
    "cert_partial_fuzzy  = pd.read_excel(\"fuzzy_partial_ratio_cert_boots.xlsx\")\n",
    "print(cert_partial_fuzzy.shape)\n",
    "cert_partial_fuzzy.columns\n",
    "#NO tiene educación de la anterior (educ)."
   ]
  },
  {
   "cell_type": "code",
   "execution_count": 27,
   "metadata": {},
   "outputs": [
    {
     "output_type": "stream",
     "name": "stdout",
     "text": [
      "(51, 33)\n"
     ]
    },
    {
     "output_type": "execute_result",
     "data": {
      "text/plain": [
       "Index(['id', 'regex_bootcamp', 'bootcamp', 'match', 'ratio',\n",
       "       'scraping_services_id', 'linkedin_id', 'linkedin_profile_url',\n",
       "       'last_name', 'first_name', 'v_extension', 'location', 'job_title',\n",
       "       'company', 'job_history', 'snapshots', 'skills', 'education', 'about',\n",
       "       'updated', 'middle_name', 'num_connections', 'interests', 'volunteered',\n",
       "       'certifications', 'languages', 'recommendations', 'publications',\n",
       "       'patents', 'industry', 'titles', 'company_name_complete',\n",
       "       'job_title_complete'],\n",
       "      dtype='object')"
      ]
     },
     "metadata": {},
     "execution_count": 27
    }
   ],
   "source": [
    "#CERT TOKEN, NO TIENE EDUC TITLE\n",
    "cert_token_fuzzy  = pd.read_excel(\"fuzzy_token_set_ratio_cert_boots.xlsx\")\n",
    "print(cert_token_fuzzy.shape)\n",
    "cert_token_fuzzy.columns\n",
    "#NO tiene educación de la anterior."
   ]
  },
  {
   "cell_type": "code",
   "execution_count": 28,
   "metadata": {},
   "outputs": [
    {
     "output_type": "stream",
     "name": "stdout",
     "text": [
      "(15, 32)\n"
     ]
    },
    {
     "output_type": "execute_result",
     "data": {
      "text/plain": [
       "Index(['id', 'regex_bootcamp', 'bootcamp', 'match', 'scraping_services_id',\n",
       "       'linkedin_id', 'linkedin_profile_url', 'last_name', 'first_name',\n",
       "       'v_extension', 'location', 'job_title', 'company', 'job_history',\n",
       "       'snapshots', 'skills', 'education', 'about', 'updated', 'middle_name',\n",
       "       'num_connections', 'interests', 'volunteered', 'certifications',\n",
       "       'languages', 'recommendations', 'publications', 'patents', 'industry',\n",
       "       'titles', 'company_name_complete', 'job_title_complete'],\n",
       "      dtype='object')"
      ]
     },
     "metadata": {},
     "execution_count": 28
    }
   ],
   "source": [
    "cert_t  = pd.read_excel(\"2_cert_title_boots.xlsx\")\n",
    "print(cert_t.shape)\n",
    "cert_t.columns \n",
    "#NO TIENE RATIO NI EDUCATION"
   ]
  },
  {
   "cell_type": "code",
   "execution_count": 29,
   "metadata": {},
   "outputs": [
    {
     "output_type": "stream",
     "name": "stdout",
     "text": [
      "(65, 32)\n"
     ]
    },
    {
     "output_type": "execute_result",
     "data": {
      "text/plain": [
       "Index(['id', 'regex_bootcamp', 'bootcamp', 'match', 'scraping_services_id',\n",
       "       'linkedin_id', 'linkedin_profile_url', 'last_name', 'first_name',\n",
       "       'v_extension', 'location', 'job_title', 'company', 'job_history',\n",
       "       'snapshots', 'skills', 'education', 'about', 'updated', 'middle_name',\n",
       "       'num_connections', 'interests', 'volunteered', 'certifications',\n",
       "       'languages', 'recommendations', 'publications', 'patents', 'industry',\n",
       "       'titles', 'company_name_complete', 'job_title_complete'],\n",
       "      dtype='object')"
      ]
     },
     "metadata": {},
     "execution_count": 29
    }
   ],
   "source": [
    "cert_aut  = pd.read_excel(\"2_cert_aut_boots.xlsx\")\n",
    "print(cert_aut.shape)\n",
    "cert_aut.columns \n",
    "#NO TIENE RATIO NI EDUCATION"
   ]
  },
  {
   "cell_type": "code",
   "execution_count": 30,
   "metadata": {},
   "outputs": [
    {
     "output_type": "stream",
     "name": "stdout",
     "text": [
      "(73, 32)\n"
     ]
    },
    {
     "output_type": "execute_result",
     "data": {
      "text/plain": [
       "Index(['id', 'regex_bootcamp', 'bootcamp', 'ratio', 'scraping_services_id',\n",
       "       'linkedin_id', 'linkedin_profile_url', 'last_name', 'first_name',\n",
       "       'v_extension', 'location', 'job_title', 'company', 'job_history',\n",
       "       'snapshots', 'skills', 'education', 'about', 'updated', 'middle_name',\n",
       "       'num_connections', 'interests', 'volunteered', 'certifications',\n",
       "       'languages', 'recommendations', 'publications', 'patents', 'industry',\n",
       "       'titles', 'company_name_complete', 'job_title_complete'],\n",
       "      dtype='object')"
      ]
     },
     "metadata": {},
     "execution_count": 30
    }
   ],
   "source": [
    "#ABOUT PARTIAL\n",
    "about_partial_fuzzy  = pd.read_excel(\"fuzzy_partial_ratio_about_boots.xlsx\")\n",
    "print(about_partial_fuzzy.shape)\n",
    "about_partial_fuzzy.columns\n",
    "#NO TIENE MATCH (de cert) y tampoco EDUC (de educ)"
   ]
  },
  {
   "cell_type": "code",
   "execution_count": 31,
   "metadata": {},
   "outputs": [
    {
     "output_type": "stream",
     "name": "stdout",
     "text": [
      "(28, 32)\n"
     ]
    },
    {
     "output_type": "execute_result",
     "data": {
      "text/plain": [
       "Index(['id', 'regex_bootcamp', 'bootcamp', 'ratio', 'scraping_services_id',\n",
       "       'linkedin_id', 'linkedin_profile_url', 'last_name', 'first_name',\n",
       "       'v_extension', 'location', 'job_title', 'company', 'job_history',\n",
       "       'snapshots', 'skills', 'education', 'about', 'updated', 'middle_name',\n",
       "       'num_connections', 'interests', 'volunteered', 'certifications',\n",
       "       'languages', 'recommendations', 'publications', 'patents', 'industry',\n",
       "       'titles', 'company_name_complete', 'job_title_complete'],\n",
       "      dtype='object')"
      ]
     },
     "metadata": {},
     "execution_count": 31
    }
   ],
   "source": [
    "#ABOUT TOKEN\n",
    "about_token_fuzzy  = pd.read_excel(\"fuzzy_token_set_ratio_about_boots.xlsx\")\n",
    "print(about_token_fuzzy.shape)\n",
    "about_token_fuzzy.columns\n",
    "#MISMA CASO ANTERIOR"
   ]
  },
  {
   "cell_type": "code",
   "execution_count": 32,
   "metadata": {},
   "outputs": [
    {
     "output_type": "stream",
     "name": "stdout",
     "text": [
      "(14, 31)\n"
     ]
    },
    {
     "output_type": "execute_result",
     "data": {
      "text/plain": [
       "Index(['id', 'regex_bootcamp', 'bootcamp', 'scraping_services_id',\n",
       "       'linkedin_id', 'linkedin_profile_url', 'last_name', 'first_name',\n",
       "       'v_extension', 'location', 'job_title', 'company', 'job_history',\n",
       "       'snapshots', 'skills', 'education', 'about', 'updated', 'middle_name',\n",
       "       'num_connections', 'interests', 'volunteered', 'certifications',\n",
       "       'languages', 'recommendations', 'publications', 'patents', 'industry',\n",
       "       'titles', 'company_name_complete', 'job_title_complete'],\n",
       "      dtype='object')"
      ]
     },
     "metadata": {},
     "execution_count": 32
    }
   ],
   "source": [
    "about  = pd.read_excel(\"2_about_boots.xlsx\")\n",
    "# about[\"ratio\"] = np.nan #CREAR COLUMNA DE RATIO CON NA\n",
    "# about = about[list(about_fuzzy.columns)] #TENER EL MISMO ORDEN\n",
    "print(about.shape)\n",
    "about.columns \n",
    "#NO TIENE MATCH RATIO NI EDUC"
   ]
  },
  {
   "cell_type": "code",
   "execution_count": 33,
   "metadata": {},
   "outputs": [
    {
     "output_type": "execute_result",
     "data": {
      "text/plain": [
       "(927, 34)"
      ]
     },
     "metadata": {},
     "execution_count": 33
    }
   ],
   "source": [
    "#BASE COMPLETA\n",
    "finaldb = pd.concat([ educ, cert_aut, cert_t, about, educ_partial_fuzzy, educ_token_fuzzy, cert_partial_fuzzy, cert_token_fuzzy, about_partial_fuzzy,about_token_fuzzy])\n",
    "finaldb.shape"
   ]
  },
  {
   "cell_type": "code",
   "execution_count": 34,
   "metadata": {},
   "outputs": [
    {
     "output_type": "execute_result",
     "data": {
      "text/plain": [
       "450"
      ]
     },
     "metadata": {},
     "execution_count": 34
    }
   ],
   "source": [
    "#HAY 386 IDS UNICOS\n",
    "finaldb.id.nunique()"
   ]
  },
  {
   "cell_type": "code",
   "execution_count": 35,
   "metadata": {},
   "outputs": [
    {
     "output_type": "execute_result",
     "data": {
      "text/plain": [
       "          id        regex_bootcamp       bootcamp  \\\n",
       "0   34372997         hack.?academy   Hack Academy   \n",
       "1   47714089               ac.mica        Acámica   \n",
       "2   31363775     digital[ -]?house  Digital House   \n",
       "3   66954076  talento[ -]?digital$         BICTIA   \n",
       "4   77852405               ac.mica        Acámica   \n",
       "..       ...                   ...            ...   \n",
       "11  50606757             Nivel Pro      Nivel Pro   \n",
       "16  32690217         Digital House  Digital House   \n",
       "17  70109823          Plataforma 5   Plataforma 5   \n",
       "18  50376990          Plataforma 5   Plataforma 5   \n",
       "23  14161321             Nivel Pro      Nivel Pro   \n",
       "\n",
       "                                  match  scraping_services_id  \\\n",
       "0                          hack academy              34372997   \n",
       "1                               acamica              47714089   \n",
       "2                         digital house              31363775   \n",
       "3   nomadia, escuela de talento digital              66954076   \n",
       "4                               acamica              77852405   \n",
       "..                                  ...                   ...   \n",
       "11                                  NaN              50606757   \n",
       "16                                  NaN              32690217   \n",
       "17                                  NaN              70109823   \n",
       "18                                  NaN              50376990   \n",
       "23                                  NaN              14161321   \n",
       "\n",
       "                                 linkedin_id  \\\n",
       "0                     david-barrett-60a770a1   \n",
       "1   rodolfo-alexander-silva-pantoja-b1573934   \n",
       "2                              hernanparedes   \n",
       "3                           begonaantonplaza   \n",
       "4                  gustavodanielromerosantos   \n",
       "..                                       ...   \n",
       "11                   filipe-garrudo-74031a37   \n",
       "16                       pierreolivierguerin   \n",
       "17               jessyca-grassmann-8628a1101   \n",
       "18          thiago-barbosa-ferreira-64311349   \n",
       "23                   veronica-rivas-1a360470   \n",
       "\n",
       "                                 linkedin_profile_url  last_name  \\\n",
       "0   https://www.linkedin.com/in/david-barrett-60a7...    Barrett   \n",
       "1   https://www.linkedin.com/in/rodolfo-alexander-...    Pantoja   \n",
       "2           https://www.linkedin.com/in/hernanparedes    Paredes   \n",
       "3        https://www.linkedin.com/in/begonaantonplaza      Plaza   \n",
       "4   https://www.linkedin.com/in/gustavodanielromer...     Santos   \n",
       "..                                                ...        ...   \n",
       "11  https://www.linkedin.com/in/filipe-garrudo-740...    Garrudo   \n",
       "16    https://www.linkedin.com/in/pierreolivierguerin     Guerin   \n",
       "17  https://www.linkedin.com/in/jessyca-grassmann-...  Grassmann   \n",
       "18  https://www.linkedin.com/in/thiago-barbosa-fer...   Ferreira   \n",
       "23  https://www.linkedin.com/in/veronica-rivas-1a3...      Rivas   \n",
       "\n",
       "        first_name                                        v_extension  ...  \\\n",
       "0            David  {'gender': 'male', 'industry_from_job': False,...  ...   \n",
       "1          Rodolfo  {'gender': 'male', 'industry_from_job': False,...  ...   \n",
       "2           Hernan  {'gender': 'male', 'industry_from_job': 'Infor...  ...   \n",
       "3           Begoña  {'gender': False, 'industry_from_job': None, '...  ...   \n",
       "4          Gustavo  {'gender': 'male', 'industry_from_job': 'Manag...  ...   \n",
       "..             ...                                                ...  ...   \n",
       "11          Filipe  {'gender': 'male', 'industry_from_job': 'Infor...  ...   \n",
       "16  Pierre-Olivier  {'gender': 'male', 'industry_from_job': 'Infor...  ...   \n",
       "17         Jessyca  {'gender': False, 'industry_from_job': False, ...  ...   \n",
       "18          Thiago  {'gender': 'male', 'industry_from_job': False,...  ...   \n",
       "23        Veronica  {'gender': 'female', 'industry_from_job': Fals...  ...   \n",
       "\n",
       "                             languages  \\\n",
       "0                                  NaN   \n",
       "1                           ['Inglés']   \n",
       "2              ['Portugues', 'Inglés']   \n",
       "3                           ['Inglés']   \n",
       "4   ['Inglés', 'Portugués', 'Spanish']   \n",
       "..                                 ...   \n",
       "11                                 NaN   \n",
       "16     ['French', 'English', 'German']   \n",
       "17                                 NaN   \n",
       "18                                 NaN   \n",
       "23                                 NaN   \n",
       "\n",
       "                                      recommendations  \\\n",
       "0                                                 NaN   \n",
       "1                                                 NaN   \n",
       "2   ['Hernan foi capaz de mudar profundamente a fo...   \n",
       "3   ['Lo que más destacaría de Begoña es que una p...   \n",
       "4   ['He conocido a Gustavo fuera del ambiente lab...   \n",
       "..                                                ...   \n",
       "11                                                NaN   \n",
       "16  [\"J'ai eu l'occasion de travailler avec Pierre...   \n",
       "17                                                NaN   \n",
       "18  ['Com grande conhecimento e experiência, Thiag...   \n",
       "23                                                NaN   \n",
       "\n",
       "                                         publications patents  \\\n",
       "0                                                 NaN     NaN   \n",
       "1                                                 NaN     NaN   \n",
       "2                                                 NaN     NaN   \n",
       "3                                                 NaN     NaN   \n",
       "4   [{'authors': [{'full_name': 'Gustavo Daniel Ro...     NaN   \n",
       "..                                                ...     ...   \n",
       "11                                                NaN     NaN   \n",
       "16                                                NaN     NaN   \n",
       "17                                                NaN     NaN   \n",
       "18                                                NaN     NaN   \n",
       "23                                                NaN     NaN   \n",
       "\n",
       "                             industry titles company_name_complete  \\\n",
       "0                                 NaN    NaN                   NaN   \n",
       "1   Information Technology & Services    NaN                   NaN   \n",
       "2                                 NaN    NaN                   NaN   \n",
       "3                                 NaN    NaN                   NaN   \n",
       "4                                 NaN    NaN                   NaN   \n",
       "..                                ...    ...                   ...   \n",
       "11                                NaN    NaN                   NaN   \n",
       "16                                NaN    NaN                   NaN   \n",
       "17         Health, Wellness & Fitness    NaN                   NaN   \n",
       "18                                NaN    NaN                   NaN   \n",
       "23                           Textiles    NaN                   NaN   \n",
       "\n",
       "   job_title_complete                                          educacion  \\\n",
       "0                 NaN                    [{'education': 'hack academy'}]   \n",
       "1                 NaN  [{'education': 'universidad distrital francisc...   \n",
       "2                 NaN  [{'education': 'universidad de buenos aires', ...   \n",
       "3                 NaN  [{'education': 'nomadia, escuela de talento di...   \n",
       "4                 NaN  [{'education': 'apep asociación civil programa...   \n",
       "..                ...                                                ...   \n",
       "11                NaN                                                NaN   \n",
       "16                NaN                                                NaN   \n",
       "17                NaN                                                NaN   \n",
       "18                NaN                                                NaN   \n",
       "23                NaN                                                NaN   \n",
       "\n",
       "    ratio  \n",
       "0     NaN  \n",
       "1     NaN  \n",
       "2     NaN  \n",
       "3     NaN  \n",
       "4     NaN  \n",
       "..    ...  \n",
       "11  100.0  \n",
       "16  100.0  \n",
       "17  100.0  \n",
       "18   91.0  \n",
       "23  100.0  \n",
       "\n",
       "[450 rows x 34 columns]"
      ],
      "text/html": "<div>\n<style scoped>\n    .dataframe tbody tr th:only-of-type {\n        vertical-align: middle;\n    }\n\n    .dataframe tbody tr th {\n        vertical-align: top;\n    }\n\n    .dataframe thead th {\n        text-align: right;\n    }\n</style>\n<table border=\"1\" class=\"dataframe\">\n  <thead>\n    <tr style=\"text-align: right;\">\n      <th></th>\n      <th>id</th>\n      <th>regex_bootcamp</th>\n      <th>bootcamp</th>\n      <th>match</th>\n      <th>scraping_services_id</th>\n      <th>linkedin_id</th>\n      <th>linkedin_profile_url</th>\n      <th>last_name</th>\n      <th>first_name</th>\n      <th>v_extension</th>\n      <th>...</th>\n      <th>languages</th>\n      <th>recommendations</th>\n      <th>publications</th>\n      <th>patents</th>\n      <th>industry</th>\n      <th>titles</th>\n      <th>company_name_complete</th>\n      <th>job_title_complete</th>\n      <th>educacion</th>\n      <th>ratio</th>\n    </tr>\n  </thead>\n  <tbody>\n    <tr>\n      <th>0</th>\n      <td>34372997</td>\n      <td>hack.?academy</td>\n      <td>Hack Academy</td>\n      <td>hack academy</td>\n      <td>34372997</td>\n      <td>david-barrett-60a770a1</td>\n      <td>https://www.linkedin.com/in/david-barrett-60a7...</td>\n      <td>Barrett</td>\n      <td>David</td>\n      <td>{'gender': 'male', 'industry_from_job': False,...</td>\n      <td>...</td>\n      <td>NaN</td>\n      <td>NaN</td>\n      <td>NaN</td>\n      <td>NaN</td>\n      <td>NaN</td>\n      <td>NaN</td>\n      <td>NaN</td>\n      <td>NaN</td>\n      <td>[{'education': 'hack academy'}]</td>\n      <td>NaN</td>\n    </tr>\n    <tr>\n      <th>1</th>\n      <td>47714089</td>\n      <td>ac.mica</td>\n      <td>Acámica</td>\n      <td>acamica</td>\n      <td>47714089</td>\n      <td>rodolfo-alexander-silva-pantoja-b1573934</td>\n      <td>https://www.linkedin.com/in/rodolfo-alexander-...</td>\n      <td>Pantoja</td>\n      <td>Rodolfo</td>\n      <td>{'gender': 'male', 'industry_from_job': False,...</td>\n      <td>...</td>\n      <td>['Inglés']</td>\n      <td>NaN</td>\n      <td>NaN</td>\n      <td>NaN</td>\n      <td>Information Technology &amp; Services</td>\n      <td>NaN</td>\n      <td>NaN</td>\n      <td>NaN</td>\n      <td>[{'education': 'universidad distrital francisc...</td>\n      <td>NaN</td>\n    </tr>\n    <tr>\n      <th>2</th>\n      <td>31363775</td>\n      <td>digital[ -]?house</td>\n      <td>Digital House</td>\n      <td>digital house</td>\n      <td>31363775</td>\n      <td>hernanparedes</td>\n      <td>https://www.linkedin.com/in/hernanparedes</td>\n      <td>Paredes</td>\n      <td>Hernan</td>\n      <td>{'gender': 'male', 'industry_from_job': 'Infor...</td>\n      <td>...</td>\n      <td>['Portugues', 'Inglés']</td>\n      <td>['Hernan foi capaz de mudar profundamente a fo...</td>\n      <td>NaN</td>\n      <td>NaN</td>\n      <td>NaN</td>\n      <td>NaN</td>\n      <td>NaN</td>\n      <td>NaN</td>\n      <td>[{'education': 'universidad de buenos aires', ...</td>\n      <td>NaN</td>\n    </tr>\n    <tr>\n      <th>3</th>\n      <td>66954076</td>\n      <td>talento[ -]?digital$</td>\n      <td>BICTIA</td>\n      <td>nomadia, escuela de talento digital</td>\n      <td>66954076</td>\n      <td>begonaantonplaza</td>\n      <td>https://www.linkedin.com/in/begonaantonplaza</td>\n      <td>Plaza</td>\n      <td>Begoña</td>\n      <td>{'gender': False, 'industry_from_job': None, '...</td>\n      <td>...</td>\n      <td>['Inglés']</td>\n      <td>['Lo que más destacaría de Begoña es que una p...</td>\n      <td>NaN</td>\n      <td>NaN</td>\n      <td>NaN</td>\n      <td>NaN</td>\n      <td>NaN</td>\n      <td>NaN</td>\n      <td>[{'education': 'nomadia, escuela de talento di...</td>\n      <td>NaN</td>\n    </tr>\n    <tr>\n      <th>4</th>\n      <td>77852405</td>\n      <td>ac.mica</td>\n      <td>Acámica</td>\n      <td>acamica</td>\n      <td>77852405</td>\n      <td>gustavodanielromerosantos</td>\n      <td>https://www.linkedin.com/in/gustavodanielromer...</td>\n      <td>Santos</td>\n      <td>Gustavo</td>\n      <td>{'gender': 'male', 'industry_from_job': 'Manag...</td>\n      <td>...</td>\n      <td>['Inglés', 'Portugués', 'Spanish']</td>\n      <td>['He conocido a Gustavo fuera del ambiente lab...</td>\n      <td>[{'authors': [{'full_name': 'Gustavo Daniel Ro...</td>\n      <td>NaN</td>\n      <td>NaN</td>\n      <td>NaN</td>\n      <td>NaN</td>\n      <td>NaN</td>\n      <td>[{'education': 'apep asociación civil programa...</td>\n      <td>NaN</td>\n    </tr>\n    <tr>\n      <th>...</th>\n      <td>...</td>\n      <td>...</td>\n      <td>...</td>\n      <td>...</td>\n      <td>...</td>\n      <td>...</td>\n      <td>...</td>\n      <td>...</td>\n      <td>...</td>\n      <td>...</td>\n      <td>...</td>\n      <td>...</td>\n      <td>...</td>\n      <td>...</td>\n      <td>...</td>\n      <td>...</td>\n      <td>...</td>\n      <td>...</td>\n      <td>...</td>\n      <td>...</td>\n      <td>...</td>\n    </tr>\n    <tr>\n      <th>11</th>\n      <td>50606757</td>\n      <td>Nivel Pro</td>\n      <td>Nivel Pro</td>\n      <td>NaN</td>\n      <td>50606757</td>\n      <td>filipe-garrudo-74031a37</td>\n      <td>https://www.linkedin.com/in/filipe-garrudo-740...</td>\n      <td>Garrudo</td>\n      <td>Filipe</td>\n      <td>{'gender': 'male', 'industry_from_job': 'Infor...</td>\n      <td>...</td>\n      <td>NaN</td>\n      <td>NaN</td>\n      <td>NaN</td>\n      <td>NaN</td>\n      <td>NaN</td>\n      <td>NaN</td>\n      <td>NaN</td>\n      <td>NaN</td>\n      <td>NaN</td>\n      <td>100.0</td>\n    </tr>\n    <tr>\n      <th>16</th>\n      <td>32690217</td>\n      <td>Digital House</td>\n      <td>Digital House</td>\n      <td>NaN</td>\n      <td>32690217</td>\n      <td>pierreolivierguerin</td>\n      <td>https://www.linkedin.com/in/pierreolivierguerin</td>\n      <td>Guerin</td>\n      <td>Pierre-Olivier</td>\n      <td>{'gender': 'male', 'industry_from_job': 'Infor...</td>\n      <td>...</td>\n      <td>['French', 'English', 'German']</td>\n      <td>[\"J'ai eu l'occasion de travailler avec Pierre...</td>\n      <td>NaN</td>\n      <td>NaN</td>\n      <td>NaN</td>\n      <td>NaN</td>\n      <td>NaN</td>\n      <td>NaN</td>\n      <td>NaN</td>\n      <td>100.0</td>\n    </tr>\n    <tr>\n      <th>17</th>\n      <td>70109823</td>\n      <td>Plataforma 5</td>\n      <td>Plataforma 5</td>\n      <td>NaN</td>\n      <td>70109823</td>\n      <td>jessyca-grassmann-8628a1101</td>\n      <td>https://www.linkedin.com/in/jessyca-grassmann-...</td>\n      <td>Grassmann</td>\n      <td>Jessyca</td>\n      <td>{'gender': False, 'industry_from_job': False, ...</td>\n      <td>...</td>\n      <td>NaN</td>\n      <td>NaN</td>\n      <td>NaN</td>\n      <td>NaN</td>\n      <td>Health, Wellness &amp; Fitness</td>\n      <td>NaN</td>\n      <td>NaN</td>\n      <td>NaN</td>\n      <td>NaN</td>\n      <td>100.0</td>\n    </tr>\n    <tr>\n      <th>18</th>\n      <td>50376990</td>\n      <td>Plataforma 5</td>\n      <td>Plataforma 5</td>\n      <td>NaN</td>\n      <td>50376990</td>\n      <td>thiago-barbosa-ferreira-64311349</td>\n      <td>https://www.linkedin.com/in/thiago-barbosa-fer...</td>\n      <td>Ferreira</td>\n      <td>Thiago</td>\n      <td>{'gender': 'male', 'industry_from_job': False,...</td>\n      <td>...</td>\n      <td>NaN</td>\n      <td>['Com grande conhecimento e experiência, Thiag...</td>\n      <td>NaN</td>\n      <td>NaN</td>\n      <td>NaN</td>\n      <td>NaN</td>\n      <td>NaN</td>\n      <td>NaN</td>\n      <td>NaN</td>\n      <td>91.0</td>\n    </tr>\n    <tr>\n      <th>23</th>\n      <td>14161321</td>\n      <td>Nivel Pro</td>\n      <td>Nivel Pro</td>\n      <td>NaN</td>\n      <td>14161321</td>\n      <td>veronica-rivas-1a360470</td>\n      <td>https://www.linkedin.com/in/veronica-rivas-1a3...</td>\n      <td>Rivas</td>\n      <td>Veronica</td>\n      <td>{'gender': 'female', 'industry_from_job': Fals...</td>\n      <td>...</td>\n      <td>NaN</td>\n      <td>NaN</td>\n      <td>NaN</td>\n      <td>NaN</td>\n      <td>Textiles</td>\n      <td>NaN</td>\n      <td>NaN</td>\n      <td>NaN</td>\n      <td>NaN</td>\n      <td>100.0</td>\n    </tr>\n  </tbody>\n</table>\n<p>450 rows × 34 columns</p>\n</div>"
     },
     "metadata": {},
     "execution_count": 35
    }
   ],
   "source": [
    "#CONSERVAR UNICOS\n",
    "finaldb.drop_duplicates(subset='id', keep=\"first\")"
   ]
  },
  {
   "cell_type": "code",
   "execution_count": null,
   "metadata": {},
   "outputs": [],
   "source": []
  }
 ]
}