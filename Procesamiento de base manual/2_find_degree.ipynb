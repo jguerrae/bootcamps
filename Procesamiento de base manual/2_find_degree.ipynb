{
 "cells": [
  {
   "cell_type": "code",
   "execution_count": 163,
   "metadata": {},
   "outputs": [],
   "source": [
    "#LIBRARIES\r\n",
    "import pandas as pd\r\n",
    "import re\r\n",
    "import numpy as np\r\n",
    "\r\n",
    "## nomalice parameters\r\n",
    "from unidecode import unidecode\r\n",
    "\r\n",
    "import spacy  # For preprocessing\r\n",
    "\r\n",
    "from scipy import spatial\r\n",
    "from time import time  # To time our operations\r\n",
    "import matplotlib.pyplot as plt\r\n",
    "from sklearn.manifold import TSNE\r\n",
    "from sklearn.cluster import KMeans\r\n",
    "\r\n",
    "from tqdm import tqdm\r\n",
    "\r\n",
    "from deep_translator import GoogleTranslator\r\n",
    "nlp = spacy.load(\"en_core_web_sm\")\r\n",
    "\r\n",
    "## FUZZY\r\n",
    "from fuzzywuzzy import fuzz\r\n",
    "from fuzzywuzzy import process\r\n",
    "## nomalice parameters\r\n",
    "from unidecode import unidecode"
   ]
  },
  {
   "cell_type": "code",
   "execution_count": 164,
   "metadata": {},
   "outputs": [],
   "source": [
    "df = pd.read_excel(\"db_vf.xlsx\")"
   ]
  },
  {
   "cell_type": "code",
   "execution_count": 165,
   "metadata": {},
   "outputs": [],
   "source": [
    "#FUNCIÓN PARA LIMPIAR\r\n",
    "\r\n",
    "def normalize(s):\r\n",
    "    replacements = (\r\n",
    "        (\"á\", \"a\"),\r\n",
    "        (\"é\", \"e\"),\r\n",
    "        (\"í\", \"i\"),\r\n",
    "        (\"ó\", \"o\"),\r\n",
    "        (\"ú\", \"u\"),\r\n",
    "    )\r\n",
    "    for a, b in replacements:\r\n",
    "        s = s.replace(a, b).replace(a.upper(), b.upper())\r\n",
    "    return s\r\n",
    "\r\n",
    "def cleaning(text):\r\n",
    "    text = text.lower()\r\n",
    "    text = normalize(text)\r\n",
    "    doc = nlp(text)\r\n",
    "    return doc"
   ]
  },
  {
   "cell_type": "code",
   "execution_count": 166,
   "metadata": {},
   "outputs": [],
   "source": [
    "dfe =  df.copy()\r\n",
    "dfe.rename(columns = {\"educ_history_clean\": \"education\"}, inplace = True)\r\n",
    "\r\n",
    "dfe[\"education\"] =  dfe[\"education\"].str.lower()\r\n",
    "# dfe = dfe[dfe[\"etapa\"] == 1]"
   ]
  },
  {
   "cell_type": "code",
   "execution_count": 167,
   "metadata": {},
   "outputs": [],
   "source": [
    "L = []\r\n",
    "\r\n",
    "for i in dfe[\"education\"]:\r\n",
    "    l = str(i).split(\"},\") #convertir en string la formación del individuo y crear lista para separar cada formación\r\n",
    "    k = [] #Lista donde se almacenara cada formación x del individuo i\r\n",
    "    for formacion in l: #para cada formación\r\n",
    "        formacion = formacion.replace(\"[\", \"\").replace(\"]\", \"\") + \"}\" #separelas y conviertalas en diccionarios\r\n",
    "        k.append(formacion) #añadalas a la lista de formación\r\n",
    "    L.append(k) #añada la lista de formación para individuo\r\n",
    "\r\n",
    "#VER UN EJEMPLO: Esta es la última formación del primer individuo desordenada en diccionario pero como un string   \r\n",
    "L[0][0]\r\n",
    "\r\n",
    "\r\n",
    "K = [] #LISTA D ELISTAS EN DONDE SE ALMACENARAN LAS FORMACIONES A MANERA DE DICCIONARIO PARA CADA INDIVIDUO\r\n",
    "\r\n",
    "for individuo in L: #para cada individuo\r\n",
    "\r\n",
    "    educacion_ind = [] #creo una lista de sus educaciones\r\n",
    "\r\n",
    "    for ins in individuo: # para cada cada formación dentro de las formaciones de cada individuos\r\n",
    "        ins = ins.replace('\"', \"'\")\r\n",
    "\r\n",
    "        c = {}\r\n",
    "\r\n",
    "        #CADA CAMPO SE EXTRAE POR MEDIO DE RegEx, COMUNES A TODOS LAS FORMACIONES STR DE LOS INDIVIDUOS EN EL DATASET\r\n",
    "        #CADA CAMPO SE EXTRAE EN CASO DE QUE EXISTA DE LO CONTRARIO NO\r\n",
    "\r\n",
    "        #EXTRAER EDUCACIÓN\r\n",
    "        if ( len(re.findall(\"'education_org': '.*?'\", ins)) ) > 0:\r\n",
    "            c[\"education\"] =  re.findall(\"'education_org': '.*?'\", ins)[0].replace(\"'education_org': \", \"\").replace(\"'\", \"\")\r\n",
    "\r\n",
    "        #EXTRAER DEGREE\r\n",
    "        if ( len(re.findall(\"'degrees': '.*?'\", ins)) ) > 0:\r\n",
    "            c[\"degrees\"] =  re.findall(\"'degrees': '.*?'\", ins)[0].replace(\"'degrees': \", \"\").replace(\"'\", \"\")\r\n",
    "\r\n",
    "        #EXTRAER SUMMARY\r\n",
    "        if ( len(re.findall(\"'summary': '.*?'\", ins)) ) > 0:\r\n",
    "            c[\"summary\"] =  re.findall(\"'summary': '.*?'\", ins)[0].replace(\"'summary': \", \"\").replace(\"'\", \"\")\r\n",
    "\r\n",
    "\r\n",
    "        #EXTRAER INICIO\r\n",
    "        if ( len(re.findall(\"'start': '.*?'\", ins)) ) > 0:\r\n",
    "            c[\"start\"] = re.findall(\"'start': '.*?'\", ins)[0].replace(\"'start': \", \"\").replace(\"'\", \"\")\r\n",
    "            try:\r\n",
    "                c[\"start\"] = int(c[\"start\"])\r\n",
    "            except:\r\n",
    "                None\r\n",
    "\r\n",
    "        #EXTRAER FINALIZACIÓN\r\n",
    "        if ( len(re.findall(\"'end': '.*?'\", ins)) ) > 0:\r\n",
    "            c[\"end\"] = re.findall(\"'end': '.*?'\", ins)[0].replace(\"'end': \", \"\").replace(\"'\", \"\")\r\n",
    "            try:\r\n",
    "                c[\"end\"] = int(c[\"end\"])\r\n",
    "            except:\r\n",
    "                None\r\n",
    "\r\n",
    "        educacion_ind.append(c) #añado cada formación a la lista de sus educaciones\r\n",
    "    \r\n",
    "    K.append(educacion_ind) #añado la educación de cada individuo a una lista general\r\n",
    "\r\n",
    "#VER UN EJEMPLO: Esta es la última formación del primer individuo ordenada en un diccionario\r\n",
    "K[0][0]\r\n",
    "\r\n",
    "dfe[\"educacion\"] = K"
   ]
  },
  {
   "cell_type": "code",
   "execution_count": 168,
   "metadata": {},
   "outputs": [],
   "source": [
    "dfe = dfe.reset_index(drop = True)"
   ]
  },
  {
   "cell_type": "code",
   "execution_count": 169,
   "metadata": {},
   "outputs": [
    {
     "name": "stderr",
     "output_type": "stream",
     "text": [
      "  0%|          | 0/1004 [00:00<?, ?it/s]<ipython-input-169-b1d6b2bb3482>:15: SettingWithCopyWarning: \n",
      "A value is trying to be set on a copy of a slice from a DataFrame\n",
      "\n",
      "See the caveats in the documentation: https://pandas.pydata.org/pandas-docs/stable/user_guide/indexing.html#returning-a-view-versus-a-copy\n",
      "  dfe[\"max_univ\"][i] = p\n",
      "100%|██████████| 1004/1004 [00:00<00:00, 8296.81it/s]\n"
     ]
    }
   ],
   "source": [
    "#SELECCIONAR A LOS UNIVERSITARIOS SOLO SI ESTUDIARON MÁS DE 2 AÑOS\r\n",
    "dfe[\"max_univ\"] = 0\r\n",
    "\r\n",
    "for i in tqdm(range(len(dfe[\"educacion\"]))):\r\n",
    "    j = [0]\r\n",
    "\r\n",
    "    for e in dfe[\"educacion\"][i]:\r\n",
    "\r\n",
    "        if \"start\" in e.keys() and \"end\" in e.keys() and type(e[\"start\"]) == int and type(e[\"end\"]) == int:\r\n",
    "            resta = e[\"end\"] - e[\"start\"]\r\n",
    "            j.append(resta)\r\n",
    "               \r\n",
    "    p = max(j)\r\n",
    "    try:\r\n",
    "        dfe[\"max_univ\"][i] = p\r\n",
    "    except:\r\n",
    "        None"
   ]
  },
  {
   "cell_type": "code",
   "execution_count": 170,
   "metadata": {},
   "outputs": [],
   "source": [
    "for i in dfe[\"educacion\"]:\r\n",
    "    for e in i:\r\n",
    "        if \"degree\" in e.keys():\r\n",
    "            e[\"degrees\"] = cleaning(e[\"degrees\"])"
   ]
  },
  {
   "cell_type": "code",
   "execution_count": 171,
   "metadata": {},
   "outputs": [],
   "source": [
    "sp = [\"specialisation\", \"specialization\", \"especialização\", \"especialización\", \"especialista\"]\r\n",
    "ms = [\"master\", \"msc \", \"m.a. \", \"m.s. \", \"mba \", \"mphill \", \"mres \", \"mag \", \" msc\", \" m.a.\", \" m.s.\", \" mba\", \" mphill\", \" mres\", \" mag\", \"maestria\", \"magister\", \"maestría\"]\r\n",
    "ph = [\"phd\", \"ph.d.\" \"dr \", \"dr phil\", \"doctor\", \"doctorado\", \"doutor\", \"doutorado\", \"ph.d\"]\r\n",
    "\r\n",
    "\r\n",
    "#FUNCION PARA ENCONTRAR GRADO\r\n",
    "def degree(palabra):\r\n",
    "    P = [1]\r\n",
    "\r\n",
    "    for t in sp:\r\n",
    "        if t in palabra:\r\n",
    "            P.append(2)\r\n",
    "\r\n",
    "    for k in ms:\r\n",
    "        if k in palabra:\r\n",
    "            P.append(3)\r\n",
    "\r\n",
    "    for e in ph:\r\n",
    "        if e in palabra:\r\n",
    "            P.append(4)\r\n",
    "    \r\n",
    "    if len(P)>0:\r\n",
    "        return max(P)"
   ]
  },
  {
   "cell_type": "code",
   "execution_count": 172,
   "metadata": {},
   "outputs": [],
   "source": [
    "# dfe.groupby([\"max_univ\"]).count()\r\n",
    "dfe[\"max_univ\"] = dfe[\"max_univ\"].replace(np.nan, 0)"
   ]
  },
  {
   "cell_type": "code",
   "execution_count": 173,
   "metadata": {},
   "outputs": [],
   "source": [
    "dfe[\"degree\"] = np.nan\r\n",
    "dfe[\"degree\"] = dfe[\"max_univ\"].apply(lambda x: 0 if x<=1 else 1) #si tiene más de 3 años es por lo menos bachelor"
   ]
  },
  {
   "cell_type": "code",
   "execution_count": 174,
   "metadata": {},
   "outputs": [],
   "source": [
    "#crear columna de titulo de grado\r\n",
    "dfe[\"educ_title\"] = np.nan"
   ]
  },
  {
   "cell_type": "code",
   "execution_count": 175,
   "metadata": {},
   "outputs": [
    {
     "name": "stderr",
     "output_type": "stream",
     "text": [
      "<ipython-input-175-b15059e5266c>:7: SettingWithCopyWarning: \n",
      "A value is trying to be set on a copy of a slice from a DataFrame\n",
      "\n",
      "See the caveats in the documentation: https://pandas.pydata.org/pandas-docs/stable/user_guide/indexing.html#returning-a-view-versus-a-copy\n",
      "  dfe[\"educ_title\"][i] =e[\"degrees\"]\n",
      "C:\\Users\\War\\anaconda3\\lib\\site-packages\\pandas\\core\\indexing.py:670: SettingWithCopyWarning: \n",
      "A value is trying to be set on a copy of a slice from a DataFrame\n",
      "\n",
      "See the caveats in the documentation: https://pandas.pydata.org/pandas-docs/stable/user_guide/indexing.html#returning-a-view-versus-a-copy\n",
      "  iloc._setitem_with_indexer(indexer, value)\n",
      "<ipython-input-175-b15059e5266c>:18: SettingWithCopyWarning: \n",
      "A value is trying to be set on a copy of a slice from a DataFrame\n",
      "\n",
      "See the caveats in the documentation: https://pandas.pydata.org/pandas-docs/stable/user_guide/indexing.html#returning-a-view-versus-a-copy\n",
      "  dfe[\"educ_title\"][i] =e[\"degrees\"]\n",
      "<ipython-input-175-b15059e5266c>:10: SettingWithCopyWarning: \n",
      "A value is trying to be set on a copy of a slice from a DataFrame\n",
      "\n",
      "See the caveats in the documentation: https://pandas.pydata.org/pandas-docs/stable/user_guide/indexing.html#returning-a-view-versus-a-copy\n",
      "  dfe[\"educ_title\"][i] =e[\"degrees\"]\n",
      "<ipython-input-175-b15059e5266c>:13: SettingWithCopyWarning: \n",
      "A value is trying to be set on a copy of a slice from a DataFrame\n",
      "\n",
      "See the caveats in the documentation: https://pandas.pydata.org/pandas-docs/stable/user_guide/indexing.html#returning-a-view-versus-a-copy\n",
      "  dfe[\"educ_title\"][i] =e[\"degrees\"]\n",
      "<ipython-input-175-b15059e5266c>:16: SettingWithCopyWarning: \n",
      "A value is trying to be set on a copy of a slice from a DataFrame\n",
      "\n",
      "See the caveats in the documentation: https://pandas.pydata.org/pandas-docs/stable/user_guide/indexing.html#returning-a-view-versus-a-copy\n",
      "  dfe[\"educ_title\"][i] =e[\"degrees\"]\n"
     ]
    }
   ],
   "source": [
    "\r\n",
    "#extrar titulo de grado\r\n",
    "for i in range(len(dfe)):\r\n",
    "    for e in dfe[\"educacion\"][i]:\r\n",
    "        if \"start\" in e.keys() and \"end\" in e.keys() and \"degrees\" in e.keys() and type(e[\"start\"]) == int and type(e[\"end\"]) == int:\r\n",
    "            resta = e[\"end\"] - e[\"start\"]\r\n",
    "            if resta>=0:\r\n",
    "                dfe[\"educ_title\"][i] =e[\"degrees\"]\r\n",
    "\r\n",
    "            if resta>=1:\r\n",
    "                dfe[\"educ_title\"][i] =e[\"degrees\"]\r\n",
    "\r\n",
    "            if resta>=2:\r\n",
    "                dfe[\"educ_title\"][i] =e[\"degrees\"]\r\n",
    "\r\n",
    "            if resta>=3:\r\n",
    "                dfe[\"educ_title\"][i] =e[\"degrees\"]\r\n",
    "        if \"degrees\" in e.keys():\r\n",
    "            dfe[\"educ_title\"][i] =e[\"degrees\"]\r\n",
    "\r\n"
   ]
  },
  {
   "cell_type": "code",
   "execution_count": 176,
   "metadata": {},
   "outputs": [
    {
     "name": "stderr",
     "output_type": "stream",
     "text": [
      "<ipython-input-176-d841080eaac5>:12: SettingWithCopyWarning: \n",
      "A value is trying to be set on a copy of a slice from a DataFrame\n",
      "\n",
      "See the caveats in the documentation: https://pandas.pydata.org/pandas-docs/stable/user_guide/indexing.html#returning-a-view-versus-a-copy\n",
      "  dfe[\"degree\"][i] = max(L)\n",
      "<ipython-input-176-d841080eaac5>:13: SettingWithCopyWarning: \n",
      "A value is trying to be set on a copy of a slice from a DataFrame\n",
      "\n",
      "See the caveats in the documentation: https://pandas.pydata.org/pandas-docs/stable/user_guide/indexing.html#returning-a-view-versus-a-copy\n",
      "  dfe[\"educ_title\"][i] = q[L.index(max(L))]\n"
     ]
    }
   ],
   "source": [
    "#titulo de grado y alcance\r\n",
    "for i in range(len(dfe)):\r\n",
    "    L = []\r\n",
    "    q = []\r\n",
    "    if  dfe[\"max_univ\"][i]>0:\r\n",
    "        for e in dfe[\"educacion\"][i]: #dejo entrar a los que por lo menso tienen 1 año (para que entren los que tengan maestría), quizas hubo alguien que coloco solo la maestria de un año\r\n",
    "            if \"degrees\" in e and len(e[\"degrees\"])>0:\r\n",
    "                L.append(degree(e[\"degrees\"]))\r\n",
    "                q.append(e[\"degrees\"])\r\n",
    "\r\n",
    "        if len(L)>0 and max(L)>1 :\r\n",
    "            dfe[\"degree\"][i] = max(L)\r\n",
    "            dfe[\"educ_title\"][i] = q[L.index(max(L))]\r\n",
    "             \r\n"
   ]
  },
  {
   "cell_type": "code",
   "execution_count": 178,
   "metadata": {},
   "outputs": [],
   "source": [
    "dfe.to_excel(\"final_DB.xlsx\", index = False)"
   ]
  },
  {
   "cell_type": "code",
   "execution_count": null,
   "metadata": {},
   "outputs": [],
   "source": [
    "dfb"
   ]
  }
 ],
 "metadata": {
  "interpreter": {
   "hash": "06cb5fed7a19db1a3b234843391dc1a69eede94e92f070202b04797e91c1cb37"
  },
  "kernelspec": {
   "display_name": "Python 3.8.5 64-bit ('base': conda)",
   "name": "python3"
  },
  "language_info": {
   "codemirror_mode": {
    "name": "ipython",
    "version": 3
   },
   "file_extension": ".py",
   "mimetype": "text/x-python",
   "name": "python",
   "nbconvert_exporter": "python",
   "pygments_lexer": "ipython3",
   "version": "3.8.5"
  },
  "orig_nbformat": 4
 },
 "nbformat": 4,
 "nbformat_minor": 2
}