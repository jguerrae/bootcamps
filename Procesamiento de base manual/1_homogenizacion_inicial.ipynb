{
 "cells": [
  {
   "cell_type": "code",
   "execution_count": 1,
   "metadata": {},
   "outputs": [
    {
     "name": "stderr",
     "output_type": "stream",
     "text": [
      "C:\\Users\\War\\anaconda3\\lib\\site-packages\\fuzzywuzzy\\fuzz.py:11: UserWarning: Using slow pure-python SequenceMatcher. Install python-Levenshtein to remove this warning\n",
      "  warnings.warn('Using slow pure-python SequenceMatcher. Install python-Levenshtein to remove this warning')\n"
     ]
    }
   ],
   "source": [
    "#LIBRARIES\r\n",
    "import pandas as pd\r\n",
    "import re\r\n",
    "import numpy as np\r\n",
    "\r\n",
    "## nomalice parameters\r\n",
    "from unidecode import unidecode\r\n",
    "\r\n",
    "import spacy  # For preprocessing\r\n",
    "from scipy import spatial\r\n",
    "from time import time  # To time our operations\r\n",
    "import matplotlib.pyplot as plt\r\n",
    "from sklearn.manifold import TSNE\r\n",
    "from sklearn.cluster import KMeans\r\n",
    "\r\n",
    "from tqdm import tqdm\r\n",
    "\r\n",
    "from deep_translator import GoogleTranslator\r\n",
    "nlp = spacy.load(\"en_core_web_sm\")\r\n",
    "\r\n",
    "## FUZZY\r\n",
    "from fuzzywuzzy import fuzz\r\n",
    "from fuzzywuzzy import process\r\n",
    "## nomalice parameters\r\n",
    "from unidecode import unidecode"
   ]
  },
  {
   "cell_type": "code",
   "execution_count": 2,
   "metadata": {},
   "outputs": [],
   "source": [
    "df = pd.read_excel(\"Profiles required for a representative sample of 600_.xlsx\")"
   ]
  },
  {
   "cell_type": "code",
   "execution_count": 3,
   "metadata": {},
   "outputs": [],
   "source": [
    "#MINUSCULA\r\n",
    "\r\n",
    "df[\"dict\"] =  df[\"dict\"].str.lower()\r\n",
    "df[\"Bootcamps_unif\"] =  df[\"Bootcamps_unif\"].str.lower()"
   ]
  },
  {
   "cell_type": "code",
   "execution_count": 4,
   "metadata": {},
   "outputs": [],
   "source": [
    "#FUNCIÓN PARA TRADUCIR\r\n",
    "\r\n",
    "def translateString(to_translate, languageFinal):\r\n",
    "    translated = GoogleTranslator(source='auto', target=languageFinal).translate(to_translate)\r\n",
    "    return translated\r\n",
    "\r\n",
    "#FUNCIÓN PARA LIMPIAR\r\n",
    "nlp = spacy.load(\"en_core_web_sm\")\r\n",
    "\r\n",
    "def cleaning(text):\r\n",
    "    ##text = text.lower()\r\n",
    "    #text = text.replace('[>/,\\.!?\\-!?\\n\\)\\(\\r]', ' ') \r\n",
    "    text = re.sub(\"[^A-Za-z']+\", ' ', str(text))\r\n",
    "    doc = nlp(text)\r\n",
    "    # Lemmatizes and removes stopwords\r\n",
    "    # doc needs to be a spacy Doc object\r\n",
    "    #txt = [token.lemma_ for token in doc if not token.is_stop]\r\n",
    "    txt = [tok.lemma_.lower() for tok in doc\r\n",
    "                if not tok.is_stop and not tok.is_punct and tok.is_alpha ]\r\n",
    "    # Word2Vec uses context words to learn the vector representation of a target word,\r\n",
    "    # if a sentence is only one or two words long,\r\n",
    "    # the benefit for the training is very small\r\n",
    "    ## return an array of ewords\r\n",
    "    ##return txt\r\n",
    "    \r\n",
    "    rta = \"\"\r\n",
    "    for t in txt:\r\n",
    "        print(t)\r\n",
    "        rta+= \" \"+t\r\n",
    "    return rta"
   ]
  },
  {
   "cell_type": "markdown",
   "metadata": {},
   "source": [
    "# HOMOGENIZACIÓN INICIAL (VOLVER A LA ESTRUCTURA INICIAL)"
   ]
  },
  {
   "cell_type": "code",
   "execution_count": 5,
   "metadata": {},
   "outputs": [],
   "source": [
    "\r\n",
    "#FUNCIÓN QUE CAPTURA HETEROGENEIDADES QUE HUBO EN LA RECOLECCIÓN DE DATOS\r\n",
    "\r\n",
    "def homo(q):\r\n",
    "    \r\n",
    "    q = q.replace(\"\\n\", \" \") #SALTOS\r\n",
    "    q = \" \".join(q.split()) #ESPACIOS\r\n",
    "    q = q.replace(\"<!---->\", \" \")\r\n",
    "\r\n",
    "    H = re.findall(\"[0-9][0-9][0-9][0-9][0-9][0-9][0-9][0-9]\", q) #20162020\r\n",
    "    for i in H: \r\n",
    "        q = q.replace(i, f\"'start': '{i[0:4]}', 'end': '{i[4:8]}'\")\r\n",
    "    \r\n",
    "    K = re.findall('<span class=\"pv-entity__secondary-title separator\">[^0-9]*</span>', q) # '<span class=\"pv-entity__secondary-title separator\">Jornada completa</span>'\r\n",
    "    for i in K:\r\n",
    "        q = q.replace(i, \"\")\r\n",
    "        \r\n",
    "    Q = re.findall('[A-z][A-z][A-z] [0-9][0-9][0-9][0-9]', q) #SEP 2020\r\n",
    "    for i in Q:\r\n",
    "        q = q.replace(i, f\"{i[4:8]}\")\r\n",
    "\r\n",
    "    educ = str(q.split(\"}],\")[0]+\"}]\")\r\n",
    "    job_title = str(q.split(\"}],'\")[1].split(\"',[{'\")[0])\r\n",
    "    if \"job_title\" in q:\r\n",
    "        job_history = str(\"[{'\"+q.split(\"',[{'\")[1])\r\n",
    "    else:\r\n",
    "        job_history = \"\"\r\n",
    "\r\n",
    "    return educ, job_title, job_history\r\n",
    "\r\n"
   ]
  },
  {
   "cell_type": "code",
   "execution_count": 6,
   "metadata": {},
   "outputs": [
    {
     "name": "stderr",
     "output_type": "stream",
     "text": [
      "  0%|          | 0/649 [00:00<?, ?it/s]<ipython-input-6-b46f5e288b41>:9: SettingWithCopyWarning: \n",
      "A value is trying to be set on a copy of a slice from a DataFrame\n",
      "\n",
      "See the caveats in the documentation: https://pandas.pydata.org/pandas-docs/stable/user_guide/indexing.html#returning-a-view-versus-a-copy\n",
      "  df[\"educ\"][i] = homo(df[\"dict\"][i])[0]\n",
      "C:\\Users\\War\\anaconda3\\lib\\site-packages\\pandas\\core\\indexing.py:670: SettingWithCopyWarning: \n",
      "A value is trying to be set on a copy of a slice from a DataFrame\n",
      "\n",
      "See the caveats in the documentation: https://pandas.pydata.org/pandas-docs/stable/user_guide/indexing.html#returning-a-view-versus-a-copy\n",
      "  iloc._setitem_with_indexer(indexer, value)\n",
      "100%|██████████| 649/649 [00:00<00:00, 3488.98it/s]\n"
     ]
    }
   ],
   "source": [
    "#LOOP PARA EDUCACIÓN\r\n",
    "\r\n",
    "df[\"educ\"] = np.nan;\r\n",
    "df[\"dict\"] = df[\"dict\"].replace(np.nan, \"\")\r\n",
    "\r\n",
    "for i in tqdm(range(len(df))):\r\n",
    "    try:\r\n",
    "        if len(df[\"dict\"][i])>0:\r\n",
    "            df[\"educ\"][i] = homo(df[\"dict\"][i])[0]\r\n",
    "    except:\r\n",
    "        None"
   ]
  },
  {
   "cell_type": "code",
   "execution_count": 7,
   "metadata": {},
   "outputs": [
    {
     "name": "stderr",
     "output_type": "stream",
     "text": [
      "  0%|          | 0/649 [00:00<?, ?it/s]<ipython-input-7-7f3ed8e1b60a>:9: SettingWithCopyWarning: \n",
      "A value is trying to be set on a copy of a slice from a DataFrame\n",
      "\n",
      "See the caveats in the documentation: https://pandas.pydata.org/pandas-docs/stable/user_guide/indexing.html#returning-a-view-versus-a-copy\n",
      "  df[\"job_title\"][i] = homo(df[\"dict\"][i])[1]\n",
      "100%|██████████| 649/649 [00:00<00:00, 2309.45it/s]\n"
     ]
    }
   ],
   "source": [
    "#LOOP PARA JOB TITLE (este en realidad es el encabezado, hubo gente que no tenía trabajo: puede no coincidir con el trabajo pero sirve para la gente que no tiene historial)\r\n",
    "\r\n",
    "df[\"job_title\"] = np.nan;\r\n",
    "df[\"dict\"] = df[\"dict\"].replace(np.nan, \"\")\r\n",
    "\r\n",
    "for i in tqdm(range(len(df))):\r\n",
    "    try:\r\n",
    "        if len(df[\"dict\"][i])>0:\r\n",
    "            df[\"job_title\"][i] = homo(df[\"dict\"][i])[1]\r\n",
    "    except:\r\n",
    "        None"
   ]
  },
  {
   "cell_type": "code",
   "execution_count": 8,
   "metadata": {},
   "outputs": [
    {
     "name": "stderr",
     "output_type": "stream",
     "text": [
      "  0%|          | 0/649 [00:00<?, ?it/s]<ipython-input-8-797f3fa8e5ba>:9: SettingWithCopyWarning: \n",
      "A value is trying to be set on a copy of a slice from a DataFrame\n",
      "\n",
      "See the caveats in the documentation: https://pandas.pydata.org/pandas-docs/stable/user_guide/indexing.html#returning-a-view-versus-a-copy\n",
      "  df[\"job_history\"][i] = homo(df[\"dict\"][i])[2]\n",
      "100%|██████████| 649/649 [00:00<00:00, 3228.65it/s]\n"
     ]
    }
   ],
   "source": [
    "#LOOP PARA HOB HISTORY\r\n",
    "\r\n",
    "df[\"job_history\"] = np.nan;\r\n",
    "df[\"dict\"] = df[\"dict\"].replace(np.nan, \"\")\r\n",
    "\r\n",
    "for i in tqdm(range(len(df))):\r\n",
    "    try:\r\n",
    "        if len(df[\"dict\"][i])>0:\r\n",
    "            df[\"job_history\"][i] = homo(df[\"dict\"][i])[2]\r\n",
    "    except:\r\n",
    "        None"
   ]
  },
  {
   "cell_type": "markdown",
   "metadata": {},
   "source": [
    "# PARTIR DE LOS ALGORITMOS PREVIOS: OBTENER EDUCACION, HISTORIAL LABORAL Y TITULO ACTUAL HOMOGENIZADO Y TRADUCIDO"
   ]
  },
  {
   "cell_type": "code",
   "execution_count": 9,
   "metadata": {},
   "outputs": [
    {
     "name": "stderr",
     "output_type": "stream",
     "text": [
      "100%|██████████| 649/649 [00:00<00:00, 6300.63it/s]\n"
     ]
    }
   ],
   "source": [
    "#HOMOGENIZACIÓN DE EDUCACION\r\n",
    "\r\n",
    "L = []\r\n",
    "\r\n",
    "for i in df[\"educ\"]:\r\n",
    "    l = str(i).split(\"},\") #convertir en string la formación del individuo y crear lista para separar cada formación\r\n",
    "    k = [] #Lista donde se almacenara cada formación x del individuo i\r\n",
    "    for formacion in l: #para cada formación\r\n",
    "        formacion = formacion.replace(\"[\", \"\").replace(\"]\", \"\") + \"}\" #separelas y conviertalas en diccionarios\r\n",
    "        k.append(formacion) #añadalas a la lista de formación\r\n",
    "    L.append(k) #añada la lista de formación para individuo\r\n",
    "\r\n",
    "#VER UN EJEMPLO: Esta es la última formación del primer individuo desordenada en diccionario pero como un string   \r\n",
    "L[0][0]\r\n",
    "\r\n",
    "\r\n",
    "K = [] #LISTA D ELISTAS EN DONDE SE ALMACENARAN LAS FORMACIONES A MANERA DE DICCIONARIO PARA CADA INDIVIDUO\r\n",
    "\r\n",
    "for individuo in tqdm(L): #para cada individuo\r\n",
    "\r\n",
    "    educacion_ind = [] #creo una lista de sus educaciones\r\n",
    "\r\n",
    "    for ins in individuo: # para cada cada formación dentro de las formaciones de cada individuos\r\n",
    "        ins = ins.replace('\"', \"'\")\r\n",
    "\r\n",
    "        c = {}\r\n",
    "\r\n",
    "        #CADA CAMPO SE EXTRAE POR MEDIO DE RegEx, COMUNES A TODOS LAS FORMACIONES STR DE LOS INDIVIDUOS EN EL DATASET\r\n",
    "        #CADA CAMPO SE EXTRAE EN CASO DE QUE EXISTA DE LO CONTRARIO NO\r\n",
    "\r\n",
    "        #EXTRAER EDUCACIÓN\r\n",
    "        if ( len(re.findall(\"'education_org': '.*?'\", ins)) ) > 0:\r\n",
    "            c[\"education\"] =  re.findall(\"'education_org': '.*?'\", ins)[0].replace(\"'education_org': \", \"\").replace(\"'\", \"\")\r\n",
    "\r\n",
    "        #EXTRAER DEGREE\r\n",
    "        if ( len(re.findall(\"'degrees': '.*?'\", ins)) ) > 0:\r\n",
    "            c[\"degrees\"] =  re.findall(\"'degrees': '.*?'\", ins)[0].replace(\"'degrees': \", \"\").replace(\"'\", \"\")\r\n",
    "\r\n",
    "        #EXTRAER SUMMARY\r\n",
    "        if ( len(re.findall(\"'summary': '.*?'\", ins)) ) > 0:\r\n",
    "            c[\"summary\"] =  re.findall(\"'summary': '.*?'\", ins)[0].replace(\"'summary': \", \"\").replace(\"'\", \"\")\r\n",
    "\r\n",
    "\r\n",
    "        #EXTRAER INICIO\r\n",
    "        if ( len(re.findall(\"'start': '.*?'\", ins)) ) > 0:\r\n",
    "            c[\"start\"] = re.findall(\"'start': '.*?'\", ins)[0].replace(\"'start': \", \"\").replace(\"'\", \"\")\r\n",
    "            c[\"start\"] = (c[\"start\"])\r\n",
    "\r\n",
    "        #EXTRAER FINALIZACIÓN\r\n",
    "        if ( len(re.findall(\"'end': '.*?'\", ins)) ) > 0:\r\n",
    "            c[\"end\"] = re.findall(\"'end': '.*?'\", ins)[0].replace(\"'end': \", \"\").replace(\"'\", \"\")\r\n",
    "            c[\"end\"] = (c[\"end\"])\r\n",
    "\r\n",
    "        educacion_ind.append(c) #añado cada formación a la lista de sus educaciones\r\n",
    "    \r\n",
    "    K.append(educacion_ind) #añado la educación de cada individuo a una lista general\r\n",
    "\r\n",
    "#VER UN EJEMPLO: Esta es la última formación del primer individuo ordenada en un diccionario\r\n",
    "K[0][0]\r\n",
    "\r\n",
    "df[\"educ_history_clean\"] = K\r\n"
   ]
  },
  {
   "cell_type": "code",
   "execution_count": 10,
   "metadata": {
    "tags": [
     "outputPrepend"
    ]
   },
   "outputs": [],
   "source": [
    "\r\n",
    "\r\n",
    "# for i in tqdm(K):\r\n",
    "#     for e in tqdm(i):\r\n",
    "#         if \"degrees\" in e and len(e[\"degrees\"])>0:\r\n",
    "#            try:\r\n",
    "#                e[\"degrees\"] = translateString(str(e[\"degrees\"]), \"en\")\r\n",
    "#                e[\"degrees\"] = cleaning(e[\"degrees\"])\r\n",
    "#            except:\r\n",
    "#               None\r\n",
    "\r\n",
    "#         if \"education\" in tqdm(e) and len(e[\"education\"])>0:\r\n",
    "#            try:\r\n",
    "#             e[\"education\"] = translateString(str(e[\"education\"]), \"en\")\r\n",
    "#             e[\"education\"] = cleaning(e[\"education\"])\r\n",
    "#            except:\r\n",
    "#               None\r\n",
    "\r\n",
    "# df[\"educ_history_clean\"] = K"
   ]
  },
  {
   "cell_type": "code",
   "execution_count": 11,
   "metadata": {},
   "outputs": [
    {
     "name": "stderr",
     "output_type": "stream",
     "text": [
      "100%|██████████| 649/649 [00:00<00:00, 4972.56it/s]\n"
     ]
    }
   ],
   "source": [
    "#HOMOGENIZAR HISTORIAL\r\n",
    "\r\n",
    "#SEPARANDO LOS STRINGS DE CADA TRABAJO\r\n",
    "\r\n",
    "L = []\r\n",
    "\r\n",
    "for i in df.job_history:\r\n",
    "    l = str(i).split(\"},\") #convertir en string el job history del individuo y crear lista para separar cada formación\r\n",
    "    k = [] #Lista donde se almacenara cada formación x del individuo i\r\n",
    "    for job in l: #para cada trabajo\r\n",
    "        job = job.replace(\"[\", \"\").replace(\"]\", \"\") + \"}\" #separelos y conviertalas en diccionarios\r\n",
    "        k.append(job) #añadalas a la lista de jobs\r\n",
    "    L.append(k) \r\n",
    "\r\n",
    "#EXTRAER DE MANERA ORDENADA EL JOB HISTORY, LA FECHA DE TERMINACIÓN Y COMIENZO\r\n",
    "\r\n",
    "K = [] \r\n",
    "\r\n",
    "for individuo in tqdm(L): \r\n",
    "\r\n",
    "    educacion_ind = [] \r\n",
    "\r\n",
    "    for ins in individuo: \r\n",
    "        ins = ins.replace('\"', \"'\")\r\n",
    "\r\n",
    "        c = {}\r\n",
    "\r\n",
    "        #EXTRAER JOB-TITLE\r\n",
    "        if ( len(re.findall(\"'job_title': '.*?'\", ins)) ) > 0:\r\n",
    "            c[\"job_title\"] =  re.findall(\"'job_title': '.*?'\", ins)[0].replace(\"'job_title': \", \"\").replace(\"'\", \"\")\r\n",
    "            c[\"job_title\"] = str(c[\"job_title\"])\r\n",
    "            # c[\"job_title\"] = cleaning(c[\"job_title\"])\r\n",
    "\r\n",
    "        #EXTRAER INICIO\r\n",
    "        if ( len(re.findall(\"'start': '.*?'\", ins)) ) > 0:\r\n",
    "            c[\"start\"] = re.findall(\"'start': '.*?'\", ins)[0].replace(\"'start': \", \"\").replace(\"'\", \"\")\r\n",
    "            c[\"start\"] = str((c[\"start\"][::-1][0:4][::-1])) #SOLO CONSERVAR EL AÑO \r\n",
    "\r\n",
    "        #EXTRAER FINALIZACIÓN\r\n",
    "        if ( len(re.findall(\"'end': '.*?'\", ins)) ) > 0:\r\n",
    "            c[\"end\"] = re.findall(\"'end': '.*?'\", ins)[0].replace(\"'end': \", \"\").replace(\"'\", \"\")\r\n",
    "            c[\"end\"] = str((c[\"end\"][::-1][0:4][::-1])) #SOLO CONSERVAR EL AÑO\r\n",
    "\r\n",
    "        educacion_ind.append(c) #añado cada formación a la lista de sus educaciones\r\n",
    "    \r\n",
    "    K.append(educacion_ind) #añado la educación de cada individuo a una lista general\r\n",
    "\r\n",
    "\r\n",
    "df[\"job_history_clean\"] = K\r\n",
    "\r\n"
   ]
  },
  {
   "cell_type": "code",
   "execution_count": 12,
   "metadata": {},
   "outputs": [],
   "source": [
    "#TRADUCIR Y LIMPIAR \r\n",
    "\r\n",
    "# for i in tqdm(K[:]):\r\n",
    "#     for e in tqdm(i):\r\n",
    "#         # A = \"job_title\" in e\r\n",
    "#         # if len(e[\"job_title\"])>0 and A == True:\r\n",
    "#         try:\r\n",
    "#             e[\"job_title\"] = translateString(str(e[\"job_title\"]), \"en\")\r\n",
    "#             e[\"job_title\"] = cleaning(e[\"job_title\"])\r\n",
    "#         except:\r\n",
    "#             None\r\n",
    "\r\n",
    "\r\n",
    "# df[\"job_history_clean\"] = K"
   ]
  },
  {
   "cell_type": "markdown",
   "metadata": {},
   "source": [
    "# ENCONTRAR EL AÑO DE GRADUACIÓN"
   ]
  },
  {
   "cell_type": "code",
   "execution_count": 13,
   "metadata": {},
   "outputs": [
    {
     "name": "stderr",
     "output_type": "stream",
     "text": [
      "<ipython-input-13-b08a608edb3b>:13: SettingWithCopyWarning: \n",
      "A value is trying to be set on a copy of a slice from a DataFrame\n",
      "\n",
      "See the caveats in the documentation: https://pandas.pydata.org/pandas-docs/stable/user_guide/indexing.html#returning-a-view-versus-a-copy\n",
      "  df[\"bootcamp_educ\"][i] = df.educ_history_clean[i][h][\"education\"]\n",
      "<ipython-input-13-b08a608edb3b>:14: SettingWithCopyWarning: \n",
      "A value is trying to be set on a copy of a slice from a DataFrame\n",
      "\n",
      "See the caveats in the documentation: https://pandas.pydata.org/pandas-docs/stable/user_guide/indexing.html#returning-a-view-versus-a-copy\n",
      "  df[\"ratio\"][i] = ratio\n",
      "<ipython-input-13-b08a608edb3b>:17: SettingWithCopyWarning: \n",
      "A value is trying to be set on a copy of a slice from a DataFrame\n",
      "\n",
      "See the caveats in the documentation: https://pandas.pydata.org/pandas-docs/stable/user_guide/indexing.html#returning-a-view-versus-a-copy\n",
      "  df[\"bootcamp_educ\"][i] = df.educ_history_clean[i][h][\"education\"]\n",
      "<ipython-input-13-b08a608edb3b>:18: SettingWithCopyWarning: \n",
      "A value is trying to be set on a copy of a slice from a DataFrame\n",
      "\n",
      "See the caveats in the documentation: https://pandas.pydata.org/pandas-docs/stable/user_guide/indexing.html#returning-a-view-versus-a-copy\n",
      "  df[\"ratio\"][i] = ratio\n",
      "<ipython-input-13-b08a608edb3b>:21: SettingWithCopyWarning: \n",
      "A value is trying to be set on a copy of a slice from a DataFrame\n",
      "\n",
      "See the caveats in the documentation: https://pandas.pydata.org/pandas-docs/stable/user_guide/indexing.html#returning-a-view-versus-a-copy\n",
      "  df[\"bootcamp_educ\"][i] = df.educ_history_clean[i][h][\"education\"]\n",
      "<ipython-input-13-b08a608edb3b>:22: SettingWithCopyWarning: \n",
      "A value is trying to be set on a copy of a slice from a DataFrame\n",
      "\n",
      "See the caveats in the documentation: https://pandas.pydata.org/pandas-docs/stable/user_guide/indexing.html#returning-a-view-versus-a-copy\n",
      "  df[\"ratio\"][i] = ratio\n"
     ]
    }
   ],
   "source": [
    "# ENCONTRAR MATCH\r\n",
    "\r\n",
    "df[\"bootcamp_educ\"] = np.nan\r\n",
    "df[\"ratio\"] = np.nan\r\n",
    "\r\n",
    "for i in range(len(df)):\r\n",
    "    for h in range(len(df.educ_history_clean[i])):\r\n",
    "        if \"education\" in df.educ_history_clean[i][h]:\r\n",
    "\r\n",
    "            wordLen = len(df.educ_history_clean[i][h][\"education\"])\r\n",
    "            ratio = fuzz.partial_ratio(df.Bootcamps_unif[i], df.educ_history_clean[i][h][\"education\"])\r\n",
    "            if ratio>=85:\r\n",
    "                df[\"bootcamp_educ\"][i] = df.educ_history_clean[i][h][\"education\"]\r\n",
    "                df[\"ratio\"][i] = ratio\r\n",
    "\r\n",
    "            if  df.educ_history_clean[i][h][\"education\"] == \"hola&lt;​code/&gt;\":\r\n",
    "                df[\"bootcamp_educ\"][i] = df.educ_history_clean[i][h][\"education\"]\r\n",
    "                df[\"ratio\"][i] = ratio\r\n",
    "            \r\n",
    "            if  df.educ_history_clean[i][h][\"education\"] == \"dev.f.\":\r\n",
    "                df[\"bootcamp_educ\"][i] = df.educ_history_clean[i][h][\"education\"]\r\n",
    "                df[\"ratio\"][i] = ratio\r\n",
    "\r\n",
    "dfk = df[df[\"bootcamp_educ\"].notna()] #40 quedan sin hacer match\r\n"
   ]
  },
  {
   "cell_type": "code",
   "execution_count": 14,
   "metadata": {},
   "outputs": [],
   "source": [
    "dfna = df[df[\"bootcamp_educ\"].isna()]\r\n",
    "dfna.to_excel(\"base_con_nas.xlsx\", index = False)"
   ]
  },
  {
   "cell_type": "code",
   "execution_count": 15,
   "metadata": {},
   "outputs": [
    {
     "data": {
      "text/html": [
       "<div>\n",
       "<style scoped>\n",
       "    .dataframe tbody tr th:only-of-type {\n",
       "        vertical-align: middle;\n",
       "    }\n",
       "\n",
       "    .dataframe tbody tr th {\n",
       "        vertical-align: top;\n",
       "    }\n",
       "\n",
       "    .dataframe thead th {\n",
       "        text-align: right;\n",
       "    }\n",
       "</style>\n",
       "<table border=\"1\" class=\"dataframe\">\n",
       "  <thead>\n",
       "    <tr style=\"text-align: right;\">\n",
       "      <th></th>\n",
       "      <th>Bootcamps</th>\n",
       "      <th>Bootcamps_unif</th>\n",
       "      <th>Link</th>\n",
       "      <th>dict</th>\n",
       "      <th>educ</th>\n",
       "      <th>job_title</th>\n",
       "      <th>job_history</th>\n",
       "      <th>educ_history_clean</th>\n",
       "      <th>job_history_clean</th>\n",
       "      <th>bootcamp_educ</th>\n",
       "      <th>ratio</th>\n",
       "    </tr>\n",
       "  </thead>\n",
       "  <tbody>\n",
       "    <tr>\n",
       "      <th>0</th>\n",
       "      <td>Digital House Argentina</td>\n",
       "      <td>digital house</td>\n",
       "      <td>https://www.linkedin.com/in/simontoyabe/</td>\n",
       "      <td>[{'education_org': 'universidad pontificia bol...</td>\n",
       "      <td>[{'education_org': 'universidad pontificia bol...</td>\n",
       "      <td>excited to learn new things and to transform ...</td>\n",
       "      <td>[{'job_title': 'process improvement analyst', ...</td>\n",
       "      <td>[{'education': 'universidad pontificia bolivar...</td>\n",
       "      <td>[{'job_title': 'process improvement analyst', ...</td>\n",
       "      <td>digital house</td>\n",
       "      <td>100.0</td>\n",
       "    </tr>\n",
       "    <tr>\n",
       "      <th>1</th>\n",
       "      <td>Digital House Argentina</td>\n",
       "      <td>digital house</td>\n",
       "      <td>https://www.linkedin.com/in/carolinahernandezl...</td>\n",
       "      <td>[{'education_org': 'universidad el bosque','de...</td>\n",
       "      <td>[{'education_org': 'universidad el bosque','de...</td>\n",
       "      <td>jefe de gestion humana en kjiplas s.a</td>\n",
       "      <td>[{'job_title': 'jefe de gestión humana', 'comp...</td>\n",
       "      <td>[{'education': 'universidad el bosque', 'degre...</td>\n",
       "      <td>[{'job_title': 'jefe de gestión humana', 'star...</td>\n",
       "      <td>digital house argentina</td>\n",
       "      <td>100.0</td>\n",
       "    </tr>\n",
       "    <tr>\n",
       "      <th>2</th>\n",
       "      <td>Digital House Argentina</td>\n",
       "      <td>digital house</td>\n",
       "      <td>https://www.linkedin.com/in/sabrinaruggiero/</td>\n",
       "      <td>[{'education_org': 'universidad de ciencias em...</td>\n",
       "      <td>[{'education_org': 'universidad de ciencias em...</td>\n",
       "      <td>marketing head north latam at jokr</td>\n",
       "      <td>[{'job_title': 'marketing head north latam', '...</td>\n",
       "      <td>[{'education': 'universidad de ciencias empres...</td>\n",
       "      <td>[{'job_title': 'marketing head north latam', '...</td>\n",
       "      <td>digital house</td>\n",
       "      <td>100.0</td>\n",
       "    </tr>\n",
       "    <tr>\n",
       "      <th>3</th>\n",
       "      <td>Digital House Argentina</td>\n",
       "      <td>digital house</td>\n",
       "      <td>https://www.linkedin.com/in/laura-constanza-pr...</td>\n",
       "      <td>[{'education_org': 'digital house','degrees': ...</td>\n",
       "      <td>[{'education_org': 'digital house','degrees': ...</td>\n",
       "      <td>gerente de proyectos en méntor</td>\n",
       "      <td>[{'job_title': 'gerente de proyectos', 'compan...</td>\n",
       "      <td>[{'education': 'digital house', 'degrees': 'an...</td>\n",
       "      <td>[{'job_title': 'gerente de proyectos', 'start'...</td>\n",
       "      <td>digital house</td>\n",
       "      <td>100.0</td>\n",
       "    </tr>\n",
       "    <tr>\n",
       "      <th>4</th>\n",
       "      <td>Digital House Argentina</td>\n",
       "      <td>digital house</td>\n",
       "      <td>https://www.linkedin.com/in/paola-mejia-valder...</td>\n",
       "      <td>[{'education_org': 'digital house','degrees': ...</td>\n",
       "      <td>[{'education_org': 'digital house','degrees': ...</td>\n",
       "      <td>business intelligence manager at gsk</td>\n",
       "      <td>[{'job_title': 'business intelligence manager'...</td>\n",
       "      <td>[{'education': 'digital house', 'degrees': 'da...</td>\n",
       "      <td>[{'job_title': 'business intelligence manager'...</td>\n",
       "      <td>digital house</td>\n",
       "      <td>100.0</td>\n",
       "    </tr>\n",
       "    <tr>\n",
       "      <th>...</th>\n",
       "      <td>...</td>\n",
       "      <td>...</td>\n",
       "      <td>...</td>\n",
       "      <td>...</td>\n",
       "      <td>...</td>\n",
       "      <td>...</td>\n",
       "      <td>...</td>\n",
       "      <td>...</td>\n",
       "      <td>...</td>\n",
       "      <td>...</td>\n",
       "      <td>...</td>\n",
       "    </tr>\n",
       "    <tr>\n",
       "      <th>644</th>\n",
       "      <td>Le Wagon</td>\n",
       "      <td>le wagon</td>\n",
       "      <td>https://www.linkedin.com/in/danielrpo/?lipi=ur...</td>\n",
       "      <td>[{'education_org': 'le wagon','degrees': ['ful...</td>\n",
       "      <td>[{'education_org': 'le wagon','degrees': ['ful...</td>\n",
       "      <td>seo manager - performance analyst</td>\n",
       "      <td>[{'job_title': 'content team lead latam', 'com...</td>\n",
       "      <td>[{'education': 'le wagon', 'degrees': 'full st...</td>\n",
       "      <td>[{'job_title': 'content team lead latam', 'sta...</td>\n",
       "      <td>le wagon</td>\n",
       "      <td>100.0</td>\n",
       "    </tr>\n",
       "    <tr>\n",
       "      <th>645</th>\n",
       "      <td>Plataforma 5</td>\n",
       "      <td>plataforma 5</td>\n",
       "      <td>https://www.linkedin.com/in/karen-martinez-9ab...</td>\n",
       "      <td>[{'education_org': 'plataforma 5 - coding boot...</td>\n",
       "      <td>[{'education_org': 'plataforma 5 - coding boot...</td>\n",
       "      <td>software developer - freelance</td>\n",
       "      <td>[{'job_title': 'full stack developer &amp;amp;&amp;amp...</td>\n",
       "      <td>[{'education': 'plataforma 5 - coding bootcamp...</td>\n",
       "      <td>[{'job_title': 'full stack developer &amp;amp;&amp;amp...</td>\n",
       "      <td>plataforma 5 - coding bootcamp</td>\n",
       "      <td>100.0</td>\n",
       "    </tr>\n",
       "    <tr>\n",
       "      <th>646</th>\n",
       "      <td>Hack Academy</td>\n",
       "      <td>hack academy</td>\n",
       "      <td>https://www.linkedin.com/in/macarena-clark-seg...</td>\n",
       "      <td>[{'education_org': 'universidad de la empresa'...</td>\n",
       "      <td>[{'education_org': 'universidad de la empresa'...</td>\n",
       "      <td>project manager en fenicio ecommerce</td>\n",
       "      <td>[{'job_title': 'project manager', 'company_nam...</td>\n",
       "      <td>[{'education': 'universidad de la empresa', 'd...</td>\n",
       "      <td>[{'job_title': 'project manager', 'start': '20...</td>\n",
       "      <td>hack academy</td>\n",
       "      <td>100.0</td>\n",
       "    </tr>\n",
       "    <tr>\n",
       "      <th>647</th>\n",
       "      <td>MindHub</td>\n",
       "      <td>mindhub</td>\n",
       "      <td>https://www.linkedin.com/in/cristianmachado121...</td>\n",
       "      <td>[{'education_org': 'universidad tecnológica na...</td>\n",
       "      <td>[{'education_org': 'universidad tecnológica na...</td>\n",
       "      <td>desarrollador full stack jr</td>\n",
       "      <td>[{'job_title': 'analista funcional', 'company_...</td>\n",
       "      <td>[{'education': 'universidad tecnológica nacion...</td>\n",
       "      <td>[{'job_title': 'analista funcional', 'start': ...</td>\n",
       "      <td>mindhub la</td>\n",
       "      <td>100.0</td>\n",
       "    </tr>\n",
       "    <tr>\n",
       "      <th>648</th>\n",
       "      <td>4Geeks</td>\n",
       "      <td>4geeks</td>\n",
       "      <td>https://www.linkedin.com/in/victoria-lemus/?li...</td>\n",
       "      <td>[{'education_org': 'universidad bicentenaria d...</td>\n",
       "      <td>[{'education_org': 'universidad bicentenaria d...</td>\n",
       "      <td>co-founder and ceo en creativic chile</td>\n",
       "      <td>[{'job_title': 'co-founder and ceo', 'company_...</td>\n",
       "      <td>[{'education': 'universidad bicentenaria de ar...</td>\n",
       "      <td>[{'job_title': 'co-founder and ceo', 'start': ...</td>\n",
       "      <td>4geeks academy</td>\n",
       "      <td>100.0</td>\n",
       "    </tr>\n",
       "  </tbody>\n",
       "</table>\n",
       "<p>618 rows × 11 columns</p>\n",
       "</div>"
      ],
      "text/plain": [
       "                   Bootcamps Bootcamps_unif  \\\n",
       "0    Digital House Argentina  digital house   \n",
       "1    Digital House Argentina  digital house   \n",
       "2    Digital House Argentina  digital house   \n",
       "3    Digital House Argentina  digital house   \n",
       "4    Digital House Argentina  digital house   \n",
       "..                       ...            ...   \n",
       "644                 Le Wagon       le wagon   \n",
       "645             Plataforma 5   plataforma 5   \n",
       "646             Hack Academy   hack academy   \n",
       "647                  MindHub        mindhub   \n",
       "648                   4Geeks         4geeks   \n",
       "\n",
       "                                                  Link  \\\n",
       "0             https://www.linkedin.com/in/simontoyabe/   \n",
       "1    https://www.linkedin.com/in/carolinahernandezl...   \n",
       "2         https://www.linkedin.com/in/sabrinaruggiero/   \n",
       "3    https://www.linkedin.com/in/laura-constanza-pr...   \n",
       "4    https://www.linkedin.com/in/paola-mejia-valder...   \n",
       "..                                                 ...   \n",
       "644  https://www.linkedin.com/in/danielrpo/?lipi=ur...   \n",
       "645  https://www.linkedin.com/in/karen-martinez-9ab...   \n",
       "646  https://www.linkedin.com/in/macarena-clark-seg...   \n",
       "647  https://www.linkedin.com/in/cristianmachado121...   \n",
       "648  https://www.linkedin.com/in/victoria-lemus/?li...   \n",
       "\n",
       "                                                  dict  \\\n",
       "0    [{'education_org': 'universidad pontificia bol...   \n",
       "1    [{'education_org': 'universidad el bosque','de...   \n",
       "2    [{'education_org': 'universidad de ciencias em...   \n",
       "3    [{'education_org': 'digital house','degrees': ...   \n",
       "4    [{'education_org': 'digital house','degrees': ...   \n",
       "..                                                 ...   \n",
       "644  [{'education_org': 'le wagon','degrees': ['ful...   \n",
       "645  [{'education_org': 'plataforma 5 - coding boot...   \n",
       "646  [{'education_org': 'universidad de la empresa'...   \n",
       "647  [{'education_org': 'universidad tecnológica na...   \n",
       "648  [{'education_org': 'universidad bicentenaria d...   \n",
       "\n",
       "                                                  educ  \\\n",
       "0    [{'education_org': 'universidad pontificia bol...   \n",
       "1    [{'education_org': 'universidad el bosque','de...   \n",
       "2    [{'education_org': 'universidad de ciencias em...   \n",
       "3    [{'education_org': 'digital house','degrees': ...   \n",
       "4    [{'education_org': 'digital house','degrees': ...   \n",
       "..                                                 ...   \n",
       "644  [{'education_org': 'le wagon','degrees': ['ful...   \n",
       "645  [{'education_org': 'plataforma 5 - coding boot...   \n",
       "646  [{'education_org': 'universidad de la empresa'...   \n",
       "647  [{'education_org': 'universidad tecnológica na...   \n",
       "648  [{'education_org': 'universidad bicentenaria d...   \n",
       "\n",
       "                                             job_title  \\\n",
       "0     excited to learn new things and to transform ...   \n",
       "1               jefe de gestion humana en kjiplas s.a    \n",
       "2                  marketing head north latam at jokr    \n",
       "3                      gerente de proyectos en méntor    \n",
       "4                business intelligence manager at gsk    \n",
       "..                                                 ...   \n",
       "644                 seo manager - performance analyst    \n",
       "645                    software developer - freelance    \n",
       "646              project manager en fenicio ecommerce    \n",
       "647                       desarrollador full stack jr    \n",
       "648             co-founder and ceo en creativic chile    \n",
       "\n",
       "                                           job_history  \\\n",
       "0    [{'job_title': 'process improvement analyst', ...   \n",
       "1    [{'job_title': 'jefe de gestión humana', 'comp...   \n",
       "2    [{'job_title': 'marketing head north latam', '...   \n",
       "3    [{'job_title': 'gerente de proyectos', 'compan...   \n",
       "4    [{'job_title': 'business intelligence manager'...   \n",
       "..                                                 ...   \n",
       "644  [{'job_title': 'content team lead latam', 'com...   \n",
       "645  [{'job_title': 'full stack developer &amp;&amp...   \n",
       "646  [{'job_title': 'project manager', 'company_nam...   \n",
       "647  [{'job_title': 'analista funcional', 'company_...   \n",
       "648  [{'job_title': 'co-founder and ceo', 'company_...   \n",
       "\n",
       "                                    educ_history_clean  \\\n",
       "0    [{'education': 'universidad pontificia bolivar...   \n",
       "1    [{'education': 'universidad el bosque', 'degre...   \n",
       "2    [{'education': 'universidad de ciencias empres...   \n",
       "3    [{'education': 'digital house', 'degrees': 'an...   \n",
       "4    [{'education': 'digital house', 'degrees': 'da...   \n",
       "..                                                 ...   \n",
       "644  [{'education': 'le wagon', 'degrees': 'full st...   \n",
       "645  [{'education': 'plataforma 5 - coding bootcamp...   \n",
       "646  [{'education': 'universidad de la empresa', 'd...   \n",
       "647  [{'education': 'universidad tecnológica nacion...   \n",
       "648  [{'education': 'universidad bicentenaria de ar...   \n",
       "\n",
       "                                     job_history_clean  \\\n",
       "0    [{'job_title': 'process improvement analyst', ...   \n",
       "1    [{'job_title': 'jefe de gestión humana', 'star...   \n",
       "2    [{'job_title': 'marketing head north latam', '...   \n",
       "3    [{'job_title': 'gerente de proyectos', 'start'...   \n",
       "4    [{'job_title': 'business intelligence manager'...   \n",
       "..                                                 ...   \n",
       "644  [{'job_title': 'content team lead latam', 'sta...   \n",
       "645  [{'job_title': 'full stack developer &amp;&amp...   \n",
       "646  [{'job_title': 'project manager', 'start': '20...   \n",
       "647  [{'job_title': 'analista funcional', 'start': ...   \n",
       "648  [{'job_title': 'co-founder and ceo', 'start': ...   \n",
       "\n",
       "                      bootcamp_educ  ratio  \n",
       "0                     digital house  100.0  \n",
       "1           digital house argentina  100.0  \n",
       "2                     digital house  100.0  \n",
       "3                     digital house  100.0  \n",
       "4                     digital house  100.0  \n",
       "..                              ...    ...  \n",
       "644                        le wagon  100.0  \n",
       "645  plataforma 5 - coding bootcamp  100.0  \n",
       "646                    hack academy  100.0  \n",
       "647                      mindhub la  100.0  \n",
       "648                  4geeks academy  100.0  \n",
       "\n",
       "[618 rows x 11 columns]"
      ]
     },
     "execution_count": 15,
     "metadata": {},
     "output_type": "execute_result"
    }
   ],
   "source": [
    "dfk"
   ]
  },
  {
   "cell_type": "code",
   "execution_count": 16,
   "metadata": {},
   "outputs": [
    {
     "data": {
      "text/plain": [
       "array(['digital house', 'digital house argentina', 'digital house ',\n",
       "       'digital house brasil', 'digital house brazil', 'acámica',\n",
       "       'acamica', 'acámica (globant - ibm)', 'laboratoria', 'ironhack',\n",
       "       'holberton school', 'desafío latam', 'ada itw', 'ada',\n",
       "       'hola&lt;\\u200bcode/&gt;', 'hola', 'dev.f.', 'le wagon',\n",
       "       'plataforma 5 - coding bootcamp', 'hack academy', 'hack academy ',\n",
       "       'mindhub la', '4geeks academy', 'bogotá dev', 'muktek academy',\n",
       "       'acámica - globant'], dtype=object)"
      ]
     },
     "execution_count": 16,
     "metadata": {},
     "output_type": "execute_result"
    }
   ],
   "source": [
    "dfk[\"bootcamp_educ\"].unique()"
   ]
  },
  {
   "cell_type": "code",
   "execution_count": 17,
   "metadata": {},
   "outputs": [
    {
     "name": "stderr",
     "output_type": "stream",
     "text": [
      "<ipython-input-17-835df4ac2b73>:13: SettingWithCopyWarning: \n",
      "A value is trying to be set on a copy of a slice from a DataFrame\n",
      "\n",
      "See the caveats in the documentation: https://pandas.pydata.org/pandas-docs/stable/user_guide/indexing.html#returning-a-view-versus-a-copy\n",
      "  dfk[\"end_boot\"][i] = dfk.educ_history_clean[i][e][\"end\"]\n",
      "<ipython-input-17-835df4ac2b73>:14: SettingWithCopyWarning: \n",
      "A value is trying to be set on a copy of a slice from a DataFrame\n",
      "\n",
      "See the caveats in the documentation: https://pandas.pydata.org/pandas-docs/stable/user_guide/indexing.html#returning-a-view-versus-a-copy\n",
      "  dfk[\"end_boot_cat\"][i] = \"end\"\n",
      "C:\\Users\\War\\anaconda3\\lib\\site-packages\\pandas\\core\\indexing.py:670: SettingWithCopyWarning: \n",
      "A value is trying to be set on a copy of a slice from a DataFrame\n",
      "\n",
      "See the caveats in the documentation: https://pandas.pydata.org/pandas-docs/stable/user_guide/indexing.html#returning-a-view-versus-a-copy\n",
      "  iloc._setitem_with_indexer(indexer, value)\n",
      "<ipython-input-17-835df4ac2b73>:24: SettingWithCopyWarning: \n",
      "A value is trying to be set on a copy of a slice from a DataFrame\n",
      "\n",
      "See the caveats in the documentation: https://pandas.pydata.org/pandas-docs/stable/user_guide/indexing.html#returning-a-view-versus-a-copy\n",
      "  dfk.end_boot[i] = 2020\n",
      "<ipython-input-17-835df4ac2b73>:25: SettingWithCopyWarning: \n",
      "A value is trying to be set on a copy of a slice from a DataFrame\n",
      "\n",
      "See the caveats in the documentation: https://pandas.pydata.org/pandas-docs/stable/user_guide/indexing.html#returning-a-view-versus-a-copy\n",
      "  dfk.end_boot_cat[i] = \"inp\"\n"
     ]
    },
    {
     "data": {
      "text/plain": [
       "2023.0"
      ]
     },
     "execution_count": 17,
     "metadata": {},
     "output_type": "execute_result"
    }
   ],
   "source": [
    "dfk = dfk.reset_index(drop = True)\r\n",
    "\r\n",
    "dfk[\"end_boot\"] = np.nan \r\n",
    "dfk[\"end_boot_cat\"] = np.nan\r\n",
    "\r\n",
    "c = 0\r\n",
    "\r\n",
    "for i in range(len(dfk.educ_history_clean)):\r\n",
    "    for e in range(len(dfk.educ_history_clean[i])): #DENTRO DE LA EDUCACIÓN DE CADA INDIVIDUO\r\n",
    "        if \"education\" in dfk.educ_history_clean[i][e].keys() and dfk.educ_history_clean[i][e][\"education\"] == dfk.bootcamp_educ[i]:\r\n",
    "\r\n",
    "            if \"end\" in dfk.educ_history_clean[i][e].keys():\r\n",
    "                dfk[\"end_boot\"][i] = dfk.educ_history_clean[i][e][\"end\"]\r\n",
    "                dfk[\"end_boot_cat\"][i] = \"end\"\r\n",
    "                \r\n",
    "            elif \"start\" in dfk.educ_history_clean[i][e].keys():\r\n",
    "                dfk[\"end_boot\"][i] = dfk.educ_history_clean[i][e][\"start\"] #SI NO TENÍA EL FINAL POR LO MENOS SE LE IMPUTÓ EL INICIAL, EXISTE LA POSIBILIDAD DE QUE NO LO HAYA TERMINADO\r\n",
    "                dfk[\"end_boot_cat\"][i] = \"start\"\r\n",
    "\r\n",
    "\r\n",
    "\r\n",
    "for i in range(len(dfk.end_boot)):\r\n",
    "    if dfk.end_boot[i] == \"\":\r\n",
    "        dfk.end_boot[i] = 2020\r\n",
    "        dfk.end_boot_cat[i] = \"inp\"\r\n",
    "\r\n",
    "\r\n",
    "dfk[\"end_boot\"][0]"
   ]
  },
  {
   "cell_type": "code",
   "execution_count": 18,
   "metadata": {},
   "outputs": [],
   "source": [
    "dfk.to_excel(\"1_data_base.xlsx\", index = False)"
   ]
  },
  {
   "cell_type": "markdown",
   "metadata": {},
   "source": [
    "# UNIR  LAS DOS BASES"
   ]
  },
  {
   "cell_type": "code",
   "execution_count": 70,
   "metadata": {},
   "outputs": [],
   "source": [
    "\r\n",
    "dfi = pd.read_excel(\"base_inicial.xlsx\")"
   ]
  },
  {
   "cell_type": "code",
   "execution_count": 71,
   "metadata": {},
   "outputs": [],
   "source": [
    "df1 = dfi[[\"bootcamp\", \"linkedin_profile_url\", \"job_title\", \"education\", \"job_history_clean\", \"end_boot\", \"end_boot_cat\"]]\r\n",
    "df1.columns = [\"Bootcamps_unif\", \"Link\", \"job_title\", \"educ_history_clean\", \"job_history_clean\", \"end_boot\", \"end_boot_cat\"]"
   ]
  },
  {
   "cell_type": "code",
   "execution_count": 72,
   "metadata": {},
   "outputs": [
    {
     "name": "stderr",
     "output_type": "stream",
     "text": [
      "<ipython-input-72-fc040e159e59>:1: SettingWithCopyWarning: \n",
      "A value is trying to be set on a copy of a slice from a DataFrame.\n",
      "Try using .loc[row_indexer,col_indexer] = value instead\n",
      "\n",
      "See the caveats in the documentation: https://pandas.pydata.org/pandas-docs/stable/user_guide/indexing.html#returning-a-view-versus-a-copy\n",
      "  df1[\"etapa\"] = 1;\n"
     ]
    }
   ],
   "source": [
    "df1[\"etapa\"] = 1;"
   ]
  },
  {
   "cell_type": "code",
   "execution_count": 73,
   "metadata": {},
   "outputs": [
    {
     "name": "stderr",
     "output_type": "stream",
     "text": [
      "<ipython-input-73-a2391ab1d9e4>:2: SettingWithCopyWarning: \n",
      "A value is trying to be set on a copy of a slice from a DataFrame.\n",
      "Try using .loc[row_indexer,col_indexer] = value instead\n",
      "\n",
      "See the caveats in the documentation: https://pandas.pydata.org/pandas-docs/stable/user_guide/indexing.html#returning-a-view-versus-a-copy\n",
      "  df2[\"etapa\"]=2;\n",
      "C:\\Users\\War\\anaconda3\\lib\\site-packages\\pandas\\core\\generic.py:5168: SettingWithCopyWarning: \n",
      "A value is trying to be set on a copy of a slice from a DataFrame.\n",
      "Try using .loc[row_indexer,col_indexer] = value instead\n",
      "\n",
      "See the caveats in the documentation: https://pandas.pydata.org/pandas-docs/stable/user_guide/indexing.html#returning-a-view-versus-a-copy\n",
      "  self[name] = value\n"
     ]
    }
   ],
   "source": [
    "df2 = dfk [[\"Bootcamps_unif\", \"Link\", \"job_title\", \"educ_history_clean\", \"job_history_clean\", \"end_boot\", \"end_boot_cat\" ]]\r\n",
    "df2[\"etapa\"]=2;\r\n",
    "\r\n",
    "df2.end_boot = df2.end_boot.replace(np.nan, 2020)\r\n",
    "df2.end_boot_cat = df2.end_boot_cat.replace(np.nan, \"inp_2020\")"
   ]
  },
  {
   "cell_type": "code",
   "execution_count": 74,
   "metadata": {},
   "outputs": [],
   "source": [
    "df3 = df1.append(df2)"
   ]
  },
  {
   "cell_type": "code",
   "execution_count": 75,
   "metadata": {},
   "outputs": [
    {
     "data": {
      "text/plain": [
       "Bootcamps_unif         0\n",
       "Link                   0\n",
       "job_title             11\n",
       "educ_history_clean     3\n",
       "job_history_clean     31\n",
       "end_boot               0\n",
       "end_boot_cat           0\n",
       "etapa                  0\n",
       "dtype: int64"
      ]
     },
     "execution_count": 75,
     "metadata": {},
     "output_type": "execute_result"
    }
   ],
   "source": [
    "df3.isna().sum()\r\n"
   ]
  },
  {
   "cell_type": "code",
   "execution_count": 76,
   "metadata": {},
   "outputs": [],
   "source": [
    "df3.to_excel(\"db_vf.xlsx\", index = False)"
   ]
  },
  {
   "cell_type": "code",
   "execution_count": null,
   "metadata": {},
   "outputs": [],
   "source": []
  },
  {
   "cell_type": "markdown",
   "metadata": {},
   "source": []
  }
 ],
 "metadata": {
  "interpreter": {
   "hash": "06cb5fed7a19db1a3b234843391dc1a69eede94e92f070202b04797e91c1cb37"
  },
  "kernelspec": {
   "display_name": "Python 3.8.5 64-bit ('base': conda)",
   "name": "python3"
  },
  "language_info": {
   "codemirror_mode": {
    "name": "ipython",
    "version": 3
   },
   "file_extension": ".py",
   "mimetype": "text/x-python",
   "name": "python",
   "nbconvert_exporter": "python",
   "pygments_lexer": "ipython3",
   "version": "3.8.5"
  },
  "orig_nbformat": 2
 },
 "nbformat": 4,
 "nbformat_minor": 2
}