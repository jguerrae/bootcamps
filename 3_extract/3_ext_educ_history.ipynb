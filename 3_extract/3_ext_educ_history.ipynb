{
 "cells": [
  {
   "cell_type": "code",
   "execution_count": 7,
   "metadata": {},
   "outputs": [],
   "source": [
    "#LIBRARIES\r\n",
    "import pandas as pd\r\n",
    "import re\r\n",
    "import numpy as np\r\n",
    "\r\n",
    "## nomalice parameters\r\n",
    "from unidecode import unidecode\r\n",
    "\r\n",
    "import spacy  # For preprocessing\r\n",
    "from scipy import spatial\r\n",
    "from time import time  # To time our operations\r\n",
    "import matplotlib.pyplot as plt\r\n",
    "from sklearn.manifold import TSNE\r\n",
    "from sklearn.cluster import KMeans\r\n",
    "\r\n",
    "from tqdm import tqdm\r\n",
    "\r\n",
    "from deep_translator import GoogleTranslator\r\n",
    "nlp = spacy.load(\"en_core_web_sm\")"
   ]
  },
  {
   "cell_type": "code",
   "execution_count": 8,
   "metadata": {},
   "outputs": [],
   "source": [
    "#FUNCIÓN PARA TRADUCIR\r\n",
    "\r\n",
    "def translateString(to_translate, languageFinal):\r\n",
    "    translated = GoogleTranslator(source='auto', target=languageFinal).translate(to_translate)\r\n",
    "    return translated\r\n",
    "\r\n",
    "#FUNCIÓN PARA LIMPIAR\r\n",
    "\r\n",
    "def cleaning(text):\r\n",
    "    text = text.lower()\r\n",
    "    text = re.sub(\"[^A-Za-z']+\", ' ', str(text))\r\n",
    "    doc = nlp(text)\r\n",
    "    return doc\r\n",
    "\r\n"
   ]
  },
  {
   "cell_type": "code",
   "execution_count": 9,
   "metadata": {},
   "outputs": [],
   "source": [
    "# LEER DATAFRAME Y EXTRAER JOB HISTORY\r\n",
    "\r\n",
    "df = pd.read_excel(\"2_final_db.xlsx\")\r\n",
    "# df = df [[\"id\", \"job_history\"]]\r\n",
    "df = df[df.job_history.notna()]"
   ]
  },
  {
   "cell_type": "code",
   "execution_count": 10,
   "metadata": {},
   "outputs": [],
   "source": [
    "#SEPARANDO LOS STRINGS DE CADA TRABAJO\r\n",
    "\r\n",
    "L = []\r\n",
    "\r\n",
    "for i in df.job_history:\r\n",
    "    l = str(i).split(\"},\") #convertir en string el job history del individuo y crear lista para separar cada formación\r\n",
    "    k = [] #Lista donde se almacenara cada formación x del individuo i\r\n",
    "    for job in l: #para cada trabajo\r\n",
    "        job = job.replace(\"[\", \"\").replace(\"]\", \"\") + \"}\" #separelos y conviertalas en diccionarios\r\n",
    "        k.append(job) #añadalas a la lista de jobs\r\n",
    "    L.append(k) "
   ]
  },
  {
   "cell_type": "code",
   "execution_count": 11,
   "metadata": {},
   "outputs": [
    {
     "name": "stderr",
     "output_type": "stream",
     "text": [
      "100%|██████████| 389/389 [00:00<00:00, 5890.15it/s]\n"
     ]
    }
   ],
   "source": [
    "#EXTRAER DE MANERA ORDENADA EL JOB HISTORY, LA FECHA DE TERMINACIÓN Y COMIENZO\r\n",
    "\r\n",
    "K = [] \r\n",
    "\r\n",
    "for individuo in tqdm(L): \r\n",
    "\r\n",
    "    educacion_ind = [] \r\n",
    "\r\n",
    "    for ins in individuo: \r\n",
    "        ins = ins.replace('\"', \"'\")\r\n",
    "\r\n",
    "        c = {}\r\n",
    "\r\n",
    "        #EXTRAER JOB-TITLE\r\n",
    "        if ( len(re.findall(\"'job_title': '.*?'\", ins)) ) > 0:\r\n",
    "            c[\"job_title\"] =  re.findall(\"'job_title': '.*?'\", ins)[0].replace(\"'job_title': \", \"\").replace(\"'\", \"\")\r\n",
    "            c[\"job_title\"] = str(c[\"job_title\"])\r\n",
    "            # c[\"job_title\"] = cleaning(c[\"job_title\"])\r\n",
    "\r\n",
    "        #EXTRAER INICIO\r\n",
    "        if ( len(re.findall(\"'start': '.*?'\", ins)) ) > 0:\r\n",
    "            c[\"start\"] = re.findall(\"'start': '.*?'\", ins)[0].replace(\"'start': \", \"\").replace(\"'\", \"\")\r\n",
    "            c[\"start\"] = int(c[\"start\"][::-1][0:4][::-1]) #SOLO CONSERVAR EL AÑO \r\n",
    "\r\n",
    "        #EXTRAER FINALIZACIÓN\r\n",
    "        if ( len(re.findall(\"'end': '.*?'\", ins)) ) > 0:\r\n",
    "            c[\"end\"] = re.findall(\"'end': '.*?'\", ins)[0].replace(\"'end': \", \"\").replace(\"'\", \"\")\r\n",
    "            c[\"end\"] = int(c[\"end\"][::-1][0:4][::-1]) #SOLO CONSERVAR EL AÑO\r\n",
    "\r\n",
    "        educacion_ind.append(c) #añado cada formación a la lista de sus educaciones\r\n",
    "    \r\n",
    "    K.append(educacion_ind) #añado la educación de cada individuo a una lista general"
   ]
  },
  {
   "cell_type": "code",
   "execution_count": 15,
   "metadata": {},
   "outputs": [
    {
     "name": "stderr",
     "output_type": "stream",
     "text": [
      "100%|██████████| 2/2 [00:02<00:00,  1.04s/it]\n",
      "100%|██████████| 3/3 [00:03<00:00,  1.02s/it]\n",
      "100%|██████████| 4/4 [00:03<00:00,  1.00it/s]\n",
      "100%|██████████| 3/3 [00:09<00:00,  3.06s/it]\n"
     ]
    }
   ],
   "source": [
    "#TRADUCIR Y LIMPIAR \r\n",
    "\r\n",
    "for i in tqdm(K[0:3]):\r\n",
    "    for e in tqdm(i):\r\n",
    "        # A = \"job_title\" in e\r\n",
    "        # if len(e[\"job_title\"])>0 and A == True:\r\n",
    "        try:\r\n",
    "            e[\"job_title\"] = translateString(str(e[\"job_title\"]), \"en\")\r\n",
    "            e[\"job_title\"] = cleaning(e[\"job_title\"])\r\n",
    "        except:\r\n",
    "            None\r\n",
    "        "
   ]
  },
  {
   "cell_type": "code",
   "execution_count": 16,
   "metadata": {},
   "outputs": [
    {
     "data": {
      "text/plain": "[{'job_title': 'comedienne', 'start': 2012, 'end': 2016},\n {'job_title': 'second assistant director', 'start': 2015, 'end': 2015}]"
     },
     "execution_count": 16,
     "metadata": {},
     "output_type": "execute_result"
    }
   ],
   "source": [
    "K[0]"
   ]
  },
  {
   "cell_type": "code",
   "execution_count": 22,
   "metadata": {},
   "outputs": [],
   "source": [
    "#CREAR LA COLUMNA EN EL DATAFRAME\r\n",
    "df[\"job_history_clean\"] = K"
   ]
  },
  {
   "cell_type": "code",
   "execution_count": 27,
   "metadata": {},
   "outputs": [],
   "source": [
    "df.to_excel(\"final_db_jh_clean.xlsx\", index = False)"
   ]
  },
  {
   "cell_type": "code",
   "execution_count": null,
   "metadata": {},
   "outputs": [],
   "source": []
  },
  {
   "cell_type": "code",
   "execution_count": null,
   "metadata": {},
   "outputs": [],
   "source": []
  },
  {
   "cell_type": "code",
   "execution_count": null,
   "metadata": {},
   "outputs": [],
   "source": []
  },
  {
   "cell_type": "code",
   "execution_count": 97,
   "metadata": {},
   "outputs": [],
   "source": [
    "#EXTRACCIÓN DEL AÑO DE GRADUACIÓN"
   ]
  },
  {
   "cell_type": "code",
   "execution_count": 204,
   "metadata": {},
   "outputs": [],
   "source": [
    "df = pd.read_excel(\"final_db_jh_clean.xlsx\")\r\n",
    "db = pd.read_excel(\"2_final_db.xlsx\")"
   ]
  },
  {
   "cell_type": "code",
   "execution_count": 205,
   "metadata": {},
   "outputs": [
    {
     "name": "stderr",
     "output_type": "stream",
     "text": [
      "<ipython-input-205-a6fafd69d3af>:3: SettingWithCopyWarning: \n",
      "A value is trying to be set on a copy of a slice from a DataFrame.\n",
      "Try using .loc[row_indexer,col_indexer] = value instead\n",
      "\n",
      "See the caveats in the documentation: https://pandas.pydata.org/pandas-docs/stable/user_guide/indexing.html#returning-a-view-versus-a-copy\n",
      "  dfe[\"education\"] =  dfe[\"education\"].str.lower()\n"
     ]
    }
   ],
   "source": [
    "#BUSCAR EN EDUCACIÓN\r\n",
    "dfe = db[(db[\"search\"]==\"educ_regex\") | (db[\"search\"]==\"educ_fp\") | (db[\"search\"]==\"educ_fs\")]\r\n",
    "dfe[\"education\"] =  dfe[\"education\"].str.lower()"
   ]
  },
  {
   "cell_type": "code",
   "execution_count": 206,
   "metadata": {},
   "outputs": [
    {
     "name": "stderr",
     "output_type": "stream",
     "text": [
      "<ipython-input-206-95037ae4090b>:59: SettingWithCopyWarning: \n",
      "A value is trying to be set on a copy of a slice from a DataFrame.\n",
      "Try using .loc[row_indexer,col_indexer] = value instead\n",
      "\n",
      "See the caveats in the documentation: https://pandas.pydata.org/pandas-docs/stable/user_guide/indexing.html#returning-a-view-versus-a-copy\n",
      "  dfe[\"educacion\"] = K\n"
     ]
    }
   ],
   "source": [
    "\r\n",
    "L = []\r\n",
    "\r\n",
    "for i in dfe[\"education\"]:\r\n",
    "    l = str(i).split(\"},\") #convertir en string la formación del individuo y crear lista para separar cada formación\r\n",
    "    k = [] #Lista donde se almacenara cada formación x del individuo i\r\n",
    "    for formacion in l: #para cada formación\r\n",
    "        formacion = formacion.replace(\"[\", \"\").replace(\"]\", \"\") + \"}\" #separelas y conviertalas en diccionarios\r\n",
    "        k.append(formacion) #añadalas a la lista de formación\r\n",
    "    L.append(k) #añada la lista de formación para individuo\r\n",
    "\r\n",
    "#VER UN EJEMPLO: Esta es la última formación del primer individuo desordenada en diccionario pero como un string   \r\n",
    "L[0][0]\r\n",
    "\r\n",
    "\r\n",
    "K = [] #LISTA D ELISTAS EN DONDE SE ALMACENARAN LAS FORMACIONES A MANERA DE DICCIONARIO PARA CADA INDIVIDUO\r\n",
    "\r\n",
    "for individuo in L: #para cada individuo\r\n",
    "\r\n",
    "    educacion_ind = [] #creo una lista de sus educaciones\r\n",
    "\r\n",
    "    for ins in individuo: # para cada cada formación dentro de las formaciones de cada individuos\r\n",
    "        ins = ins.replace('\"', \"'\")\r\n",
    "\r\n",
    "        c = {}\r\n",
    "\r\n",
    "        #CADA CAMPO SE EXTRAE POR MEDIO DE RegEx, COMUNES A TODOS LAS FORMACIONES STR DE LOS INDIVIDUOS EN EL DATASET\r\n",
    "        #CADA CAMPO SE EXTRAE EN CASO DE QUE EXISTA DE LO CONTRARIO NO\r\n",
    "\r\n",
    "        #EXTRAER EDUCACIÓN\r\n",
    "        if ( len(re.findall(\"'education_org': '.*?'\", ins)) ) > 0:\r\n",
    "            c[\"education\"] =  re.findall(\"'education_org': '.*?'\", ins)[0].replace(\"'education_org': \", \"\").replace(\"'\", \"\")\r\n",
    "\r\n",
    "        #EXTRAER DEGREE\r\n",
    "        if ( len(re.findall(\"'degrees': '.*?'\", ins)) ) > 0:\r\n",
    "            c[\"degrees\"] =  re.findall(\"'degrees': '.*?'\", ins)[0].replace(\"'degrees': \", \"\").replace(\"'\", \"\")\r\n",
    "\r\n",
    "        #EXTRAER SUMMARY\r\n",
    "        if ( len(re.findall(\"'summary': '.*?'\", ins)) ) > 0:\r\n",
    "            c[\"summary\"] =  re.findall(\"'summary': '.*?'\", ins)[0].replace(\"'summary': \", \"\").replace(\"'\", \"\")\r\n",
    "\r\n",
    "\r\n",
    "        #EXTRAER INICIO\r\n",
    "        if ( len(re.findall(\"'start': '.*?'\", ins)) ) > 0:\r\n",
    "            c[\"start\"] = re.findall(\"'start': '.*?'\", ins)[0].replace(\"'start': \", \"\").replace(\"'\", \"\")\r\n",
    "            c[\"start\"] = int(c[\"start\"])\r\n",
    "\r\n",
    "        #EXTRAER FINALIZACIÓN\r\n",
    "        if ( len(re.findall(\"'end': '.*?'\", ins)) ) > 0:\r\n",
    "            c[\"end\"] = re.findall(\"'end': '.*?'\", ins)[0].replace(\"'end': \", \"\").replace(\"'\", \"\")\r\n",
    "            c[\"end\"] = int(c[\"end\"])\r\n",
    "\r\n",
    "        educacion_ind.append(c) #añado cada formación a la lista de sus educaciones\r\n",
    "    \r\n",
    "    K.append(educacion_ind) #añado la educación de cada individuo a una lista general\r\n",
    "\r\n",
    "#VER UN EJEMPLO: Esta es la última formación del primer individuo ordenada en un diccionario\r\n",
    "K[0][0]\r\n",
    "\r\n",
    "dfe[\"educacion\"] = K\r\n"
   ]
  },
  {
   "cell_type": "code",
   "execution_count": 207,
   "metadata": {},
   "outputs": [
    {
     "name": "stderr",
     "output_type": "stream",
     "text": [
      "<ipython-input-207-77869553395e>:11: SettingWithCopyWarning: \n",
      "A value is trying to be set on a copy of a slice from a DataFrame\n",
      "\n",
      "See the caveats in the documentation: https://pandas.pydata.org/pandas-docs/stable/user_guide/indexing.html#returning-a-view-versus-a-copy\n",
      "  dfe[\"end_boot\"][i] = dfe.educacion[i][e][\"end\"]\n",
      "<ipython-input-207-77869553395e>:13: SettingWithCopyWarning: \n",
      "A value is trying to be set on a copy of a slice from a DataFrame\n",
      "\n",
      "See the caveats in the documentation: https://pandas.pydata.org/pandas-docs/stable/user_guide/indexing.html#returning-a-view-versus-a-copy\n",
      "  dfe[\"end_boot\"][i] = dfe.educacion[i][e][\"start\"] #SI NO TENÍA EL FINAL POR LO MENOS SE LE IMPUTÓ EL INICIAL, EXISTE LA POSIBILIDAD DE QUE NO LO HAYA TERMINADO\n"
     ]
    },
    {
     "data": {
      "text/plain": "2015.0"
     },
     "execution_count": 207,
     "metadata": {},
     "output_type": "execute_result"
    }
   ],
   "source": [
    "dfe = dfe.reset_index(drop = True)\r\n",
    "\r\n",
    "dfe[\"end_boot\"] = np.nan \r\n",
    "\r\n",
    "c = 0\r\n",
    "\r\n",
    "for i in range(len(dfe.educacion)):\r\n",
    "    for e in range(len(dfe.educacion[i])): #DENTRO DE LA EDUCACIÓN DE CADA INDIVIDUO\r\n",
    "        if \"education\" in dfe.educacion[i][e].keys() and dfe.educacion[i][e][\"education\"] == dfe.match[i]:\r\n",
    "            if \"end\" in dfe.educacion[i][e].keys():\r\n",
    "                dfe[\"end_boot\"][i] = dfe.educacion[i][e][\"end\"]\r\n",
    "            elif \"start\" in dfe.educacion[i][e].keys():\r\n",
    "                dfe[\"end_boot\"][i] = dfe.educacion[i][e][\"start\"] #SI NO TENÍA EL FINAL POR LO MENOS SE LE IMPUTÓ EL INICIAL, EXISTE LA POSIBILIDAD DE QUE NO LO HAYA TERMINADO\r\n",
    "\r\n",
    "\r\n",
    "dfe[\"end_boot\"][0]"
   ]
  },
  {
   "cell_type": "code",
   "execution_count": 208,
   "metadata": {},
   "outputs": [
    {
     "name": "stderr",
     "output_type": "stream",
     "text": [
      "<ipython-input-208-658f21cfa4ac>:4: SettingWithCopyWarning: \n",
      "A value is trying to be set on a copy of a slice from a DataFrame.\n",
      "Try using .loc[row_indexer,col_indexer] = value instead\n",
      "\n",
      "See the caveats in the documentation: https://pandas.pydata.org/pandas-docs/stable/user_guide/indexing.html#returning-a-view-versus-a-copy\n",
      "  dfc[\"education\"] =  dfc[\"education\"].str.lower()\n",
      "<ipython-input-208-658f21cfa4ac>:6: SettingWithCopyWarning: \n",
      "A value is trying to be set on a copy of a slice from a DataFrame.\n",
      "Try using .loc[row_indexer,col_indexer] = value instead\n",
      "\n",
      "See the caveats in the documentation: https://pandas.pydata.org/pandas-docs/stable/user_guide/indexing.html#returning-a-view-versus-a-copy\n",
      "  dfc[\"certifications\"] =  dfc[\"certifications\"].str.lower()\n"
     ]
    }
   ],
   "source": [
    "#CERTIFICACIÓN\r\n",
    "\r\n",
    "dfc = db[(db[\"search\"]==\"cert_regex\") | (db[\"search\"]==\"cert_fp\") | (db[\"search\"]==\"cert_fs\")]\r\n",
    "dfc[\"education\"] =  dfc[\"education\"].str.lower()\r\n",
    "#CONVERTIR EN STRING\r\n",
    "dfc[\"certifications\"] =  dfc[\"certifications\"].str.lower()\r\n",
    "\r\n",
    "#EXTRAER COLUMNA\r\n",
    "\r\n",
    "L = []\r\n",
    "\r\n",
    "for i in dfc[\"certifications\"]:    \r\n",
    "    l = str(i).split(\"},\") \r\n",
    "    k = [] \r\n",
    "    for formacion in l: \r\n",
    "        formacion = formacion.replace(\"[\", \"\").replace(\"]\", \"\") + \"}\" \r\n",
    "        k.append(formacion) \r\n",
    "    L.append(k)\r\n",
    "     \r\n",
    "L[0][0]\r\n",
    "\r\n",
    "\r\n",
    "\r\n",
    "K = [] \r\n",
    "\r\n",
    "dfc = dfc.reset_index(drop = True)\r\n",
    "\r\n",
    "regxCerAuth = \"'certificate_authority': '.*?'\"\r\n",
    "regexTitle = \"'title': '.*?'\"\r\n",
    "\r\n",
    "for individuo in L: \r\n",
    "\r\n",
    "    educacion_ind = [] \r\n",
    "\r\n",
    "    for ins in individuo: \r\n",
    "        ins = ins.replace('\"', \"'\")\r\n",
    "\r\n",
    "        c = {}\r\n",
    "\r\n",
    "        if ( len(re.findall(\"'certificate_authority': '.*?'\", ins)) ) > 0:\r\n",
    "            c[\"certificate_authority\"] =  re.findall(\"'certificate_authority': '.*?'\", ins)[0].replace(\"'certificate_authority': \", \"\").replace(\"'\", \"\")\r\n",
    "\r\n",
    "        if ( len(re.findall(regexTitle, ins)) ) > 0:\r\n",
    "            c[\"title\"] =  re.findall(\"'title': '.*?'\", ins)[0].replace(\"'title': \", \"\").replace(\"'\", \"\")\r\n",
    "\r\n",
    "        if ( len(re.findall(\"'start': '.*?'\", ins)) ) > 0:\r\n",
    "            c[\"start\"] = re.findall(\"'start': '.*?'\", ins)[0].replace(\"'start': \", \"\").replace(\"'\", \"\")\r\n",
    "            try:\r\n",
    "                c[\"start\"] = int(c[\"start\"][::-1][0:4][::-1])\r\n",
    "            except:\r\n",
    "                None\r\n",
    "\r\n",
    "        if ( len(re.findall(\"'end': '.*?'\", ins)) ) > 0:\r\n",
    "            c[\"end\"] = re.findall(\"'end': '.*?'\", ins)[0].replace(\"'end': \", \"\").replace(\"'\", \"\")\r\n",
    "            try:\r\n",
    "                c[\"end\"] = int(c[\"end\"][::-1][0:4][::-1])\r\n",
    "            except:\r\n",
    "                None\r\n",
    "\r\n",
    "        educacion_ind.append(c) \r\n",
    "    \r\n",
    "    K.append(educacion_ind) \r\n",
    "\r\n",
    "K[0][0]\r\n",
    "\r\n",
    "dfc[\"certifications\"] = K\r\n",
    "\r\n"
   ]
  },
  {
   "cell_type": "code",
   "execution_count": 209,
   "metadata": {},
   "outputs": [
    {
     "data": {
      "text/plain": "[{'certificate_authority': 'agbo',\n  'title': 'course of basics ios programming (agbo training)',\n  'start': 2013,\n  'end': 2013},\n {'certificate_authority': 'agbo',\n  'title': 'course of advanced ios programming',\n  'start': 2014,\n  'end': 2015},\n {'certificate_authority': 'keepcoding',\n  'title': 'swift for objective-c developers',\n  'start': 2015,\n  'end': 'present'}]"
     },
     "execution_count": 209,
     "metadata": {},
     "output_type": "execute_result"
    }
   ],
   "source": [
    "dfc[\"certifications\"][0] #HAY GENTE QUE SIGUE HACIENDOLO O NO LO TERMINÓ EN ESE CASO NO SE LE CONVIRTIÓ EN STRING"
   ]
  },
  {
   "cell_type": "code",
   "execution_count": 210,
   "metadata": {},
   "outputs": [
    {
     "name": "stderr",
     "output_type": "stream",
     "text": [
      "<ipython-input-210-9078b050ebfa>:15: SettingWithCopyWarning: \n",
      "A value is trying to be set on a copy of a slice from a DataFrame\n",
      "\n",
      "See the caveats in the documentation: https://pandas.pydata.org/pandas-docs/stable/user_guide/indexing.html#returning-a-view-versus-a-copy\n",
      "  dfc[\"end_boot\"][i] = dfc.certifications[i][e][\"start\"]\n",
      "<ipython-input-210-9078b050ebfa>:18: SettingWithCopyWarning: \n",
      "A value is trying to be set on a copy of a slice from a DataFrame\n",
      "\n",
      "See the caveats in the documentation: https://pandas.pydata.org/pandas-docs/stable/user_guide/indexing.html#returning-a-view-versus-a-copy\n",
      "  dfc[\"end_boot\"][i] = dfc.certifications[i][e][\"end\"]\n",
      "C:\\Users\\War\\anaconda3\\lib\\site-packages\\pandas\\core\\indexing.py:670: SettingWithCopyWarning: \n",
      "A value is trying to be set on a copy of a slice from a DataFrame\n",
      "\n",
      "See the caveats in the documentation: https://pandas.pydata.org/pandas-docs/stable/user_guide/indexing.html#returning-a-view-versus-a-copy\n",
      "  iloc._setitem_with_indexer(indexer, value)\n",
      "<ipython-input-210-9078b050ebfa>:12: SettingWithCopyWarning: \n",
      "A value is trying to be set on a copy of a slice from a DataFrame\n",
      "\n",
      "See the caveats in the documentation: https://pandas.pydata.org/pandas-docs/stable/user_guide/indexing.html#returning-a-view-versus-a-copy\n",
      "  dfc[\"end_boot\"][i] = dfc.certifications[i][e][\"end\"]\n",
      "<ipython-input-210-9078b050ebfa>:31: SettingWithCopyWarning: \n",
      "A value is trying to be set on a copy of a slice from a DataFrame\n",
      "\n",
      "See the caveats in the documentation: https://pandas.pydata.org/pandas-docs/stable/user_guide/indexing.html#returning-a-view-versus-a-copy\n",
      "  dfc[\"end_boot\"][i] = dfc.certifications[i][e][\"end\"] #en caso de que no tenga inicio y en el final tenga presente, como pasa con el individuo 4\n",
      "<ipython-input-210-9078b050ebfa>:28: SettingWithCopyWarning: \n",
      "A value is trying to be set on a copy of a slice from a DataFrame\n",
      "\n",
      "See the caveats in the documentation: https://pandas.pydata.org/pandas-docs/stable/user_guide/indexing.html#returning-a-view-versus-a-copy\n",
      "  dfc[\"end_boot\"][i] = dfc.certifications[i][e][\"start\"]\n"
     ]
    }
   ],
   "source": [
    "dfc[\"end_boot\"] = np.nan \r\n",
    "\r\n",
    "c = 0\r\n",
    "\r\n",
    "for i in range(len(dfc.certifications)):\r\n",
    "    for e in range(len(dfc.certifications[i])): #DENTRO DE LA EDUCACIÓN DE CADA INDIVIDUO\r\n",
    "        if dfc.cert_field_match[i] == \"authority\" or dfc.cert_field_match[i] == \"certificate_authority\":\r\n",
    "                if \"certificate_authority\" in dfc.certifications[i][e] and dfc.certifications[i][e][\"certificate_authority\"] == dfc.certificate_authority[i]:\r\n",
    "                    if \"end\" in dfc.certifications[i][e].keys() and dfc.certifications[i][e][\"end\"]!=\"present\": #DEJÉ AÑO EN QUE EMPEZÓ\r\n",
    "\r\n",
    "                    # if \"end\" in dfc.certifications[i][e].keys():\r\n",
    "                        dfc[\"end_boot\"][i] = dfc.certifications[i][e][\"end\"]\r\n",
    "\r\n",
    "                    elif \"start\" in dfc.certifications[i][e].keys():\r\n",
    "                        dfc[\"end_boot\"][i] = dfc.certifications[i][e][\"start\"]\r\n",
    "\r\n",
    "                    else:\r\n",
    "                        dfc[\"end_boot\"][i] = dfc.certifications[i][e][\"end\"]\r\n",
    "\r\n",
    "        if dfc.cert_field_match[i] == \"title\":\r\n",
    "            if \"title\" in dfc.certifications[i][e] and dfc.certifications[i][e][\"title\"] == dfc.title[i]:\r\n",
    "            \r\n",
    "                    if \"end\" in dfc.certifications[i][e].keys() and dfc.certifications[i][e][\"end\"]!=\"present\": #DEJÉ AÑO EN QUE EMPEZÓ\r\n",
    "                    # if \"end\" in dfc.certifications[i][e].keys():\r\n",
    "                        dfc[\"end_boot\"][i] = dfc.certifications[i][e][\"end\"]\r\n",
    "\r\n",
    "                    elif \"start\" in dfc.certifications[i][e].keys():\r\n",
    "                        dfc[\"end_boot\"][i] = dfc.certifications[i][e][\"start\"]   \r\n",
    "\r\n",
    "                    else:\r\n",
    "                        dfc[\"end_boot\"][i] = dfc.certifications[i][e][\"end\"] #en caso de que no tenga inicio y en el final tenga presente, como pasa con el individuo 4\r\n",
    "\r\n"
   ]
  },
  {
   "cell_type": "code",
   "execution_count": 211,
   "metadata": {},
   "outputs": [],
   "source": [
    "final_año = dfe.append(dfc)\r\n",
    "final_año = final_año[[\"id\", \"end_boot\"]]"
   ]
  },
  {
   "cell_type": "code",
   "execution_count": 212,
   "metadata": {},
   "outputs": [],
   "source": [
    "df = pd.merge(df, final_año, \"left\", \"id\")\r\n",
    "df = df.to_excel(\"final_db_jh_clean_endboot.xlsx\", index = False)"
   ]
  },
  {
   "cell_type": "code",
   "execution_count": 1,
   "metadata": {},
   "outputs": [],
   "source": []
  },
  {
   "cell_type": "code",
   "execution_count": 19,
   "metadata": {},
   "outputs": [],
   "source": []
  },
  {
   "cell_type": "code",
   "execution_count": 22,
   "metadata": {},
   "outputs": [
    {
     "data": {
      "text/plain": "\"[{'job_title': 'comedienne', 'start': 2012', 'end': 2016}, {'job_title': 'second assistant director', 'start': 2015', 'end': 2015}]\""
     },
     "execution_count": 22,
     "metadata": {},
     "output_type": "execute_result"
    }
   ],
   "source": []
  },
  {
   "cell_type": "code",
   "execution_count": null,
   "metadata": {},
   "outputs": [],
   "source": []
  },
  {
   "cell_type": "code",
   "execution_count": null,
   "metadata": {},
   "outputs": [],
   "source": []
  },
  {
   "cell_type": "code",
   "execution_count": null,
   "metadata": {},
   "outputs": [],
   "source": []
  }
 ],
 "metadata": {
  "kernelspec": {
   "display_name": "Python 3.8.5 64-bit ('base': conda)",
   "name": "python385jvsc74a57bd006cb5fed7a19db1a3b234843391dc1a69eede94e92f070202b04797e91c1cb37"
  },
  "language_info": {
   "name": "python",
   "version": ""
  },
  "orig_nbformat": 2
 },
 "nbformat": 4,
 "nbformat_minor": 2
}