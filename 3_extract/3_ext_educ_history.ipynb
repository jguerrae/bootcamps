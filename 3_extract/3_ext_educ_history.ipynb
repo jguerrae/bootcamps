{
 "cells": [
  {
   "cell_type": "code",
   "execution_count": 7,
   "metadata": {},
   "outputs": [],
   "source": [
    "#LIBRARIES\n",
    "import pandas as pd\n",
    "import re\n",
    "import numpy as np\n",
    "\n",
    "## nomalice parameters\n",
    "from unidecode import unidecode\n",
    "\n",
    "import spacy  # For preprocessing\n",
    "from scipy import spatial\n",
    "from time import time  # To time our operations\n",
    "import matplotlib.pyplot as plt\n",
    "from sklearn.manifold import TSNE\n",
    "from sklearn.cluster import KMeans\n",
    "\n",
    "from tqdm import tqdm\n",
    "\n",
    "from deep_translator import GoogleTranslator\n"
   ]
  },
  {
   "cell_type": "code",
   "execution_count": 8,
   "metadata": {},
   "outputs": [
    {
     "output_type": "stream",
     "name": "stdout",
     "text": [
      "['end', 'developer', 'chief']\nend\ndeveloper\nchief\nhello  end developer chief\n"
     ]
    }
   ],
   "source": [
    "#FUNCIÓN PARA TRADUCIR\n",
    "\n",
    "def translateString(to_translate, languageFinal):\n",
    "    translated = GoogleTranslator(source='auto', target=languageFinal).translate(to_translate)\n",
    "    return translated\n",
    "\n",
    "#FUNCIÓN PARA LIMPIAR\n",
    "nlp = spacy.load(\"en_core_web_sm\")\n",
    "\n",
    "def cleaning(text):\n",
    "    ##text = text.lower()\n",
    "    #text = text.replace('[>/,\\.!?\\-!?\\n\\)\\(\\r]', ' ') \n",
    "    text = re.sub(\"[^A-Za-z']+\", ' ', str(text))\n",
    "    doc = nlp(text)\n",
    "    # Lemmatizes and removes stopwords\n",
    "    # doc needs to be a spacy Doc object\n",
    "    #txt = [token.lemma_ for token in doc if not token.is_stop]\n",
    "    txt = [tok.lemma_.lower() for tok in doc\n",
    "                if not tok.is_stop and not tok.is_punct and tok.is_alpha ]\n",
    "    # Word2Vec uses context words to learn the vector representation of a target word,\n",
    "    # if a sentence is only one or two words long,\n",
    "    # the benefit for the training is very small\n",
    "    ## return an array of ewords\n",
    "    ##return txt\n",
    "    \n",
    "    rta = \"\"\n",
    "    for t in txt:\n",
    "        print(t)\n",
    "        rta+= \" \"+t\n",
    "    return rta\n",
    "\n",
    "print(\"hello\",cleaning(\"Back-end developer chief\"))"
   ]
  },
  {
   "cell_type": "code",
   "execution_count": 9,
   "metadata": {},
   "outputs": [],
   "source": [
    "# LEER DATAFRAME Y EXTRAER JOB HISTORY\n",
    "\n",
    "df = pd.read_excel(\"2_final_db.xlsx\")\n",
    "# df = df [[\"id\", \"job_history\"]]\n",
    "df = df[df.job_history.notna()]"
   ]
  },
  {
   "cell_type": "code",
   "execution_count": 10,
   "metadata": {},
   "outputs": [],
   "source": [
    "#SEPARANDO LOS STRINGS DE CADA TRABAJO\n",
    "\n",
    "L = []\n",
    "\n",
    "for i in df.job_history:\n",
    "    l = str(i).split(\"},\") #convertir en string el job history del individuo y crear lista para separar cada formación\n",
    "    k = [] #Lista donde se almacenara cada formación x del individuo i\n",
    "    for job in l: #para cada trabajo\n",
    "        job = job.replace(\"[\", \"\").replace(\"]\", \"\") + \"}\" #separelos y conviertalas en diccionarios\n",
    "        k.append(job) #añadalas a la lista de jobs\n",
    "    L.append(k) "
   ]
  },
  {
   "cell_type": "code",
   "execution_count": 11,
   "metadata": {},
   "outputs": [
    {
     "output_type": "stream",
     "name": "stderr",
     "text": [
      "100%|██████████| 389/389 [00:00<00:00, 5890.15it/s]\n"
     ]
    }
   ],
   "source": [
    "#EXTRAER DE MANERA ORDENADA EL JOB HISTORY, LA FECHA DE TERMINACIÓN Y COMIENZO\n",
    "\n",
    "K = [] \n",
    "\n",
    "for individuo in tqdm(L): \n",
    "\n",
    "    educacion_ind = [] \n",
    "\n",
    "    for ins in individuo: \n",
    "        ins = ins.replace('\"', \"'\")\n",
    "\n",
    "        c = {}\n",
    "\n",
    "        #EXTRAER JOB-TITLE\n",
    "        if ( len(re.findall(\"'job_title': '.*?'\", ins)) ) > 0:\n",
    "            c[\"job_title\"] =  re.findall(\"'job_title': '.*?'\", ins)[0].replace(\"'job_title': \", \"\").replace(\"'\", \"\")\n",
    "            c[\"job_title\"] = str(c[\"job_title\"])\n",
    "            # c[\"job_title\"] = cleaning(c[\"job_title\"])\n",
    "\n",
    "        #EXTRAER INICIO\n",
    "        if ( len(re.findall(\"'start': '.*?'\", ins)) ) > 0:\n",
    "            c[\"start\"] = re.findall(\"'start': '.*?'\", ins)[0].replace(\"'start': \", \"\").replace(\"'\", \"\")\n",
    "            c[\"start\"] = str(int(c[\"start\"][::-1][0:4][::-1])) #SOLO CONSERVAR EL AÑO \n",
    "\n",
    "        #EXTRAER FINALIZACIÓN\n",
    "        if ( len(re.findall(\"'end': '.*?'\", ins)) ) > 0:\n",
    "            c[\"end\"] = re.findall(\"'end': '.*?'\", ins)[0].replace(\"'end': \", \"\").replace(\"'\", \"\")\n",
    "            c[\"end\"] = str(int(c[\"end\"][::-1][0:4][::-1])) #SOLO CONSERVAR EL AÑO\n",
    "\n",
    "        educacion_ind.append(c) #añado cada formación a la lista de sus educaciones\n",
    "    \n",
    "    K.append(educacion_ind) #añado la educación de cada individuo a una lista general"
   ]
  },
  {
   "cell_type": "code",
   "execution_count": 15,
   "metadata": {},
   "outputs": [
    {
     "output_type": "stream",
     "name": "stderr",
     "text": [
      "100%|██████████| 2/2 [00:02<00:00,  1.04s/it]\n",
      "100%|██████████| 3/3 [00:03<00:00,  1.02s/it]\n",
      "100%|██████████| 4/4 [00:03<00:00,  1.00it/s]\n",
      "100%|██████████| 3/3 [00:09<00:00,  3.06s/it]\n"
     ]
    }
   ],
   "source": [
    "#TRADUCIR Y LIMPIAR \r\n",
    "\r\n",
    "for i in tqdm(K[0:3]):\r\n",
    "    for e in tqdm(i):\r\n",
    "        # A = \"job_title\" in e\r\n",
    "        # if len(e[\"job_title\"])>0 and A == True:\r\n",
    "        try:\r\n",
    "            e[\"job_title\"] = translateString(str(e[\"job_title\"]), \"en\")\r\n",
    "            e[\"job_title\"] = cleaning(e[\"job_title\"])\r\n",
    "        except:\r\n",
    "            None\r\n",
    "        "
   ]
  },
  {
   "cell_type": "code",
   "execution_count": 16,
   "metadata": {},
   "outputs": [
    {
     "data": {
      "text/plain": "[{'job_title': 'comedienne', 'start': 2012, 'end': 2016},\n {'job_title': 'second assistant director', 'start': 2015, 'end': 2015}]"
     },
     "execution_count": 16,
     "metadata": {},
     "output_type": "execute_result"
    }
   ],
   "source": [
    "K[0]"
   ]
  },
  {
   "cell_type": "code",
   "execution_count": 22,
   "metadata": {},
   "outputs": [],
   "source": [
    "#CREAR LA COLUMNA EN EL DATAFRAME\n",
    "df[\"job_history_clean\"] = K"
   ]
  },
  {
   "cell_type": "code",
   "execution_count": 33,
   "metadata": {},
   "outputs": [],
   "source": [
    "df.to_excel(\"final_db_jh_clean.xlsx\", index = False)"
   ]
  },
  {
   "cell_type": "code",
   "execution_count": null,
   "metadata": {},
   "outputs": [],
   "source": []
  },
  {
   "cell_type": "code",
   "execution_count": null,
   "metadata": {},
   "outputs": [],
   "source": []
  },
  {
   "cell_type": "code",
   "execution_count": null,
   "metadata": {},
   "outputs": [],
   "source": []
  },
  {
   "cell_type": "code",
   "execution_count": 34,
   "metadata": {},
   "outputs": [],
   "source": [
    "#EXTRACCIÓN DEL AÑO DE GRADUACIÓN"
   ]
  },
  {
   "cell_type": "code",
   "execution_count": 35,
   "metadata": {},
   "outputs": [],
   "source": [
    "df = pd.read_excel(\"final_db_jh_clean.xlsx\")\n",
    "db = pd.read_excel(\"2_final_db.xlsx\")"
   ]
  },
  {
   "cell_type": "code",
   "execution_count": 36,
   "metadata": {},
   "outputs": [
    {
     "output_type": "stream",
     "name": "stderr",
     "text": [
      "<ipython-input-36-cbfec0ec2f82>:3: SettingWithCopyWarning: \nA value is trying to be set on a copy of a slice from a DataFrame.\nTry using .loc[row_indexer,col_indexer] = value instead\n\nSee the caveats in the documentation: https://pandas.pydata.org/pandas-docs/stable/user_guide/indexing.html#returning-a-view-versus-a-copy\n  dfe[\"education\"] =  dfe[\"education\"].str.lower()\n"
     ]
    }
   ],
   "source": [
    "#BUSCAR EN EDUCACIÓN\n",
    "dfe = db[(db[\"search\"]==\"educ_regex\") | (db[\"search\"]==\"educ_fp\") | (db[\"search\"]==\"educ_fs\")]\n",
    "dfe[\"education\"] =  dfe[\"education\"].str.lower()"
   ]
  },
  {
   "cell_type": "code",
   "execution_count": 37,
   "metadata": {},
   "outputs": [
    {
     "output_type": "stream",
     "name": "stderr",
     "text": [
      "<ipython-input-37-5e5af078b0b5>:59: SettingWithCopyWarning: \nA value is trying to be set on a copy of a slice from a DataFrame.\nTry using .loc[row_indexer,col_indexer] = value instead\n\nSee the caveats in the documentation: https://pandas.pydata.org/pandas-docs/stable/user_guide/indexing.html#returning-a-view-versus-a-copy\n  dfe[\"educacion\"] = K\n"
     ]
    }
   ],
   "source": [
    "\n",
    "L = []\n",
    "\n",
    "for i in dfe[\"education\"]:\n",
    "    l = str(i).split(\"},\") #convertir en string la formación del individuo y crear lista para separar cada formación\n",
    "    k = [] #Lista donde se almacenara cada formación x del individuo i\n",
    "    for formacion in l: #para cada formación\n",
    "        formacion = formacion.replace(\"[\", \"\").replace(\"]\", \"\") + \"}\" #separelas y conviertalas en diccionarios\n",
    "        k.append(formacion) #añadalas a la lista de formación\n",
    "    L.append(k) #añada la lista de formación para individuo\n",
    "\n",
    "#VER UN EJEMPLO: Esta es la última formación del primer individuo desordenada en diccionario pero como un string   \n",
    "L[0][0]\n",
    "\n",
    "\n",
    "K = [] #LISTA D ELISTAS EN DONDE SE ALMACENARAN LAS FORMACIONES A MANERA DE DICCIONARIO PARA CADA INDIVIDUO\n",
    "\n",
    "for individuo in L: #para cada individuo\n",
    "\n",
    "    educacion_ind = [] #creo una lista de sus educaciones\n",
    "\n",
    "    for ins in individuo: # para cada cada formación dentro de las formaciones de cada individuos\n",
    "        ins = ins.replace('\"', \"'\")\n",
    "\n",
    "        c = {}\n",
    "\n",
    "        #CADA CAMPO SE EXTRAE POR MEDIO DE RegEx, COMUNES A TODOS LAS FORMACIONES STR DE LOS INDIVIDUOS EN EL DATASET\n",
    "        #CADA CAMPO SE EXTRAE EN CASO DE QUE EXISTA DE LO CONTRARIO NO\n",
    "\n",
    "        #EXTRAER EDUCACIÓN\n",
    "        if ( len(re.findall(\"'education_org': '.*?'\", ins)) ) > 0:\n",
    "            c[\"education\"] =  re.findall(\"'education_org': '.*?'\", ins)[0].replace(\"'education_org': \", \"\").replace(\"'\", \"\")\n",
    "\n",
    "        #EXTRAER DEGREE\n",
    "        if ( len(re.findall(\"'degrees': '.*?'\", ins)) ) > 0:\n",
    "            c[\"degrees\"] =  re.findall(\"'degrees': '.*?'\", ins)[0].replace(\"'degrees': \", \"\").replace(\"'\", \"\")\n",
    "\n",
    "        #EXTRAER SUMMARY\n",
    "        if ( len(re.findall(\"'summary': '.*?'\", ins)) ) > 0:\n",
    "            c[\"summary\"] =  re.findall(\"'summary': '.*?'\", ins)[0].replace(\"'summary': \", \"\").replace(\"'\", \"\")\n",
    "\n",
    "\n",
    "        #EXTRAER INICIO\n",
    "        if ( len(re.findall(\"'start': '.*?'\", ins)) ) > 0:\n",
    "            c[\"start\"] = re.findall(\"'start': '.*?'\", ins)[0].replace(\"'start': \", \"\").replace(\"'\", \"\")\n",
    "            c[\"start\"] = int(c[\"start\"])\n",
    "\n",
    "        #EXTRAER FINALIZACIÓN\n",
    "        if ( len(re.findall(\"'end': '.*?'\", ins)) ) > 0:\n",
    "            c[\"end\"] = re.findall(\"'end': '.*?'\", ins)[0].replace(\"'end': \", \"\").replace(\"'\", \"\")\n",
    "            c[\"end\"] = int(c[\"end\"])\n",
    "\n",
    "        educacion_ind.append(c) #añado cada formación a la lista de sus educaciones\n",
    "    \n",
    "    K.append(educacion_ind) #añado la educación de cada individuo a una lista general\n",
    "\n",
    "#VER UN EJEMPLO: Esta es la última formación del primer individuo ordenada en un diccionario\n",
    "K[0][0]\n",
    "\n",
    "dfe[\"educacion\"] = K\n"
   ]
  },
  {
   "cell_type": "code",
   "execution_count": 38,
   "metadata": {},
   "outputs": [
    {
     "output_type": "stream",
     "name": "stderr",
     "text": [
      "<ipython-input-38-e8f295580efc>:11: SettingWithCopyWarning: \nA value is trying to be set on a copy of a slice from a DataFrame\n\nSee the caveats in the documentation: https://pandas.pydata.org/pandas-docs/stable/user_guide/indexing.html#returning-a-view-versus-a-copy\n  dfe[\"end_boot\"][i] = dfe.educacion[i][e][\"end\"]\n<ipython-input-38-e8f295580efc>:13: SettingWithCopyWarning: \nA value is trying to be set on a copy of a slice from a DataFrame\n\nSee the caveats in the documentation: https://pandas.pydata.org/pandas-docs/stable/user_guide/indexing.html#returning-a-view-versus-a-copy\n  dfe[\"end_boot\"][i] = dfe.educacion[i][e][\"start\"] #SI NO TENÍA EL FINAL POR LO MENOS SE LE IMPUTÓ EL INICIAL, EXISTE LA POSIBILIDAD DE QUE NO LO HAYA TERMINADO\n"
     ]
    },
    {
     "output_type": "execute_result",
     "data": {
      "text/plain": [
       "2015.0"
      ]
     },
     "metadata": {},
     "execution_count": 38
    }
   ],
   "source": [
    "dfe = dfe.reset_index(drop = True)\n",
    "\n",
    "dfe[\"end_boot\"] = np.nan \n",
    "\n",
    "c = 0\n",
    "\n",
    "for i in range(len(dfe.educacion)):\n",
    "    for e in range(len(dfe.educacion[i])): #DENTRO DE LA EDUCACIÓN DE CADA INDIVIDUO\n",
    "        if \"education\" in dfe.educacion[i][e].keys() and dfe.educacion[i][e][\"education\"] == dfe.match[i]:\n",
    "            if \"end\" in dfe.educacion[i][e].keys():\n",
    "                dfe[\"end_boot\"][i] = dfe.educacion[i][e][\"end\"]\n",
    "            elif \"start\" in dfe.educacion[i][e].keys():\n",
    "                dfe[\"end_boot\"][i] = dfe.educacion[i][e][\"start\"] #SI NO TENÍA EL FINAL POR LO MENOS SE LE IMPUTÓ EL INICIAL, EXISTE LA POSIBILIDAD DE QUE NO LO HAYA TERMINADO\n",
    "\n",
    "\n",
    "dfe[\"end_boot\"][0]"
   ]
  },
  {
   "cell_type": "code",
   "execution_count": 39,
   "metadata": {},
   "outputs": [
    {
     "output_type": "stream",
     "name": "stderr",
     "text": [
      "<ipython-input-39-3538a78712e3>:4: SettingWithCopyWarning: \nA value is trying to be set on a copy of a slice from a DataFrame.\nTry using .loc[row_indexer,col_indexer] = value instead\n\nSee the caveats in the documentation: https://pandas.pydata.org/pandas-docs/stable/user_guide/indexing.html#returning-a-view-versus-a-copy\n  dfc[\"education\"] =  dfc[\"education\"].str.lower()\n<ipython-input-39-3538a78712e3>:6: SettingWithCopyWarning: \nA value is trying to be set on a copy of a slice from a DataFrame.\nTry using .loc[row_indexer,col_indexer] = value instead\n\nSee the caveats in the documentation: https://pandas.pydata.org/pandas-docs/stable/user_guide/indexing.html#returning-a-view-versus-a-copy\n  dfc[\"certifications\"] =  dfc[\"certifications\"].str.lower()\n"
     ]
    }
   ],
   "source": [
    "#CERTIFICACIÓN\n",
    "\n",
    "dfc = db[(db[\"search\"]==\"cert_regex\") | (db[\"search\"]==\"cert_fp\") | (db[\"search\"]==\"cert_fs\")]\n",
    "dfc[\"education\"] =  dfc[\"education\"].str.lower()\n",
    "#CONVERTIR EN STRING\n",
    "dfc[\"certifications\"] =  dfc[\"certifications\"].str.lower()\n",
    "\n",
    "#EXTRAER COLUMNA\n",
    "\n",
    "L = []\n",
    "\n",
    "for i in dfc[\"certifications\"]:    \n",
    "    l = str(i).split(\"},\") \n",
    "    k = [] \n",
    "    for formacion in l: \n",
    "        formacion = formacion.replace(\"[\", \"\").replace(\"]\", \"\") + \"}\" \n",
    "        k.append(formacion) \n",
    "    L.append(k)\n",
    "     \n",
    "L[0][0]\n",
    "\n",
    "\n",
    "\n",
    "K = [] \n",
    "\n",
    "dfc = dfc.reset_index(drop = True)\n",
    "\n",
    "regxCerAuth = \"'certificate_authority': '.*?'\"\n",
    "regexTitle = \"'title': '.*?'\"\n",
    "\n",
    "for individuo in L: \n",
    "\n",
    "    educacion_ind = [] \n",
    "\n",
    "    for ins in individuo: \n",
    "        ins = ins.replace('\"', \"'\")\n",
    "\n",
    "        c = {}\n",
    "\n",
    "        if ( len(re.findall(\"'certificate_authority': '.*?'\", ins)) ) > 0:\n",
    "            c[\"certificate_authority\"] =  re.findall(\"'certificate_authority': '.*?'\", ins)[0].replace(\"'certificate_authority': \", \"\").replace(\"'\", \"\")\n",
    "\n",
    "        if ( len(re.findall(regexTitle, ins)) ) > 0:\n",
    "            c[\"title\"] =  re.findall(\"'title': '.*?'\", ins)[0].replace(\"'title': \", \"\").replace(\"'\", \"\")\n",
    "\n",
    "        if ( len(re.findall(\"'start': '.*?'\", ins)) ) > 0:\n",
    "            c[\"start\"] = re.findall(\"'start': '.*?'\", ins)[0].replace(\"'start': \", \"\").replace(\"'\", \"\")\n",
    "            try:\n",
    "                c[\"start\"] = int(c[\"start\"][::-1][0:4][::-1])\n",
    "            except:\n",
    "                None\n",
    "\n",
    "        if ( len(re.findall(\"'end': '.*?'\", ins)) ) > 0:\n",
    "            c[\"end\"] = re.findall(\"'end': '.*?'\", ins)[0].replace(\"'end': \", \"\").replace(\"'\", \"\")\n",
    "            try:\n",
    "                c[\"end\"] = int(c[\"end\"][::-1][0:4][::-1])\n",
    "            except:\n",
    "                None\n",
    "\n",
    "        educacion_ind.append(c) \n",
    "    \n",
    "    K.append(educacion_ind) \n",
    "\n",
    "K[0][0]\n",
    "\n",
    "dfc[\"certifications\"] = K\n",
    "\n"
   ]
  },
  {
   "cell_type": "code",
   "execution_count": 40,
   "metadata": {},
   "outputs": [
    {
     "output_type": "execute_result",
     "data": {
      "text/plain": [
       "[{'certificate_authority': 'agbo',\n",
       "  'title': 'course of basics ios programming (agbo training)',\n",
       "  'start': 2013,\n",
       "  'end': 2013},\n",
       " {'certificate_authority': 'agbo',\n",
       "  'title': 'course of advanced ios programming',\n",
       "  'start': 2014,\n",
       "  'end': 2015},\n",
       " {'certificate_authority': 'keepcoding',\n",
       "  'title': 'swift for objective-c developers',\n",
       "  'start': 2015,\n",
       "  'end': 'present'}]"
      ]
     },
     "metadata": {},
     "execution_count": 40
    }
   ],
   "source": [
    "dfc[\"certifications\"][0] #HAY GENTE QUE SIGUE HACIENDOLO O NO LO TERMINÓ EN ESE CASO NO SE LE CONVIRTIÓ EN STRING"
   ]
  },
  {
   "cell_type": "code",
   "execution_count": 41,
   "metadata": {},
   "outputs": [
    {
     "output_type": "stream",
     "name": "stderr",
     "text": [
      "<ipython-input-41-2870d1a98261>:15: SettingWithCopyWarning: \nA value is trying to be set on a copy of a slice from a DataFrame\n\nSee the caveats in the documentation: https://pandas.pydata.org/pandas-docs/stable/user_guide/indexing.html#returning-a-view-versus-a-copy\n  dfc[\"end_boot\"][i] = dfc.certifications[i][e][\"start\"]\n<ipython-input-41-2870d1a98261>:18: SettingWithCopyWarning: \nA value is trying to be set on a copy of a slice from a DataFrame\n\nSee the caveats in the documentation: https://pandas.pydata.org/pandas-docs/stable/user_guide/indexing.html#returning-a-view-versus-a-copy\n  dfc[\"end_boot\"][i] = dfc.certifications[i][e][\"end\"]\n/Users/juannnesss/miniconda3/lib/python3.8/site-packages/pandas/core/indexing.py:1637: SettingWithCopyWarning: \nA value is trying to be set on a copy of a slice from a DataFrame\n\nSee the caveats in the documentation: https://pandas.pydata.org/pandas-docs/stable/user_guide/indexing.html#returning-a-view-versus-a-copy\n  self._setitem_single_block(indexer, value, name)\n<ipython-input-41-2870d1a98261>:12: SettingWithCopyWarning: \nA value is trying to be set on a copy of a slice from a DataFrame\n\nSee the caveats in the documentation: https://pandas.pydata.org/pandas-docs/stable/user_guide/indexing.html#returning-a-view-versus-a-copy\n  dfc[\"end_boot\"][i] = dfc.certifications[i][e][\"end\"]\n<ipython-input-41-2870d1a98261>:31: SettingWithCopyWarning: \nA value is trying to be set on a copy of a slice from a DataFrame\n\nSee the caveats in the documentation: https://pandas.pydata.org/pandas-docs/stable/user_guide/indexing.html#returning-a-view-versus-a-copy\n  dfc[\"end_boot\"][i] = dfc.certifications[i][e][\"end\"] #en caso de que no tenga inicio y en el final tenga presente, como pasa con el individuo 4\n<ipython-input-41-2870d1a98261>:28: SettingWithCopyWarning: \nA value is trying to be set on a copy of a slice from a DataFrame\n\nSee the caveats in the documentation: https://pandas.pydata.org/pandas-docs/stable/user_guide/indexing.html#returning-a-view-versus-a-copy\n  dfc[\"end_boot\"][i] = dfc.certifications[i][e][\"start\"]\n"
     ]
    }
   ],
   "source": [
    "dfc[\"end_boot\"] = np.nan \n",
    "\n",
    "c = 0\n",
    "\n",
    "for i in range(len(dfc.certifications)):\n",
    "    for e in range(len(dfc.certifications[i])): #DENTRO DE LA EDUCACIÓN DE CADA INDIVIDUO\n",
    "        if dfc.cert_field_match[i] == \"authority\" or dfc.cert_field_match[i] == \"certificate_authority\":\n",
    "                if \"certificate_authority\" in dfc.certifications[i][e] and dfc.certifications[i][e][\"certificate_authority\"] == dfc.certificate_authority[i]:\n",
    "                    if \"end\" in dfc.certifications[i][e].keys() and dfc.certifications[i][e][\"end\"]!=\"present\": #DEJÉ AÑO EN QUE EMPEZÓ\n",
    "\n",
    "                    # if \"end\" in dfc.certifications[i][e].keys():\n",
    "                        dfc[\"end_boot\"][i] = dfc.certifications[i][e][\"end\"]\n",
    "\n",
    "                    elif \"start\" in dfc.certifications[i][e].keys():\n",
    "                        dfc[\"end_boot\"][i] = dfc.certifications[i][e][\"start\"]\n",
    "\n",
    "                    else:\n",
    "                        dfc[\"end_boot\"][i] = dfc.certifications[i][e][\"end\"]\n",
    "\n",
    "        if dfc.cert_field_match[i] == \"title\":\n",
    "            if \"title\" in dfc.certifications[i][e] and dfc.certifications[i][e][\"title\"] == dfc.title[i]:\n",
    "            \n",
    "                    if \"end\" in dfc.certifications[i][e].keys() and dfc.certifications[i][e][\"end\"]!=\"present\": #DEJÉ AÑO EN QUE EMPEZÓ\n",
    "                    # if \"end\" in dfc.certifications[i][e].keys():\n",
    "                        dfc[\"end_boot\"][i] = dfc.certifications[i][e][\"end\"]\n",
    "\n",
    "                    elif \"start\" in dfc.certifications[i][e].keys():\n",
    "                        dfc[\"end_boot\"][i] = dfc.certifications[i][e][\"start\"]   \n",
    "\n",
    "                    else:\n",
    "                        dfc[\"end_boot\"][i] = dfc.certifications[i][e][\"end\"] #en caso de que no tenga inicio y en el final tenga presente, como pasa con el individuo 4\n",
    "\n"
   ]
  },
  {
   "cell_type": "code",
   "execution_count": 42,
   "metadata": {},
   "outputs": [],
   "source": [
    "final_año = dfe.append(dfc)\n",
    "final_año = final_año[[\"id\", \"end_boot\"]]"
   ]
  },
  {
   "cell_type": "code",
   "execution_count": 43,
   "metadata": {},
   "outputs": [],
   "source": [
    "df = pd.merge(df, final_año, \"left\", \"id\")\n",
    "df = df.to_excel(\"final_db_jh_clean_endboot.xlsx\", index = False)"
   ]
  },
  {
   "cell_type": "code",
   "execution_count": 1,
   "metadata": {},
   "outputs": [],
   "source": []
  },
  {
   "cell_type": "code",
   "execution_count": 19,
   "metadata": {},
   "outputs": [],
   "source": []
  },
  {
   "cell_type": "code",
   "execution_count": 22,
   "metadata": {},
   "outputs": [
    {
     "data": {
      "text/plain": "\"[{'job_title': 'comedienne', 'start': 2012', 'end': 2016}, {'job_title': 'second assistant director', 'start': 2015', 'end': 2015}]\""
     },
     "execution_count": 22,
     "metadata": {},
     "output_type": "execute_result"
    }
   ],
   "source": []
  },
  {
   "cell_type": "code",
   "execution_count": null,
   "metadata": {},
   "outputs": [],
   "source": []
  },
  {
   "cell_type": "code",
   "execution_count": null,
   "metadata": {},
   "outputs": [],
   "source": []
  },
  {
   "cell_type": "code",
   "execution_count": null,
   "metadata": {},
   "outputs": [],
   "source": []
  }
 ],
 "metadata": {
  "kernelspec": {
   "name": "python385jvsc74a57bd0228e8db3c688dacba7aefaa2c6e650b0b46d0846a9fc022573faa59f36d115ef",
   "display_name": "Python 3.8.5 64-bit ('base': conda)"
  },
  "language_info": {
   "name": "python",
   "version": ""
  },
  "orig_nbformat": 2
 },
 "nbformat": 4,
 "nbformat_minor": 4
}