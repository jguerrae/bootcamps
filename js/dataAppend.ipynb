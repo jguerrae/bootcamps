{
 "metadata": {
  "language_info": {
   "codemirror_mode": {
    "name": "ipython",
    "version": 3
   },
   "file_extension": ".py",
   "mimetype": "text/x-python",
   "name": "python",
   "nbconvert_exporter": "python",
   "pygments_lexer": "ipython3",
   "version": "3.8.5"
  },
  "orig_nbformat": 2,
  "kernelspec": {
   "name": "python385jvsc74a57bd0228e8db3c688dacba7aefaa2c6e650b0b46d0846a9fc022573faa59f36d115ef",
   "display_name": "Python 3.8.5 64-bit ('base': conda)"
  }
 },
 "nbformat": 4,
 "nbformat_minor": 2,
 "cells": [
  {
   "cell_type": "code",
   "execution_count": 22,
   "metadata": {},
   "outputs": [],
   "source": [
    "import pathlib\n",
    "import datetime\n",
    "import pandas as pd\n",
    "import re"
   ]
  },
  {
   "cell_type": "code",
   "execution_count": 2,
   "metadata": {},
   "outputs": [
    {
     "output_type": "stream",
     "name": "stdout",
     "text": [
      "os.stat_result(st_mode=16877, st_ino=21866335, st_dev=16777225, st_nlink=152, st_uid=501, st_gid=20, st_size=4864, st_atime=1623118716, st_mtime=1623118715, st_ctime=1623166735)\n"
     ]
    }
   ],
   "source": [
    "fname = pathlib.Path('Profiles/')\n",
    "assert fname.exists(), f'No such file: {fname}'  # check that the file exists\n",
    "print(fname.stat())\n"
   ]
  },
  {
   "cell_type": "code",
   "execution_count": 6,
   "metadata": {},
   "outputs": [],
   "source": [
    "p = pathlib.Path(r'Profiles').glob('**/*')\n",
    "files = [x for x in p if x.is_file()]"
   ]
  },
  {
   "cell_type": "code",
   "execution_count": 10,
   "metadata": {},
   "outputs": [
    {
     "output_type": "stream",
     "name": "stdout",
     "text": [
      "150\n"
     ]
    }
   ],
   "source": [
    "print(len(files))"
   ]
  },
  {
   "cell_type": "code",
   "execution_count": 17,
   "metadata": {},
   "outputs": [
    {
     "output_type": "stream",
     "name": "stdout",
     "text": [
      "2021-06-07 21:03:03.833226\n"
     ]
    }
   ],
   "source": [
    "date = files[1].stat().st_mtime\n",
    "ctime = datetime.datetime.fromtimestamp(date)\n",
    "print(ctime)"
   ]
  },
  {
   "cell_type": "code",
   "execution_count": 18,
   "metadata": {},
   "outputs": [],
   "source": [
    "def timeStamp(file):\n",
    "    return file.stat().st_mtime\n",
    "sortedA = sorted(files, key=timeStamp)"
   ]
  },
  {
   "cell_type": "code",
   "execution_count": 29,
   "metadata": {},
   "outputs": [
    {
     "output_type": "execute_result",
     "data": {
      "text/plain": [
       "PosixPath('Profiles/150 de .txt')"
      ]
     },
     "metadata": {},
     "execution_count": 29
    }
   ],
   "source": [
    "sortedA[0]"
   ]
  },
  {
   "cell_type": "code",
   "execution_count": 21,
   "metadata": {},
   "outputs": [
    {
     "output_type": "stream",
     "name": "stdout",
     "text": [
      "2021-06-07 21:06:42.037018\n2021-06-07 21:16:44.543768\n"
     ]
    }
   ],
   "source": [
    "date = files[149].stat().st_mtime\n",
    "ctime = datetime.datetime.fromtimestamp(date)\n",
    "print(ctime)\n",
    "\n",
    "date2 = sortedA[149].stat().st_mtime\n",
    "ctime2= datetime.datetime.fromtimestamp(date2)\n",
    "print(ctime2)"
   ]
  },
  {
   "cell_type": "code",
   "execution_count": 25,
   "metadata": {},
   "outputs": [],
   "source": [
    "df = pd.read_excel(\"Profiles required for a representative sample of 600.xlsx\")"
   ]
  },
  {
   "cell_type": "code",
   "execution_count": 39,
   "metadata": {},
   "outputs": [
    {
     "output_type": "execute_result",
     "data": {
      "text/plain": [
       "Bootcamps                                      Muktek Academy\n",
       "Link         https://www.linkedin.com/in/joel-fagundo-sierra/\n",
       "INFO                                                        0\n",
       "Name: 599, dtype: object"
      ]
     },
     "metadata": {},
     "execution_count": 39
    }
   ],
   "source": [
    "df.iloc[599]"
   ]
  },
  {
   "cell_type": "code",
   "execution_count": 50,
   "metadata": {
    "tags": []
   },
   "outputs": [
    {
     "output_type": "stream",
     "name": "stdout",
     "text": [
      "0\n1\n2\n3\n4\n5\n6\n7\n8\n9\n10\n11\n12\n13\n14\n15\n16\n17\n18\n19\n20\n21\n22\n23\n24\n25\n26\n27\n28\n29\n30\n31\n32\n33\n34\n35\n36\n37\n38\n39\n40\n41\n42\n43\n44\n45\n46\n47\n48\nnan\n50\n51\n52\n53\n54\n55\n56\n57\n58\n59\n60\n61\n62\n63\n64\n65\n66\n67\n68\n69\n70\n71\n72\n73\n74\n75\n76\n77\n78\n79\n80\n81\n82\n83\n84\n85\n86\n87\n88\n89\n90\n91\n92\n93\n94\n95\n96\n97\n98\n99\n100\ndone\n101\n102\n103\n104\n105\n106\n107\n108\n109\n110\n111\n112\n113\n114\n115\n116\n117\n118\n119\n120\n121\n122\n123\n124\n125\n126\n127\n128\n129\n130\n131\n132\n133\n134\n135\n136\n137\n138\n139\n140\n141\n142\n143\n144\n145\n146\n147\n148\n"
     ]
    }
   ],
   "source": [
    "total  = len(sortedA)\n",
    "initialIndex = 599\n",
    "for i in range(0,total):\n",
    "    \n",
    "    fileTemp = sortedA[i]\n",
    "    fileName = str(fileTemp)\n",
    "    fileData = open(fileName,\"r\").read()\n",
    "    text_after = re.sub(\"/(\\r\\n)+|\\r+|\\n+|\\t+/\", \" \", fileData)\n",
    "    print( df.iloc[initialIndex].INFO)\n",
    "    df.iloc[initialIndex].INFO = text_after\n",
    "    initialIndex = initialIndex-1\n"
   ]
  },
  {
   "cell_type": "code",
   "execution_count": 51,
   "metadata": {},
   "outputs": [],
   "source": [
    "df.to_excel(\"appended.xlsx\", index = False)"
   ]
  },
  {
   "cell_type": "code",
   "execution_count": null,
   "metadata": {},
   "outputs": [],
   "source": []
  }
 ]
}