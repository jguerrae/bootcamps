{
 "cells": [
  {
   "cell_type": "code",
   "execution_count": 11,
   "metadata": {},
   "outputs": [],
   "source": [
    "import pandas as pd\n",
    "import re\n",
    "import numpy as np\n",
    "\n",
    "## FUZZY\n",
    "from fuzzywuzzy import fuzz\n",
    "from fuzzywuzzy import process\n",
    "\n",
    "## nomalice parameters\n",
    "from unidecode import unidecode\n"
   ]
  },
  {
   "cell_type": "code",
   "execution_count": 12,
   "metadata": {},
   "outputs": [],
   "source": [
    "df = pd.read_csv(\"DF_BOOTCAMPS_5158.csv\")"
   ]
  },
  {
   "cell_type": "code",
   "execution_count": 13,
   "metadata": {},
   "outputs": [],
   "source": [
    "dfc = df[df[\"certifications\"].notna()] #DATAFRAME DE CERTIFICACIÓN\n",
    "dfc = dfc.reset_index(drop = True) #REINICIAR INDICE"
   ]
  },
  {
   "cell_type": "code",
   "execution_count": 14,
   "metadata": {},
   "outputs": [
    {
     "data": {
      "text/plain": "(1702, 29)"
     },
     "execution_count": 14,
     "metadata": {},
     "output_type": "execute_result"
    }
   ],
   "source": [
    "dfc.shape"
   ]
  },
  {
   "cell_type": "markdown",
   "metadata": {},
   "source": [
    "# EXTRAER FORMACIÓN DESDE EL DATASET DE LOS NO-MISSING VALUES DE EDUCACIÓN"
   ]
  },
  {
   "cell_type": "code",
   "execution_count": 15,
   "metadata": {},
   "outputs": [],
   "source": [
    "lista_boots = ['4Geeks',\r\n",
    " 'Acámica',\r\n",
    " 'Ada ITW',\r\n",
    " 'Bedu Tech',\r\n",
    " 'Bogotá Dev',\r\n",
    " 'Bootcamp Institute',\r\n",
    " 'Coderise International',\r\n",
    " 'Desafío Latam',\r\n",
    " 'Dev F.',\r\n",
    " 'Digital House',\r\n",
    " 'Generation Mexico',\r\n",
    " 'Hack Academy',\r\n",
    " 'HolaCode',\r\n",
    " 'Holberton School',\r\n",
    " 'Iron Hack',\r\n",
    " 'Keep Coding',\r\n",
    " 'Kod1go',\r\n",
    " 'Laboratoria',\r\n",
    " 'Le Wagon',\r\n",
    " 'MindHub ',\r\n",
    " 'Muktek Academy',\r\n",
    " 'Noukod',\r\n",
    " 'Plataforma 5',\r\n",
    " 'World Tech Inc (a.k.a. World Tech Makers –WTM–)']"
   ]
  },
  {
   "cell_type": "code",
   "execution_count": 16,
   "metadata": {},
   "outputs": [],
   "source": [
    "# REGEX DE BOOTCAMPS ACTUALIZADAS\r\n",
    "boots =['4[ -]?geeks',\r\n",
    " 'ac.mica',\r\n",
    " 'ada.?itw',\r\n",
    " 'bedu[ -]?tech', \r\n",
    " 'bogot.[ -]?dev| bogot.[ -]?bootcamp',\r\n",
    " 'bootcamp[ -]?institute',\r\n",
    " 'coderise|coderise.?international',\r\n",
    " 'desaf.o[ -]?latam',\r\n",
    " 'dev ?f\\.',\r\n",
    " 'digital[ -]?house',\r\n",
    " 'generation[ -]?m.xico',\r\n",
    " 'hack.?academy',\r\n",
    " 'hola.?code',\r\n",
    " 'holberton.?school',\r\n",
    " 'iron.?hack',\r\n",
    " 'keep.?coding|keep.?coding.io',\r\n",
    " 'kod[ -]?1[ -]?go',\r\n",
    " 'laborat.ria ', \r\n",
    " 'le.?wagon', \r\n",
    " 'mind.?hub',\r\n",
    " 'muktek|muk.?tek', \r\n",
    " 'noukod|noukood|noukd', \r\n",
    " 'plataforma[ -]?5',\r\n",
    " 'worldtech$'] "
   ]
  },
  {
   "cell_type": "code",
   "execution_count": 17,
   "metadata": {},
   "outputs": [],
   "source": [
    "#CONVERTIR EN STRING\n",
    "dfc[\"certifications\"] =  dfc[\"certifications\"].str.lower()"
   ]
  },
  {
   "cell_type": "code",
   "execution_count": 18,
   "metadata": {
    "tags": []
   },
   "outputs": [
    {
     "data": {
      "text/plain": "\"{'certificate_authority': 'nepal engineering council', 'end': 'present', 'start': 'august 2014', 'title': 'certificate for the registered engineer'}\""
     },
     "execution_count": 18,
     "metadata": {},
     "output_type": "execute_result"
    }
   ],
   "source": [
    "L = []\n",
    "\n",
    "for i in dfc[\"certifications\"]:    \n",
    "    l = str(i).split(\"},\") \n",
    "    k = [] \n",
    "    for formacion in l: \n",
    "        formacion = formacion.replace(\"[\", \"\").replace(\"]\", \"\") + \"}\" \n",
    "        k.append(formacion) \n",
    "    L.append(k)\n",
    "     \n",
    "L[0][0]"
   ]
  },
  {
   "cell_type": "code",
   "execution_count": 19,
   "metadata": {},
   "outputs": [
    {
     "data": {
      "text/plain": "{'certificate_authority': 'nepal engineering council',\n 'title': 'certificate for the registered engineer',\n 'start': 'august 2014',\n 'end': 'present'}"
     },
     "execution_count": 19,
     "metadata": {},
     "output_type": "execute_result"
    }
   ],
   "source": [
    "K = [] \n",
    "\n",
    "regxCerAuth = \"'certificate_authority': '.*?'\"\n",
    "regexTitle = \"'title': '.*?'\"\n",
    "\n",
    "for individuo in L: \n",
    "\n",
    "    educacion_ind = [] \n",
    "\n",
    "    for ins in individuo: \n",
    "        ins = ins.replace('\"', \"'\")\n",
    "\n",
    "        c = {}\n",
    "\n",
    "        if ( len(re.findall(\"'certificate_authority': '.*?'\", ins)) ) > 0:\n",
    "            c[\"certificate_authority\"] =  re.findall(\"'certificate_authority': '.*?'\", ins)[0].replace(\"'certificate_authority': \", \"\").replace(\"'\", \"\")\n",
    "\n",
    "        if ( len(re.findall(regexTitle, ins)) ) > 0:\n",
    "            c[\"title\"] =  re.findall(\"'title': '.*?'\", ins)[0].replace(\"'title': \", \"\").replace(\"'\", \"\")\n",
    "\n",
    "        if ( len(re.findall(\"'start': '.*?'\", ins)) ) > 0:\n",
    "            c[\"start\"] = re.findall(\"'start': '.*?'\", ins)[0].replace(\"'start': \", \"\").replace(\"'\", \"\")\n",
    "\n",
    "        if ( len(re.findall(\"'end': '.*?'\", ins)) ) > 0:\n",
    "            c[\"end\"] = re.findall(\"'end': '.*?'\", ins)[0].replace(\"'end': \", \"\").replace(\"'\", \"\")\n",
    "\n",
    "        educacion_ind.append(c) \n",
    "    \n",
    "    K.append(educacion_ind) \n",
    "\n",
    "K[0][0]"
   ]
  },
  {
   "cell_type": "code",
   "execution_count": 20,
   "metadata": {},
   "outputs": [],
   "source": [
    "#CREAR COLUMNA LIMPIA DE EDUCACIÓN\n",
    "dfc[\"certifications\"] = K"
   ]
  },
  {
   "cell_type": "code",
   "execution_count": 21,
   "metadata": {},
   "outputs": [
    {
     "data": {
      "text/plain": "{'certificate_authority': 'nepal engineering council',\n 'title': 'certificate for the registered engineer',\n 'start': 'august 2014',\n 'end': 'present'}"
     },
     "execution_count": 21,
     "metadata": {},
     "output_type": "execute_result"
    }
   ],
   "source": [
    "#VER UN EJEMPLO: Esta es la última formación del primer individuo ordenada en un diccionario\n",
    "dfc.certifications[0][0]"
   ]
  },
  {
   "cell_type": "code",
   "execution_count": 22,
   "metadata": {},
   "outputs": [],
   "source": [
    "#LOOP PARA BUSCAR SI EL INDIVIDUO TIENE FORMACIÓN EN ALGÚN BOOTCAMP EN EL CAMPO DE CERTIFICATION - AUTHORITY\n",
    "\n",
    "c = []\n",
    "\n",
    "for boot in range(len(boots)): \n",
    "    for i in range(len(dfc.certifications)): \n",
    "        for h in range(len(dfc.certifications[i])): \n",
    "            \n",
    "            if \"certificate_authority\" in dfc.certifications[i][h]: \n",
    "                A = re.findall(boots[boot], dfc.certifications[i][h][\"certificate_authority\"]) \n",
    "                if len(A) > 0 : \n",
    "\n",
    "                    c.append((dfc.id[i], boots[boot], lista_boots[boot], dfc.certifications[i][h]['certificate_authority'], dfc.certifications[i][h]['title'], \"authority\"))\n",
    "\n",
    "c = list(set(c))      \n",
    "CA = pd.DataFrame.from_records(c, columns=['id', 'regex_bootcamp', 'bootcamp', \"certificate_authority\", \"title\", \"cert_field_match\"])            "
   ]
  },
  {
   "cell_type": "code",
   "execution_count": 23,
   "metadata": {},
   "outputs": [],
   "source": [
    "#LOOP PARA BUSCAR SI EL INDIVIDUO TIENE FORMACIÓN EN ALGÚN BOOTCAMP EN EL CAMPO DE CERTIFICATION - TITLE\n",
    "d = []\n",
    "for boot in range(len(boots)): #PARA CADA BOOTCAMP\n",
    "    for i in range(len(dfc.certifications)): #PARA CADA INDIVIDUO\n",
    "        for h in range(len(dfc.certifications[i])): #DENTRO LA EDUCACIÓN DE CADA INDIVIDUO\n",
    "            # print(dfc.certifications[i][h]['certificate_authority'])\n",
    "\n",
    "            if \"title\" in dfc.certifications[i][h]: #SI TIENE EL CAMPO EDUCACIÓN\n",
    "                A = re.findall(boots[boot], dfc.certifications[i][h][\"title\"]) #REVISA SI ESTÁ EN UN BOOTCAMP\n",
    "\n",
    "                if len(A) > 0 : #SI ESA REVISIÓN ES NO VACÍA\n",
    "                    if \"certificate_authority\" in dfc.certifications[i][h]:\n",
    "                        d.append((dfc.id[i], boots[boot], lista_boots[boot], dfc.certifications[i][h]['certificate_authority'], dfc.certifications[i][h]['title'], \"title\"))\n",
    "                    else:\n",
    "                        d.append((dfc.id[i], boots[boot], lista_boots[boot], np.nan, dfc.certifications[i][h]['title'], \"title\"))\n",
    "d = list(set(d))      \n",
    "CT = pd.DataFrame.from_records(d, columns=['id', 'regex_bootcamp', 'bootcamp', \"certificate_authority\", \"title\", \"cert_field_match\"])"
   ]
  },
  {
   "cell_type": "code",
   "execution_count": 24,
   "metadata": {},
   "outputs": [],
   "source": [
    "cert_regex = pd.concat([CA, CT])\n",
    "cert_regex = cert_regex.drop_duplicates(subset='id', keep=\"first\")\n",
    "cert_regex.to_excel(\"2_cert_regex.xlsx\", index = False)"
   ]
  },
  {
   "cell_type": "code",
   "execution_count": 25,
   "metadata": {},
   "outputs": [],
   "source": [
    "#CERT FUZZY PARTIAL\n",
    "\n",
    "k = []\n",
    "for boot in range(len(boots)):\n",
    "    for i in range(len(dfc.certifications)): \n",
    "        for h in range(len(dfc.certifications[i])): \n",
    "            if \"certificate_authority\" in dfc.certifications[i][h]: \n",
    "                bootCAMP = lista_boots[boot]\n",
    "                bootCAMP = bootCAMP.lower()\n",
    "                bootCAMP = unidecode(bootCAMP)\n",
    "                norEdu =  unidecode(dfc.certifications[i][h][\"certificate_authority\"])\n",
    "                ## se hace un aproach a fuzzy\n",
    "                wordLen = len(dfc.certifications[i][h][\"certificate_authority\"])\n",
    "                ratio = fuzz.partial_ratio(bootCAMP,norEdu)\n",
    "                # ratio = fuzz.token_set_ratio(bootCAMP,norEdu)\n",
    "                #print(ratio)\n",
    "                ##dev f, minin string\n",
    "                if ratio>85 and wordLen >=5:\n",
    "                    k.append((dfc.id[i], boots[boot], lista_boots[boot], dfc.certifications[i][h]['certificate_authority'], dfc.certifications[i][h]['title'], \"certificate_authority\", ratio))\n",
    "k = list(set(k))      \n",
    "CFP = pd.DataFrame.from_records(k, columns=['id', 'regex_bootcamp', 'bootcamp', \"certificate_authority\", \"title\", \"cert_field_match\", \"ratio\"])\n",
    "CFP.to_excel(\"2_cert_fp.xlsx\", index = False)"
   ]
  },
  {
   "cell_type": "code",
   "execution_count": 26,
   "metadata": {},
   "outputs": [],
   "source": [
    "#CERT FUZZY SET\n",
    "\n",
    "u = []\n",
    "for boot in range(len(boots)):\n",
    "    for i in range(len(dfc.certifications)): \n",
    "        for h in range(len(dfc.certifications[i])): \n",
    "            if \"certificate_authority\" in dfc.certifications[i][h]: \n",
    "                bootCAMP = lista_boots[boot]\n",
    "                bootCAMP = bootCAMP.lower()\n",
    "                bootCAMP = unidecode(bootCAMP)\n",
    "                norEdu =  unidecode(dfc.certifications[i][h][\"certificate_authority\"])\n",
    "                ## se hace un aproach a fuzzy\n",
    "                wordLen = len(dfc.certifications[i][h][\"certificate_authority\"])\n",
    "                # ratio = fuzz.partial_ratio(bootCAMP,norEdu)\n",
    "                ratio = fuzz.token_set_ratio(bootCAMP,norEdu)\n",
    "                #print(ratio)\n",
    "                ##dev f, minin string\n",
    "                if ratio>85 and wordLen >=5:\n",
    "                    u.append((dfc.id[i], boots[boot], lista_boots[boot], dfc.certifications[i][h]['certificate_authority'], dfc.certifications[i][h]['title'], \"certificate_authority\", ratio))\n",
    "u = list(set(u))      \n",
    "CFS = pd.DataFrame.from_records(u, columns=['id', 'regex_bootcamp', 'bootcamp', \"certificate_authority\", \"title\", \"cert_field_match\", \"ratio\"])\n",
    "CFS.to_excel(\"2_cert_fs.xlsx\", index = False)"
   ]
  },
  {
   "cell_type": "code",
   "execution_count": null,
   "metadata": {},
   "outputs": [],
   "source": []
  },
  {
   "cell_type": "code",
   "execution_count": null,
   "metadata": {},
   "outputs": [],
   "source": []
  },
  {
   "cell_type": "code",
   "execution_count": null,
   "metadata": {},
   "outputs": [],
   "source": []
  }
 ],
 "metadata": {
  "kernelspec": {
   "display_name": "Python 3.8.5 64-bit ('base': conda)",
   "name": "python385jvsc74a57bd006cb5fed7a19db1a3b234843391dc1a69eede94e92f070202b04797e91c1cb37"
  },
  "language_info": {
   "codemirror_mode": {
    "name": "ipython",
    "version": 3
   },
   "file_extension": ".py",
   "mimetype": "text/x-python",
   "name": "python",
   "nbconvert_exporter": "python",
   "pygments_lexer": "ipython3",
   "version": "3.8.5"
  }
 },
 "nbformat": 4,
 "nbformat_minor": 4
}