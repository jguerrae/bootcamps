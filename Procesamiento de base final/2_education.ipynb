{
 "cells": [
  {
   "cell_type": "code",
   "execution_count": 1,
   "metadata": {},
   "outputs": [
    {
     "name": "stderr",
     "output_type": "stream",
     "text": [
      "C:\\Users\\War\\anaconda3\\lib\\site-packages\\fuzzywuzzy\\fuzz.py:11: UserWarning: Using slow pure-python SequenceMatcher. Install python-Levenshtein to remove this warning\n",
      "  warnings.warn('Using slow pure-python SequenceMatcher. Install python-Levenshtein to remove this warning')\n"
     ]
    }
   ],
   "source": [
    "import pandas as pd\n",
    "import re\n",
    "import numpy as np\n",
    "\n",
    "## FUZZY\n",
    "from fuzzywuzzy import fuzz\n",
    "from fuzzywuzzy import process\n",
    "## nomalice parameters\n",
    "from unidecode import unidecode"
   ]
  },
  {
   "cell_type": "code",
   "execution_count": 2,
   "metadata": {},
   "outputs": [],
   "source": [
    "df = pd.read_csv(\"DF_BOOTCAMPS_5158.csv\")"
   ]
  },
  {
   "cell_type": "code",
   "execution_count": 3,
   "metadata": {},
   "outputs": [],
   "source": [
    "#CONSERVAR A TODOS AQUELLOS QUE NO TENGAN MISSING VALUES EN EDUCATION Y CERTIFICATION. \n",
    "\n",
    "dfe = df[df[\"education\"].notna()] #DATAFRAME DE EDUCATION\n",
    "dfe = dfe.reset_index(drop = True) #REINICIAR INDICE\n",
    "\n",
    "dfc = df[df[\"certifications\"].notna()] #DATAFRAME DE CERTIFICACIÓN"
   ]
  },
  {
   "cell_type": "code",
   "execution_count": 19,
   "metadata": {},
   "outputs": [],
   "source": [
    "# REGEX DE BOOTCAMPS ACTUALIZADAS\r\n",
    "boots =['4[ -]?geeks',\r\n",
    " 'ac.mica',\r\n",
    " 'ada.?itw',\r\n",
    " 'bedu[ -]?tech', \r\n",
    " 'bogot.[ -]?dev| bogot.[ -]?bootcamp',\r\n",
    " 'bootcamp[ -]?institute',\r\n",
    " 'coderise|coderise.?international',\r\n",
    " 'desaf.o[ -]?latam',\r\n",
    " 'dev ?f\\.',\r\n",
    " 'digital[ -]?house',\r\n",
    " 'generation[ -]?m.xico',\r\n",
    " 'hack.?academy',\r\n",
    " 'hola.?code',\r\n",
    " 'holberton.?school',\r\n",
    " 'iron.?hack',\r\n",
    " 'keep.?coding|keep.?coding.io',\r\n",
    " 'kod[ -]?1[ -]?go',\r\n",
    " 'laborat.ria ', \r\n",
    " 'le.?wagon', \r\n",
    " 'mind.?hub',\r\n",
    " 'muktek|muk.?tek', \r\n",
    " 'noukod|noukood|noukd', \r\n",
    " 'plataforma[ -]?5',\r\n",
    " 'worldtech$'] "
   ]
  },
  {
   "cell_type": "code",
   "execution_count": 20,
   "metadata": {},
   "outputs": [],
   "source": [
    "lista_boots = ['4Geeks',\r\n",
    " 'Acámica',\r\n",
    " 'Ada ITW',\r\n",
    " 'Bedu Tech',\r\n",
    " 'Bogotá Dev',\r\n",
    " 'Bootcamp Institute',\r\n",
    " 'Coderise International',\r\n",
    " 'Desafío Latam',\r\n",
    " 'Dev F.',\r\n",
    " 'Digital House',\r\n",
    " 'Generation Mexico',\r\n",
    " 'Hack Academy',\r\n",
    " 'HolaCode',\r\n",
    " 'Holberton School',\r\n",
    " 'Iron Hack',\r\n",
    " 'Keep Coding',\r\n",
    " 'Kod1go',\r\n",
    " 'Laboratoria',\r\n",
    " 'Le Wagon',\r\n",
    " 'MindHub ',\r\n",
    " 'Muktek Academy',\r\n",
    " 'Noukod',\r\n",
    " 'Plataforma 5',\r\n",
    " 'World Tech Inc (a.k.a. World Tech Makers –WTM–)']"
   ]
  },
  {
   "cell_type": "markdown",
   "metadata": {},
   "source": [
    "# EXTRAER FORMACIÓN DESDE EL DATASET DE LOS NO-MISSING VALUES DE EDUCACIÓN"
   ]
  },
  {
   "cell_type": "code",
   "execution_count": 21,
   "metadata": {},
   "outputs": [],
   "source": [
    "#CONVERTIR EN STRING\n",
    "dfe[\"education\"] =  dfe[\"education\"].str.lower()"
   ]
  },
  {
   "cell_type": "code",
   "execution_count": 22,
   "metadata": {},
   "outputs": [
    {
     "data": {
      "text/plain": [
       "\"{'education_org': 'university of oxford', 'degrees': 'university of oxford – oxford royale academy, english and culture, common european framework of reference: profiecient user', 'end': '2013', 'start': '2013'}\""
      ]
     },
     "execution_count": 22,
     "metadata": {},
     "output_type": "execute_result"
    }
   ],
   "source": [
    "#CONVERTIR EN DICCIONARIOS LA EDUCACIÓN\n",
    "L = []\n",
    "\n",
    "for i in dfe[\"education\"]:\n",
    "    l = str(i).split(\"},\") #convertir en string la formación del individuo y crear lista para separar cada formación\n",
    "    k = [] #Lista donde se almacenara cada formación x del individuo i\n",
    "    for formacion in l: #para cada formación\n",
    "        formacion = formacion.replace(\"[\", \"\").replace(\"]\", \"\") + \"}\" #separelas y conviertalas en diccionarios\n",
    "        k.append(formacion) #añadalas a la lista de formación\n",
    "    L.append(k) #añada la lista de formación para individuo\n",
    "\n",
    "#VER UN EJEMPLO: Esta es la última formación del primer individuo desordenada en diccionario pero como un string   \n",
    "L[0][0]"
   ]
  },
  {
   "cell_type": "code",
   "execution_count": 23,
   "metadata": {},
   "outputs": [
    {
     "data": {
      "text/plain": [
       "{'education': 'university of oxford',\n",
       " 'degrees': 'university of oxford – oxford royale academy, english and culture, common european framework of reference: profiecient user',\n",
       " 'start': '2013',\n",
       " 'end': '2013'}"
      ]
     },
     "execution_count": 23,
     "metadata": {},
     "output_type": "execute_result"
    }
   ],
   "source": [
    "K = [] #LISTA D ELISTAS EN DONDE SE ALMACENARAN LAS FORMACIONES A MANERA DE DICCIONARIO PARA CADA INDIVIDUO\n",
    "\n",
    "for individuo in L: #para cada individuo\n",
    "\n",
    "    educacion_ind = [] #creo una lista de sus educaciones\n",
    "\n",
    "    for ins in individuo: # para cada cada formación dentro de las formaciones de cada individuos\n",
    "        ins = ins.replace('\"', \"'\")\n",
    "\n",
    "        c = {}\n",
    "\n",
    "        #CADA CAMPO SE EXTRAE POR MEDIO DE RegEx, COMUNES A TODOS LAS FORMACIONES STR DE LOS INDIVIDUOS EN EL DATASET\n",
    "        #CADA CAMPO SE EXTRAE EN CASO DE QUE EXISTA DE LO CONTRARIO NO\n",
    "\n",
    "        #EXTRAER EDUCACIÓN\n",
    "        if ( len(re.findall(\"'education_org': '.*?'\", ins)) ) > 0:\n",
    "            c[\"education\"] =  re.findall(\"'education_org': '.*?'\", ins)[0].replace(\"'education_org': \", \"\").replace(\"'\", \"\")\n",
    "\n",
    "        #EXTRAER DEGREE\n",
    "        if ( len(re.findall(\"'degrees': '.*?'\", ins)) ) > 0:\n",
    "            c[\"degrees\"] =  re.findall(\"'degrees': '.*?'\", ins)[0].replace(\"'degrees': \", \"\").replace(\"'\", \"\")\n",
    "\n",
    "        #EXTRAER SUMMARY\n",
    "        if ( len(re.findall(\"'summary': '.*?'\", ins)) ) > 0:\n",
    "            c[\"summary\"] =  re.findall(\"'summary': '.*?'\", ins)[0].replace(\"'summary': \", \"\").replace(\"'\", \"\")\n",
    "\n",
    "\n",
    "        #EXTRAER INICIO\n",
    "        if ( len(re.findall(\"'start': '.*?'\", ins)) ) > 0:\n",
    "            c[\"start\"] = re.findall(\"'start': '.*?'\", ins)[0].replace(\"'start': \", \"\").replace(\"'\", \"\")\n",
    "\n",
    "        #EXTRAER FINALIZACIÓN\n",
    "        if ( len(re.findall(\"'end': '.*?'\", ins)) ) > 0:\n",
    "            c[\"end\"] = re.findall(\"'end': '.*?'\", ins)[0].replace(\"'end': \", \"\").replace(\"'\", \"\")\n",
    "\n",
    "        educacion_ind.append(c) #añado cada formación a la lista de sus educaciones\n",
    "    \n",
    "    K.append(educacion_ind) #añado la educación de cada individuo a una lista general\n",
    "\n",
    "#VER UN EJEMPLO: Esta es la última formación del primer individuo ordenada en un diccionario\n",
    "K[0][0]"
   ]
  },
  {
   "cell_type": "code",
   "execution_count": 24,
   "metadata": {},
   "outputs": [],
   "source": [
    "#CREAR COLUMNA LIMPIA DE EDUCACIÓN\n",
    "dfe[\"educacion\"] = K"
   ]
  },
  {
   "cell_type": "code",
   "execution_count": 25,
   "metadata": {},
   "outputs": [
    {
     "data": {
      "text/plain": [
       "{'education': 'vrije universiteit amsterdam',\n",
       " 'degrees': '(pre)-master, organization science',\n",
       " 'summary': '(schakeljaar tussen hbo-opleiding en masterstudie)\\\\n afstudeeronderzoek bij het ministerie van sociale zaken en werkgelegenheid(szw)\\\\n onderzoek op welke manier(en) de invoering van ‘het nieuwe werken’ bij het ministerie van szw, invloed heeft (gehad) op de betrokkenheid van de werknemers bij het uitvoeren hun werkzaamheden.\\\\n activities and societies: lid van faculteitsvereniging eos',\n",
       " 'start': '2011',\n",
       " 'end': '2012'}"
      ]
     },
     "execution_count": 25,
     "metadata": {},
     "output_type": "execute_result"
    }
   ],
   "source": [
    "#VER UN EJEMPLO: Esta es la última formación del primer individuo ordenada en un diccionario\n",
    "dfe.educacion[0][2]"
   ]
  },
  {
   "cell_type": "code",
   "execution_count": 26,
   "metadata": {},
   "outputs": [],
   "source": [
    "#LOOP PARA BUSCAR SI EL INDIVIDUO TIENE FORMACIÓN EN ALGÚN BOOTCAMP\n",
    "c = []\n",
    "for boot in range(len(boots)): #PARA CADA BOOTCAMP\n",
    "    for i in range(len(dfe.educacion)): #PARA CADA INDIVIDUO\n",
    "        for h in range(len(dfe.educacion[i])): #DENTRO LA EDUCACIÓN DE CADA INDIVIDUO\n",
    "            if \"education\" in dfe.educacion[i][h]: #SI TIENE EL CAMPO EDUCACIÓN\n",
    "                A = re.findall(boots[boot], dfe.educacion[i][h][\"education\"]) #REVISA SI ESTÁ EN UN BOOTCAMP\n",
    "                if len(A) > 0 : #SI ESA REVISIÓN ES NO VACÍA\n",
    "                    c.append((dfe.id[i], boots[boot], lista_boots[boot], dfe.educacion[i][h]['education']))\n",
    "                    # c.append((dfe.id[i], h)) #AÑADE EL ID DE ESE INDIVIDUO Y EL LUGAR DONDE ESTÁ ESA EDUCACIÓN\n",
    "                    # print(f\"{dfe['job_title'][i]}---{A}---{boots[boot]}--{dfe.educacion[i][h]['education']} \\n \\n\")\n",
    "\n",
    "#CREAR DATAFRAME\n",
    "c = list(set(c))\n",
    "educ_boots = pd.DataFrame.from_records(c, columns=['id', 'regex_bootcamp', 'bootcamp', \"educ_title\"])\n",
    "\n",
    "#HACER MERGE CON EL RESTO DE COLUMNAS\n",
    "# educ_boots = pd.merge(educ_boots, dfe, \"left\", \"id\")\n",
    "educ_boots.to_excel(\"2_educ_regex.xlsx\", index = False)"
   ]
  },
  {
   "cell_type": "code",
   "execution_count": 27,
   "metadata": {},
   "outputs": [],
   "source": [
    "#EDUC PARTUL\n",
    "k = []\n",
    "## se utiliza los nombres normales\n",
    "for boot in range(len(lista_boots)): #PARA CADA BOOTCAMP\n",
    "    for i in range(len(dfe.educacion)): #PARA CADA INDIVIDUO\n",
    "        for h in range(len(dfe.educacion[i])): #DENTRO LA EDUCACIÓN DE CADA INDIVIDUO\n",
    "            if \"education\" in dfe.educacion[i][h]: #SI TIENE EL CAMPO EDUCACIÓN\n",
    "                ## se hace un aproach a fuzzy\n",
    " \n",
    "                bootCAMP = lista_boots[boot]\n",
    "                bootCAMP = bootCAMP.lower()\n",
    "                bootCAMP = unidecode(bootCAMP)\n",
    "                norEdu =  unidecode(dfe.educacion[i][h][\"education\"])\n",
    "                \n",
    "                wordLen = len(dfe.educacion[i][h][\"education\"])\n",
    "                ratio = fuzz.partial_ratio(bootCAMP,norEdu)\n",
    "\n",
    "                if ratio>85 and wordLen >=5:\n",
    "                    k.append((dfe.id[i], boots[boot], lista_boots[boot], dfe.educacion[i][h]['education'],ratio))\n",
    "\n",
    "\n",
    "#CREAR DATAFRAME\n",
    "k = list(set(k))\n",
    "educ_fp = pd.DataFrame.from_records(k, columns=['id', 'regex_bootcamp', 'bootcamp', \"educ_title\", \"ratio\"])\n",
    "\n",
    "#HACER MERGE CON EL RESTO DE COLUMNAS\n",
    "# educ_boots = pd.merge(educ_boots, dfe, \"left\", \"id\")\n",
    "educ_fp.to_excel(\"2_educ_fp.xlsx\", index = False)"
   ]
  },
  {
   "cell_type": "code",
   "execution_count": 28,
   "metadata": {},
   "outputs": [],
   "source": [
    "#EDUC PARTIAL\n",
    "\n",
    "p = []\n",
    "## se utiliza los nombres normales\n",
    "for boot in range(len(lista_boots)): #PARA CADA BOOTCAMP\n",
    "    for i in range(len(dfe.educacion)): #PARA CADA INDIVIDUO\n",
    "        for h in range(len(dfe.educacion[i])): #DENTRO LA EDUCACIÓN DE CADA INDIVIDUO\n",
    "            if \"education\" in dfe.educacion[i][h]: #SI TIENE EL CAMPO EDUCACIÓN\n",
    "                ## se hace un aproach a fuzzy\n",
    "                bootCAMP = lista_boots[boot]\n",
    "                bootCAMP = bootCAMP.lower()\n",
    "                bootCAMP = unidecode(bootCAMP)\n",
    "                norEdu =  unidecode(dfe.educacion[i][h][\"education\"])\n",
    "                ## se hace un aproach a fuzzy\n",
    "                wordLen = len(dfe.educacion[i][h][\"education\"])\n",
    "                # ratio = fuzz.partial_ratio(bootCAMP,norEdu)\n",
    "                #ratio = fuzz.token_sort_ratio(bootCAMP,norEdu)\n",
    "                ratio = fuzz.token_set_ratio(bootCAMP,norEdu)\n",
    "                #print(ratio)\n",
    "                if ratio>85 and wordLen >=5:\n",
    "                    p.append((dfe.id[i], boots[boot], lista_boots[boot], dfe.educacion[i][h]['education'],ratio))\n",
    "\n",
    "#CREAR DATAFRAME\n",
    "p = list(set(p))\n",
    "educ_fs = pd.DataFrame.from_records(p, columns=['id', 'regex_bootcamp', 'bootcamp', \"educ_title\", \"ratio\"])\n",
    "\n",
    "#HACER MERGE CON EL RESTO DE COLUMNAS\n",
    "# educ_boots = pd.merge(educ_boots, dfe, \"left\", \"id\")\n",
    "educ_fs.to_excel(\"2_educ_fs.xlsx\", index = False)"
   ]
  },
  {
   "cell_type": "code",
   "execution_count": null,
   "metadata": {},
   "outputs": [],
   "source": []
  },
  {
   "cell_type": "code",
   "execution_count": null,
   "metadata": {},
   "outputs": [],
   "source": []
  }
 ],
 "metadata": {
  "interpreter": {
   "hash": "06cb5fed7a19db1a3b234843391dc1a69eede94e92f070202b04797e91c1cb37"
  },
  "kernelspec": {
   "display_name": "Python 3.8.5 64-bit ('base': conda)",
   "name": "python3"
  },
  "language_info": {
   "name": "python",
   "version": ""
  }
 },
 "nbformat": 4,
 "nbformat_minor": 4
}