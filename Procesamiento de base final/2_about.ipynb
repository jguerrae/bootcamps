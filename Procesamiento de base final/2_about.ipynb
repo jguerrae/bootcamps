{
 "cells": [
  {
   "cell_type": "markdown",
   "metadata": {},
   "source": [
    "# Extracción de perfiles a partir de about"
   ]
  },
  {
   "cell_type": "code",
   "execution_count": 5,
   "metadata": {},
   "outputs": [],
   "source": [
    "#LIBRARIES\n",
    "import pandas as pd\n",
    "import re\n",
    "import numpy as np\n",
    "\n",
    "## FUZZY\n",
    "from fuzzywuzzy import fuzz\n",
    "from fuzzywuzzy import process\n",
    "\n",
    "## nomalice parameters\n",
    "from unidecode import unidecode"
   ]
  },
  {
   "cell_type": "code",
   "execution_count": 6,
   "metadata": {},
   "outputs": [],
   "source": [
    "df = pd.read_csv(\"DF_BOOTCAMPS_5158.csv\")"
   ]
  },
  {
   "cell_type": "code",
   "execution_count": 7,
   "metadata": {},
   "outputs": [],
   "source": [
    "dfa = df[df[\"about\"].notna()] \r\n",
    "dfa = dfa.reset_index(drop = True) "
   ]
  },
  {
   "cell_type": "code",
   "execution_count": 8,
   "metadata": {},
   "outputs": [
    {
     "data": {
      "text/plain": "(2873, 29)"
     },
     "execution_count": 8,
     "metadata": {},
     "output_type": "execute_result"
    }
   ],
   "source": [
    "dfa.shape"
   ]
  },
  {
   "cell_type": "markdown",
   "metadata": {},
   "source": [
    "# EXTRAER FORMACIÓN DESDE EL DATASET DE LOS NO-MISSING VALUES DE ABOUT"
   ]
  },
  {
   "cell_type": "code",
   "execution_count": 9,
   "metadata": {},
   "outputs": [],
   "source": [
    "#CONVERTIR EN STRING\n",
    "dfa[\"about\"] =  dfa[\"about\"].str.lower()"
   ]
  },
  {
   "cell_type": "code",
   "execution_count": 10,
   "metadata": {},
   "outputs": [],
   "source": [
    "#NOMBRE DE BOOTCAMPS\r\n",
    "lista_boots = ['4Geeks',\r\n",
    " 'Acámica',\r\n",
    " 'Ada ITW',\r\n",
    " 'Bedu Tech',\r\n",
    " 'Bogotá Dev',\r\n",
    " 'Bootcamp Institute',\r\n",
    " 'Coderise International',\r\n",
    " 'Desafío Latam',\r\n",
    " 'Dev F.',\r\n",
    " 'Digital House',\r\n",
    " 'Generation Mexico',\r\n",
    " 'Hack Academy',\r\n",
    " 'HolaCode',\r\n",
    " 'Holberton School',\r\n",
    " 'Iron Hack',\r\n",
    " 'Keep Coding',\r\n",
    " 'Kod1go',\r\n",
    " 'Laboratoria',\r\n",
    " 'Le Wagon',\r\n",
    " 'MindHub ',\r\n",
    " 'Muktek Academy',\r\n",
    " 'Noukod',\r\n",
    " 'Plataforma 5',\r\n",
    " 'World Tech Inc (a.k.a. World Tech Makers –WTM–)']"
   ]
  },
  {
   "cell_type": "code",
   "execution_count": 11,
   "metadata": {},
   "outputs": [],
   "source": [
    "# REGEX DE BOOTCAMPS\r\n",
    "boots =['4[ -]?geeks',\r\n",
    " 'ac.mica',\r\n",
    " 'ada.?itw',\r\n",
    " 'bedu[ -]?tech', \r\n",
    " 'bogot.[ -]?dev| bogot.[ -]?bootcamp',\r\n",
    " 'bootcamp[ -]?institute',\r\n",
    " 'coderise|coderise.?international',\r\n",
    " 'desaf.o[ -]?latam',\r\n",
    " 'dev ?f\\.',\r\n",
    " 'digital[ -]?house',\r\n",
    " 'generation[ -]?m.xico',\r\n",
    " 'hack.?academy',\r\n",
    " 'hola.?code',\r\n",
    " 'holberton.?school',\r\n",
    " 'iron.?hack',\r\n",
    " 'keep.?coding|keep.?coding.io',\r\n",
    " 'kod[ -]?1[ -]?go',\r\n",
    " 'laborat.ria ', \r\n",
    " 'le.?wagon', \r\n",
    " 'mind.?hub',\r\n",
    " 'muktek|muk.?tek', \r\n",
    " 'noukod|noukood|noukd', \r\n",
    " 'plataforma[ -]?5',\r\n",
    " 'worldtech$'] "
   ]
  },
  {
   "cell_type": "code",
   "execution_count": 12,
   "metadata": {},
   "outputs": [],
   "source": [
    "#BUSQUEDA CON REGEX\n",
    "c = []\n",
    "for boot in range(len(boots)): \n",
    "    for i in range(len(dfa.about)): \n",
    "        A = re.findall(boots[boot], dfa.about[i])\n",
    "        if len(A) > 0:\n",
    "            c.append((dfa.id[i], boots[boot], lista_boots[boot]))\n",
    "\n",
    "            # print(f\"{dfa['job_title'][i]}---{A[0]}---{boots[boot]}--- \\n {dfa.about[i]} \\n ------------------------------------------\\n\")\n",
    "\n",
    "\n",
    "#CREAR DATAFRAME\n",
    "c = list(set(c))\n",
    "about_regex = pd.DataFrame.from_records(c, columns=['id', 'regex_bootcamp', 'bootcamp'])\n",
    "\n",
    "#HACER MERGE CON EL RESTO DE COLUMNAS Y EXPORTAR \n",
    "# about_regex = pd.merge(about_regex, dfa, \"left\", \"id\")\n",
    "\n",
    "about_regex.to_excel(\"2_about_regex.xlsx\", index = False)"
   ]
  },
  {
   "cell_type": "code",
   "execution_count": 13,
   "metadata": {},
   "outputs": [],
   "source": [
    "#BUSQUEDA CON FUZZY PARTIAL\n",
    "d = []\n",
    "for boot in range(len(lista_boots)): #PARA CADA BOOTCAMP\n",
    "    for i in range(len(dfa.about)): #PARA CADA INDIVIDUO\n",
    "        bootCAMP = lista_boots[boot]\n",
    "        bootCAMP = bootCAMP.lower()\n",
    "        bootCAMP = unidecode(bootCAMP)\n",
    "        norEdu =  unidecode(dfa.about[i])\n",
    "        ## se hace un aproach a fuzzy\n",
    "        wordLen = len(dfa.about[i])\n",
    "        ratio = fuzz.partial_ratio(bootCAMP,norEdu)\n",
    "        #ratio = fuzz.token_sort_ratio(bootCAMP,norEdu)\n",
    "        #ratio = fuzz.token_set_ratio(bootCAMP,norEdu)\n",
    "        #print(ratio)\n",
    "        if ratio>85 and wordLen >=5:\n",
    "            d.append((dfa.id[i], boots[boot], lista_boots[boot], ratio))\n",
    "\n",
    "#CREAR DATAFRAME\n",
    "d = list(set(d))\n",
    "about_fp = pd.DataFrame.from_records(d, columns=['id', 'regex_bootcamp', 'bootcamp', 'ratio'])\n",
    "\n",
    "#HACER MERGE CON EL RESTO DE COLUMNAS Y EXPORTAR \n",
    "# about_fp = pd.merge(about_fp, dfa, \"left\", \"id\")\n",
    "\n",
    "about_fp.to_excel(\"2_about_fp.xlsx\", index = False)"
   ]
  },
  {
   "cell_type": "code",
   "execution_count": null,
   "metadata": {},
   "outputs": [],
   "source": [
    "#BUSQUEDA CON FUZZY SET\n",
    "k = []\n",
    "for boot in range(len(lista_boots)): #PARA CADA BOOTCAMP\n",
    "    for i in range(len(dfa.about)): #PARA CADA INDIVIDUO\n",
    "        bootCAMP = lista_boots[boot]\n",
    "        bootCAMP = bootCAMP.lower()\n",
    "        bootCAMP = unidecode(bootCAMP)\n",
    "        norEdu =  unidecode(dfa.about[i])\n",
    "        ## se hace un aproach a fuzzy\n",
    "        wordLen = len(dfa.about[i])\n",
    "        # ratio = fuzz.partial_ratio(bootCAMP,norEdu)\n",
    "        # ratio = fuzz.token_sort_ratio(bootCAMP,norEdu)\n",
    "        ratio = fuzz.token_set_ratio(bootCAMP,norEdu)\n",
    "        #print(ratio)\n",
    "        if ratio>85 and wordLen >=5:\n",
    "            try:\n",
    "                k.append((dfa.id[i], boots[boot], lista_boots[boot], ratio))\n",
    "            except:\n",
    "                None\n",
    "\n",
    "#CREAR DATAFRAME\n",
    "k = list(set(k))\n",
    "about_fs = pd.DataFrame.from_records(k, columns=['id', 'regex_bootcamp', 'bootcamp', 'ratio'])\n",
    "\n",
    "#HACER MERGE CON EL RESTO DE COLUMNAS Y EXPORTAR \n",
    "# about_fp = pd.merge(about_fp, dfa, \"left\", \"id\")\n",
    "\n",
    "about_fs.to_excel(\"2_about_fs.xlsx\", index = False)"
   ]
  },
  {
   "cell_type": "code",
   "execution_count": null,
   "metadata": {},
   "outputs": [],
   "source": []
  }
 ],
 "metadata": {
  "kernelspec": {
   "display_name": "Python 3.8.5 64-bit ('base': conda)",
   "name": "python385jvsc74a57bd006cb5fed7a19db1a3b234843391dc1a69eede94e92f070202b04797e91c1cb37"
  },
  "language_info": {
   "codemirror_mode": {
    "name": "ipython",
    "version": 3
   },
   "file_extension": ".py",
   "mimetype": "text/x-python",
   "name": "python",
   "nbconvert_exporter": "python",
   "pygments_lexer": "ipython3",
   "version": "3.8.5"
  },
  "orig_nbformat": 2
 },
 "nbformat": 4,
 "nbformat_minor": 2
}